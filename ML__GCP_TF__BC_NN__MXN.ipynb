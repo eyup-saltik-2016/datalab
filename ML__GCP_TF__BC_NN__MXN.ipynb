{
 "cells": [
  {
   "cell_type": "markdown",
   "metadata": {},
   "source": [
    "# Machine Learning (ML): Google Cloud Platform (GCP): TensorFlow (TF): Financial Time-Series\n",
    "# Model 01 = Binary Classifier\n",
    "# Model 02 = Neural Network"
   ]
  },
  {
   "cell_type": "markdown",
   "metadata": {},
   "source": [
    "## 1) Import Libraries"
   ]
  },
  {
   "cell_type": "code",
   "execution_count": 1,
   "metadata": {
    "collapsed": false
   },
   "outputs": [],
   "source": [
    "import StringIO\n",
    "\n",
    "import pandas as pd\n",
    "from pandas.tools.plotting import autocorrelation_plot\n",
    "from pandas.tools.plotting import scatter_matrix\n",
    "\n",
    "import numpy as np\n",
    "\n",
    "import matplotlib.pyplot as plt\n",
    "\n",
    "import gcp\n",
    "import gcp.bigquery as bq\n",
    "\n",
    "import tensorflow as tf"
   ]
  },
  {
   "cell_type": "markdown",
   "metadata": {},
   "source": [
    "## 2) Install stuff"
   ]
  },
  {
   "cell_type": "code",
   "execution_count": 2,
   "metadata": {
    "collapsed": false
   },
   "outputs": [
    {
     "name": "stdout",
     "output_type": "stream",
     "text": [
      "Downloading/unpacking xlrd\n",
      "  Downloading xlrd-1.0.0.tar.gz (2.6MB): 2.6MB downloaded\n",
      "  Running setup.py (path:/tmp/pip-build-A5MTxa/xlrd/setup.py) egg_info for package xlrd\n",
      "    \n",
      "    warning: no files found matching 'README.html'\n",
      "Installing collected packages: xlrd\n",
      "  Running setup.py install for xlrd\n",
      "    changing mode of build/scripts-2.7/runxlrd.py from 644 to 755\n",
      "    \n",
      "    warning: no files found matching 'README.html'\n",
      "    changing mode of /usr/local/bin/runxlrd.py to 755\n",
      "\u001b[33m  Could not find .egg-info directory in install record for xlrd\n",
      "\u001b[0mSuccessfully installed xlrd\n",
      "Cleaning up...\n"
     ]
    }
   ],
   "source": [
    "# Install xlrd\n",
    "!pip install xlrd"
   ]
  },
  {
   "cell_type": "markdown",
   "metadata": {},
   "source": [
    "## 3) Get the data from dropbox excel file"
   ]
  },
  {
   "cell_type": "code",
   "execution_count": 3,
   "metadata": {
    "collapsed": true
   },
   "outputs": [],
   "source": [
    "# Save file on dropbox.com\n",
    "# Right click to get the link\n",
    "force = 1\n",
    "\n",
    "# url_data_raw = 'https://www.dropbox.com/s/t8egr3lqxlpzcj8/data_raw.xlsm' # (dropbox for wylie.chan@gmail.com)\n",
    "# url_data_raw = 'https://www.dropbox.com/s/9hlf1lrmqfy093v/data_raw.xlsm' #  (dropbox for eyup.saltik.2016@gmail.com)  \n",
    "url_data_raw = 'https://www.dropbox.com/s/hwkuunzjvj9vph5/data_raw_03.xlsm' # updated 2016/07/04"
   ]
  },
  {
   "cell_type": "code",
   "execution_count": 4,
   "metadata": {
    "collapsed": false
   },
   "outputs": [
    {
     "name": "stdout",
     "output_type": "stream",
     "text": [
      "data_raw_03.xlsm\n",
      "converted 'https://www.dropbox.com/s/hwkuunzjvj9vph5/data_raw_03.xlsm' (ANSI_X3.4-1968) -> 'https://www.dropbox.com/s/hwkuunzjvj9vph5/data_raw_03.xlsm' (UTF-8)\n",
      "--2016-07-26 01:32:18--  https://www.dropbox.com/s/hwkuunzjvj9vph5/data_raw_03.xlsm\n",
      "Resolving www.dropbox.com (www.dropbox.com)... 108.160.172.206\n",
      "Connecting to www.dropbox.com (www.dropbox.com)|108.160.172.206|:443... connected.\n",
      "HTTP request sent, awaiting response... 302 Found\n",
      "Location: https://dl.dropboxusercontent.com/content_link/zUSZ8lTiOPfTbnjFUmtL1N3V69kiBOroyvu0ZXhOzxS2yVGMcWrYzL5BMLMVjkQj/file [following]\n",
      "converted 'https://dl.dropboxusercontent.com/content_link/zUSZ8lTiOPfTbnjFUmtL1N3V69kiBOroyvu0ZXhOzxS2yVGMcWrYzL5BMLMVjkQj/file' (ANSI_X3.4-1968) -> 'https://dl.dropboxusercontent.com/content_link/zUSZ8lTiOPfTbnjFUmtL1N3V69kiBOroyvu0ZXhOzxS2yVGMcWrYzL5BMLMVjkQj/file' (UTF-8)\n",
      "--2016-07-26 01:32:20--  https://dl.dropboxusercontent.com/content_link/zUSZ8lTiOPfTbnjFUmtL1N3V69kiBOroyvu0ZXhOzxS2yVGMcWrYzL5BMLMVjkQj/file\n",
      "Resolving dl.dropboxusercontent.com (dl.dropboxusercontent.com)... 45.58.75.133\n",
      "Connecting to dl.dropboxusercontent.com (dl.dropboxusercontent.com)|45.58.75.133|:443... connected.\n",
      "HTTP request sent, awaiting response... 200 OK\n",
      "Length: 2807027 (2.7M) [application/vnd.ms-excel.sheet.macroEnabled.12]\n",
      "Saving to: 'data_raw_03.xlsm'\n",
      "\n",
      "data_raw_03.xlsm    100%[=====================>]   2.68M  12.0MB/s   in 0.2s   \n",
      "\n",
      "2016-07-26 01:32:20 (12.0 MB/s) - 'data_raw_03.xlsm' saved [2807027/2807027]\n",
      "\n"
     ]
    }
   ],
   "source": [
    "# Import file using url to file on dropbox\n",
    "from urlparse import urlparse\n",
    "from os.path import basename\n",
    "\n",
    "bn_data_raw = basename(urlparse(url_data_raw).path)\n",
    "print bn_data_raw\n",
    "\n",
    "try:\n",
    "    already_downloaded\n",
    "except:\n",
    "    already_downloaded = False\n",
    "    \n",
    "if force or not already_downloaded:\n",
    "    already_downloaded = True\n",
    "    !rm $bn_data_raw\n",
    "    !wget $url_data_raw\n",
    "#!ls -l"
   ]
  },
  {
   "cell_type": "markdown",
   "metadata": {},
   "source": [
    "## 4) Read the Excel file raw data"
   ]
  },
  {
   "cell_type": "code",
   "execution_count": 5,
   "metadata": {
    "collapsed": false
   },
   "outputs": [
    {
     "data": {
      "text/html": [
       "<div>\n",
       "<table border=\"1\" class=\"dataframe\">\n",
       "  <thead>\n",
       "    <tr style=\"text-align: right;\">\n",
       "      <th></th>\n",
       "      <th>0</th>\n",
       "      <th>1</th>\n",
       "      <th>2</th>\n",
       "      <th>3</th>\n",
       "      <th>4</th>\n",
       "      <th>5</th>\n",
       "      <th>6</th>\n",
       "      <th>7</th>\n",
       "      <th>8</th>\n",
       "      <th>9</th>\n",
       "      <th>...</th>\n",
       "      <th>77</th>\n",
       "      <th>78</th>\n",
       "      <th>79</th>\n",
       "      <th>80</th>\n",
       "      <th>81</th>\n",
       "      <th>82</th>\n",
       "      <th>83</th>\n",
       "      <th>84</th>\n",
       "      <th>85</th>\n",
       "      <th>86</th>\n",
       "    </tr>\n",
       "  </thead>\n",
       "  <tbody>\n",
       "    <tr>\n",
       "      <th>0</th>\n",
       "      <td>Ticker</td>\n",
       "      <td>USDMXN Curncy</td>\n",
       "      <td>ASURB MM Equity</td>\n",
       "      <td>BIMBOA MM Equity</td>\n",
       "      <td>CN1 Comdty</td>\n",
       "      <td>CT350188 Curncy</td>\n",
       "      <td>DU1 Comdty</td>\n",
       "      <td>ED749713@BVAL Corp</td>\n",
       "      <td>EMRUEMRU Index</td>\n",
       "      <td>EURMXN3Y Curncy</td>\n",
       "      <td>...</td>\n",
       "      <td>USSA25 ICPL Curncy</td>\n",
       "      <td>USSA30 ICPL Curncy</td>\n",
       "      <td>USSP15 CMPN Curncy</td>\n",
       "      <td>USSP20 CMPN Curncy</td>\n",
       "      <td>USSP25 CMPN Curncy</td>\n",
       "      <td>USSW15 CMPN Curncy</td>\n",
       "      <td>USSW20 CMPN Curncy</td>\n",
       "      <td>USSW25 CMPN Curncy</td>\n",
       "      <td>USSW30 CMPN Curncy</td>\n",
       "      <td>XQ1 Comdty</td>\n",
       "    </tr>\n",
       "    <tr>\n",
       "      <th>1</th>\n",
       "      <td>Date</td>\n",
       "      <td>USDMXN Curncy</td>\n",
       "      <td>ASURB MM Equity</td>\n",
       "      <td>BIMBOA MM Equity</td>\n",
       "      <td>CN1 Comdty</td>\n",
       "      <td>CT350188 Curncy</td>\n",
       "      <td>DU1 Comdty</td>\n",
       "      <td>ED749713@BVAL Corp</td>\n",
       "      <td>EMRUEMRU Index</td>\n",
       "      <td>EURMXN3Y Curncy</td>\n",
       "      <td>...</td>\n",
       "      <td>USSA25 ICPL Curncy</td>\n",
       "      <td>USSA30 ICPL Curncy</td>\n",
       "      <td>USSP15 CMPN Curncy</td>\n",
       "      <td>USSP20 CMPN Curncy</td>\n",
       "      <td>USSP25 CMPN Curncy</td>\n",
       "      <td>USSW15 CMPN Curncy</td>\n",
       "      <td>USSW20 CMPN Curncy</td>\n",
       "      <td>USSW25 CMPN Curncy</td>\n",
       "      <td>USSW30 CMPN Curncy</td>\n",
       "      <td>XQ1 Comdty</td>\n",
       "    </tr>\n",
       "    <tr>\n",
       "      <th>2</th>\n",
       "      <td>2016-05-27 00:00:00</td>\n",
       "      <td>18.4751</td>\n",
       "      <td>289.95</td>\n",
       "      <td>55.4</td>\n",
       "      <td>141.28</td>\n",
       "      <td>424.14</td>\n",
       "      <td>111.85</td>\n",
       "      <td>118.813</td>\n",
       "      <td>66.0342</td>\n",
       "      <td>35645.2</td>\n",
       "      <td>...</td>\n",
       "      <td>2.102</td>\n",
       "      <td>2.138</td>\n",
       "      <td>-10.63</td>\n",
       "      <td>-18</td>\n",
       "      <td>-31.63</td>\n",
       "      <td>1.943</td>\n",
       "      <td>2.074</td>\n",
       "      <td>2.133</td>\n",
       "      <td>2.1738</td>\n",
       "      <td>124.13</td>\n",
       "    </tr>\n",
       "    <tr>\n",
       "      <th>3</th>\n",
       "      <td>2016-05-26 00:00:00</td>\n",
       "      <td>18.4544</td>\n",
       "      <td>284.68</td>\n",
       "      <td>55.29</td>\n",
       "      <td>141.83</td>\n",
       "      <td>427.999</td>\n",
       "      <td>111.845</td>\n",
       "      <td>118.75</td>\n",
       "      <td>65.282</td>\n",
       "      <td>35316.9</td>\n",
       "      <td>...</td>\n",
       "      <td>2.104</td>\n",
       "      <td>2.139</td>\n",
       "      <td>-10.46</td>\n",
       "      <td>-17.65</td>\n",
       "      <td>-31.43</td>\n",
       "      <td>1.928</td>\n",
       "      <td>2.0575</td>\n",
       "      <td>2.125</td>\n",
       "      <td>2.1598</td>\n",
       "      <td>124.3</td>\n",
       "    </tr>\n",
       "    <tr>\n",
       "      <th>4</th>\n",
       "      <td>2016-05-25 00:00:00</td>\n",
       "      <td>18.4852</td>\n",
       "      <td>281.4</td>\n",
       "      <td>56.33</td>\n",
       "      <td>140.98</td>\n",
       "      <td>5392.86</td>\n",
       "      <td>111.825</td>\n",
       "      <td>118.438</td>\n",
       "      <td>65.9242</td>\n",
       "      <td>35680.2</td>\n",
       "      <td>...</td>\n",
       "      <td>2.107</td>\n",
       "      <td>2.14</td>\n",
       "      <td>-11.11</td>\n",
       "      <td>-18.4</td>\n",
       "      <td>-32.03</td>\n",
       "      <td>1.955</td>\n",
       "      <td>2.0825</td>\n",
       "      <td>2.1453</td>\n",
       "      <td>2.1785</td>\n",
       "      <td>124.11</td>\n",
       "    </tr>\n",
       "  </tbody>\n",
       "</table>\n",
       "<p>5 rows × 87 columns</p>\n",
       "</div>"
      ],
      "text/plain": [
       "                    0              1                2                 3   \\\n",
       "0               Ticker  USDMXN Curncy  ASURB MM Equity  BIMBOA MM Equity   \n",
       "1                 Date  USDMXN Curncy  ASURB MM Equity  BIMBOA MM Equity   \n",
       "2  2016-05-27 00:00:00        18.4751           289.95              55.4   \n",
       "3  2016-05-26 00:00:00        18.4544           284.68             55.29   \n",
       "4  2016-05-25 00:00:00        18.4852            281.4             56.33   \n",
       "\n",
       "           4                5           6                   7   \\\n",
       "0  CN1 Comdty  CT350188 Curncy  DU1 Comdty  ED749713@BVAL Corp   \n",
       "1  CN1 Comdty  CT350188 Curncy  DU1 Comdty  ED749713@BVAL Corp   \n",
       "2      141.28           424.14      111.85             118.813   \n",
       "3      141.83          427.999     111.845              118.75   \n",
       "4      140.98          5392.86     111.825             118.438   \n",
       "\n",
       "               8                9      ...                      77  \\\n",
       "0  EMRUEMRU Index  EURMXN3Y Curncy     ...      USSA25 ICPL Curncy   \n",
       "1  EMRUEMRU Index  EURMXN3Y Curncy     ...      USSA25 ICPL Curncy   \n",
       "2         66.0342          35645.2     ...                   2.102   \n",
       "3          65.282          35316.9     ...                   2.104   \n",
       "4         65.9242          35680.2     ...                   2.107   \n",
       "\n",
       "                   78                  79                  80  \\\n",
       "0  USSA30 ICPL Curncy  USSP15 CMPN Curncy  USSP20 CMPN Curncy   \n",
       "1  USSA30 ICPL Curncy  USSP15 CMPN Curncy  USSP20 CMPN Curncy   \n",
       "2               2.138              -10.63                 -18   \n",
       "3               2.139              -10.46              -17.65   \n",
       "4                2.14              -11.11               -18.4   \n",
       "\n",
       "                   81                  82                  83  \\\n",
       "0  USSP25 CMPN Curncy  USSW15 CMPN Curncy  USSW20 CMPN Curncy   \n",
       "1  USSP25 CMPN Curncy  USSW15 CMPN Curncy  USSW20 CMPN Curncy   \n",
       "2              -31.63               1.943               2.074   \n",
       "3              -31.43               1.928              2.0575   \n",
       "4              -32.03               1.955              2.0825   \n",
       "\n",
       "                   84                  85          86  \n",
       "0  USSW25 CMPN Curncy  USSW30 CMPN Curncy  XQ1 Comdty  \n",
       "1  USSW25 CMPN Curncy  USSW30 CMPN Curncy  XQ1 Comdty  \n",
       "2               2.133              2.1738      124.13  \n",
       "3               2.125              2.1598       124.3  \n",
       "4              2.1453              2.1785      124.11  \n",
       "\n",
       "[5 rows x 87 columns]"
      ]
     },
     "execution_count": 5,
     "metadata": {},
     "output_type": "execute_result"
    }
   ],
   "source": [
    "import numpy as np\n",
    "import matplotlib.pyplot as plt\n",
    "import pandas as pd\n",
    "import xlrd\n",
    "\n",
    "# Read the excel data\n",
    "data_raw = pd.read_excel(bn_data_raw, 'data_raw')\n",
    "# data = pd.read_excel(bn_data_raw, 'data_raw', header=0, index_col=0, parse_cols=None)\n",
    "  # parse_cols=None: parse all columns\n",
    "  # header=0:    sets the row 0 as col labels (ie. headers)\n",
    "  # index_col=0: sets the col 0 as row labels (ie. index)\n",
    "data_raw.head() # display the first few lines"
   ]
  },
  {
   "cell_type": "markdown",
   "metadata": {},
   "source": [
    "## 5) Skip: Select only the columns that we have chosen from the PCA50 exercise"
   ]
  },
  {
   "cell_type": "code",
   "execution_count": 6,
   "metadata": {
    "collapsed": false
   },
   "outputs": [
    {
     "data": {
      "text/html": [
       "<div>\n",
       "<table border=\"1\" class=\"dataframe\">\n",
       "  <thead>\n",
       "    <tr style=\"text-align: right;\">\n",
       "      <th></th>\n",
       "      <th>0</th>\n",
       "      <th>1</th>\n",
       "      <th>2</th>\n",
       "      <th>3</th>\n",
       "      <th>4</th>\n",
       "      <th>5</th>\n",
       "      <th>6</th>\n",
       "      <th>7</th>\n",
       "      <th>8</th>\n",
       "      <th>9</th>\n",
       "      <th>...</th>\n",
       "      <th>77</th>\n",
       "      <th>78</th>\n",
       "      <th>79</th>\n",
       "      <th>80</th>\n",
       "      <th>81</th>\n",
       "      <th>82</th>\n",
       "      <th>83</th>\n",
       "      <th>84</th>\n",
       "      <th>85</th>\n",
       "      <th>86</th>\n",
       "    </tr>\n",
       "  </thead>\n",
       "  <tbody>\n",
       "    <tr>\n",
       "      <th>0</th>\n",
       "      <td>Ticker</td>\n",
       "      <td>USDMXN Curncy</td>\n",
       "      <td>ASURB MM Equity</td>\n",
       "      <td>BIMBOA MM Equity</td>\n",
       "      <td>CN1 Comdty</td>\n",
       "      <td>CT350188 Curncy</td>\n",
       "      <td>DU1 Comdty</td>\n",
       "      <td>ED749713@BVAL Corp</td>\n",
       "      <td>EMRUEMRU Index</td>\n",
       "      <td>EURMXN3Y Curncy</td>\n",
       "      <td>...</td>\n",
       "      <td>USSA25 ICPL Curncy</td>\n",
       "      <td>USSA30 ICPL Curncy</td>\n",
       "      <td>USSP15 CMPN Curncy</td>\n",
       "      <td>USSP20 CMPN Curncy</td>\n",
       "      <td>USSP25 CMPN Curncy</td>\n",
       "      <td>USSW15 CMPN Curncy</td>\n",
       "      <td>USSW20 CMPN Curncy</td>\n",
       "      <td>USSW25 CMPN Curncy</td>\n",
       "      <td>USSW30 CMPN Curncy</td>\n",
       "      <td>XQ1 Comdty</td>\n",
       "    </tr>\n",
       "    <tr>\n",
       "      <th>1</th>\n",
       "      <td>Date</td>\n",
       "      <td>USDMXN Curncy</td>\n",
       "      <td>ASURB MM Equity</td>\n",
       "      <td>BIMBOA MM Equity</td>\n",
       "      <td>CN1 Comdty</td>\n",
       "      <td>CT350188 Curncy</td>\n",
       "      <td>DU1 Comdty</td>\n",
       "      <td>ED749713@BVAL Corp</td>\n",
       "      <td>EMRUEMRU Index</td>\n",
       "      <td>EURMXN3Y Curncy</td>\n",
       "      <td>...</td>\n",
       "      <td>USSA25 ICPL Curncy</td>\n",
       "      <td>USSA30 ICPL Curncy</td>\n",
       "      <td>USSP15 CMPN Curncy</td>\n",
       "      <td>USSP20 CMPN Curncy</td>\n",
       "      <td>USSP25 CMPN Curncy</td>\n",
       "      <td>USSW15 CMPN Curncy</td>\n",
       "      <td>USSW20 CMPN Curncy</td>\n",
       "      <td>USSW25 CMPN Curncy</td>\n",
       "      <td>USSW30 CMPN Curncy</td>\n",
       "      <td>XQ1 Comdty</td>\n",
       "    </tr>\n",
       "    <tr>\n",
       "      <th>2</th>\n",
       "      <td>2016-05-27 00:00:00</td>\n",
       "      <td>18.4751</td>\n",
       "      <td>289.95</td>\n",
       "      <td>55.4</td>\n",
       "      <td>141.28</td>\n",
       "      <td>424.14</td>\n",
       "      <td>111.85</td>\n",
       "      <td>118.813</td>\n",
       "      <td>66.0342</td>\n",
       "      <td>35645.2</td>\n",
       "      <td>...</td>\n",
       "      <td>2.102</td>\n",
       "      <td>2.138</td>\n",
       "      <td>-10.63</td>\n",
       "      <td>-18</td>\n",
       "      <td>-31.63</td>\n",
       "      <td>1.943</td>\n",
       "      <td>2.074</td>\n",
       "      <td>2.133</td>\n",
       "      <td>2.1738</td>\n",
       "      <td>124.13</td>\n",
       "    </tr>\n",
       "    <tr>\n",
       "      <th>3</th>\n",
       "      <td>2016-05-26 00:00:00</td>\n",
       "      <td>18.4544</td>\n",
       "      <td>284.68</td>\n",
       "      <td>55.29</td>\n",
       "      <td>141.83</td>\n",
       "      <td>427.999</td>\n",
       "      <td>111.845</td>\n",
       "      <td>118.75</td>\n",
       "      <td>65.282</td>\n",
       "      <td>35316.9</td>\n",
       "      <td>...</td>\n",
       "      <td>2.104</td>\n",
       "      <td>2.139</td>\n",
       "      <td>-10.46</td>\n",
       "      <td>-17.65</td>\n",
       "      <td>-31.43</td>\n",
       "      <td>1.928</td>\n",
       "      <td>2.0575</td>\n",
       "      <td>2.125</td>\n",
       "      <td>2.1598</td>\n",
       "      <td>124.3</td>\n",
       "    </tr>\n",
       "    <tr>\n",
       "      <th>4</th>\n",
       "      <td>2016-05-25 00:00:00</td>\n",
       "      <td>18.4852</td>\n",
       "      <td>281.4</td>\n",
       "      <td>56.33</td>\n",
       "      <td>140.98</td>\n",
       "      <td>5392.86</td>\n",
       "      <td>111.825</td>\n",
       "      <td>118.438</td>\n",
       "      <td>65.9242</td>\n",
       "      <td>35680.2</td>\n",
       "      <td>...</td>\n",
       "      <td>2.107</td>\n",
       "      <td>2.14</td>\n",
       "      <td>-11.11</td>\n",
       "      <td>-18.4</td>\n",
       "      <td>-32.03</td>\n",
       "      <td>1.955</td>\n",
       "      <td>2.0825</td>\n",
       "      <td>2.1453</td>\n",
       "      <td>2.1785</td>\n",
       "      <td>124.11</td>\n",
       "    </tr>\n",
       "  </tbody>\n",
       "</table>\n",
       "<p>5 rows × 87 columns</p>\n",
       "</div>"
      ],
      "text/plain": [
       "                    0              1                2                 3   \\\n",
       "0               Ticker  USDMXN Curncy  ASURB MM Equity  BIMBOA MM Equity   \n",
       "1                 Date  USDMXN Curncy  ASURB MM Equity  BIMBOA MM Equity   \n",
       "2  2016-05-27 00:00:00        18.4751           289.95              55.4   \n",
       "3  2016-05-26 00:00:00        18.4544           284.68             55.29   \n",
       "4  2016-05-25 00:00:00        18.4852            281.4             56.33   \n",
       "\n",
       "           4                5           6                   7   \\\n",
       "0  CN1 Comdty  CT350188 Curncy  DU1 Comdty  ED749713@BVAL Corp   \n",
       "1  CN1 Comdty  CT350188 Curncy  DU1 Comdty  ED749713@BVAL Corp   \n",
       "2      141.28           424.14      111.85             118.813   \n",
       "3      141.83          427.999     111.845              118.75   \n",
       "4      140.98          5392.86     111.825             118.438   \n",
       "\n",
       "               8                9      ...                      77  \\\n",
       "0  EMRUEMRU Index  EURMXN3Y Curncy     ...      USSA25 ICPL Curncy   \n",
       "1  EMRUEMRU Index  EURMXN3Y Curncy     ...      USSA25 ICPL Curncy   \n",
       "2         66.0342          35645.2     ...                   2.102   \n",
       "3          65.282          35316.9     ...                   2.104   \n",
       "4         65.9242          35680.2     ...                   2.107   \n",
       "\n",
       "                   78                  79                  80  \\\n",
       "0  USSA30 ICPL Curncy  USSP15 CMPN Curncy  USSP20 CMPN Curncy   \n",
       "1  USSA30 ICPL Curncy  USSP15 CMPN Curncy  USSP20 CMPN Curncy   \n",
       "2               2.138              -10.63                 -18   \n",
       "3               2.139              -10.46              -17.65   \n",
       "4                2.14              -11.11               -18.4   \n",
       "\n",
       "                   81                  82                  83  \\\n",
       "0  USSP25 CMPN Curncy  USSW15 CMPN Curncy  USSW20 CMPN Curncy   \n",
       "1  USSP25 CMPN Curncy  USSW15 CMPN Curncy  USSW20 CMPN Curncy   \n",
       "2              -31.63               1.943               2.074   \n",
       "3              -31.43               1.928              2.0575   \n",
       "4              -32.03               1.955              2.0825   \n",
       "\n",
       "                   84                  85          86  \n",
       "0  USSW25 CMPN Curncy  USSW30 CMPN Curncy  XQ1 Comdty  \n",
       "1  USSW25 CMPN Curncy  USSW30 CMPN Curncy  XQ1 Comdty  \n",
       "2               2.133              2.1738      124.13  \n",
       "3               2.125              2.1598       124.3  \n",
       "4              2.1453              2.1785      124.11  \n",
       "\n",
       "[5 rows x 87 columns]"
      ]
     },
     "execution_count": 6,
     "metadata": {},
     "output_type": "execute_result"
    }
   ],
   "source": [
    "# This list pertains to first set of data.\n",
    "# list_cols_pca = [ 0,1,\n",
    "#                   1070,788,926,112,69,574,654,1160,527,323,\n",
    "#                   397,118,774,1028,1034,655,907,736,251,388,\n",
    "#                   327,243,705,303,1146,467,136,1006,600,15,\n",
    "#                   231,290,131,782,20,1048,630,1173,431,856,\n",
    "#                   67,299,838,639,53,932,870,938,1061\n",
    "#                 ]\n",
    "# data_raw_pca = data_raw[list_cols_pca]\n",
    "\n",
    "# For our new data set, we take all 86 columns\n",
    "data_raw_pca = data_raw\n",
    "data_raw_pca.head()"
   ]
  },
  {
   "cell_type": "markdown",
   "metadata": {},
   "source": [
    "## 6) data_ticker_desc = Just a table to map column id to the ticker and name of the variable"
   ]
  },
  {
   "cell_type": "code",
   "execution_count": 7,
   "metadata": {
    "collapsed": false
   },
   "outputs": [
    {
     "data": {
      "text/html": [
       "<div>\n",
       "<table border=\"1\" class=\"dataframe\">\n",
       "  <thead>\n",
       "    <tr style=\"text-align: right;\">\n",
       "      <th></th>\n",
       "      <th>0</th>\n",
       "      <th>1</th>\n",
       "      <th>2</th>\n",
       "      <th>3</th>\n",
       "      <th>4</th>\n",
       "      <th>5</th>\n",
       "      <th>6</th>\n",
       "      <th>7</th>\n",
       "      <th>8</th>\n",
       "      <th>9</th>\n",
       "      <th>...</th>\n",
       "      <th>77</th>\n",
       "      <th>78</th>\n",
       "      <th>79</th>\n",
       "      <th>80</th>\n",
       "      <th>81</th>\n",
       "      <th>82</th>\n",
       "      <th>83</th>\n",
       "      <th>84</th>\n",
       "      <th>85</th>\n",
       "      <th>86</th>\n",
       "    </tr>\n",
       "  </thead>\n",
       "  <tbody>\n",
       "    <tr>\n",
       "      <th>0</th>\n",
       "      <td>Ticker</td>\n",
       "      <td>USDMXN Curncy</td>\n",
       "      <td>ASURB MM Equity</td>\n",
       "      <td>BIMBOA MM Equity</td>\n",
       "      <td>CN1 Comdty</td>\n",
       "      <td>CT350188 Curncy</td>\n",
       "      <td>DU1 Comdty</td>\n",
       "      <td>ED749713@BVAL Corp</td>\n",
       "      <td>EMRUEMRU Index</td>\n",
       "      <td>EURMXN3Y Curncy</td>\n",
       "      <td>...</td>\n",
       "      <td>USSA25 ICPL Curncy</td>\n",
       "      <td>USSA30 ICPL Curncy</td>\n",
       "      <td>USSP15 CMPN Curncy</td>\n",
       "      <td>USSP20 CMPN Curncy</td>\n",
       "      <td>USSP25 CMPN Curncy</td>\n",
       "      <td>USSW15 CMPN Curncy</td>\n",
       "      <td>USSW20 CMPN Curncy</td>\n",
       "      <td>USSW25 CMPN Curncy</td>\n",
       "      <td>USSW30 CMPN Curncy</td>\n",
       "      <td>XQ1 Comdty</td>\n",
       "    </tr>\n",
       "    <tr>\n",
       "      <th>1</th>\n",
       "      <td>Date</td>\n",
       "      <td>USDMXN Curncy</td>\n",
       "      <td>ASURB MM Equity</td>\n",
       "      <td>BIMBOA MM Equity</td>\n",
       "      <td>CN1 Comdty</td>\n",
       "      <td>CT350188 Curncy</td>\n",
       "      <td>DU1 Comdty</td>\n",
       "      <td>ED749713@BVAL Corp</td>\n",
       "      <td>EMRUEMRU Index</td>\n",
       "      <td>EURMXN3Y Curncy</td>\n",
       "      <td>...</td>\n",
       "      <td>USSA25 ICPL Curncy</td>\n",
       "      <td>USSA30 ICPL Curncy</td>\n",
       "      <td>USSP15 CMPN Curncy</td>\n",
       "      <td>USSP20 CMPN Curncy</td>\n",
       "      <td>USSP25 CMPN Curncy</td>\n",
       "      <td>USSW15 CMPN Curncy</td>\n",
       "      <td>USSW20 CMPN Curncy</td>\n",
       "      <td>USSW25 CMPN Curncy</td>\n",
       "      <td>USSW30 CMPN Curncy</td>\n",
       "      <td>XQ1 Comdty</td>\n",
       "    </tr>\n",
       "  </tbody>\n",
       "</table>\n",
       "<p>2 rows × 87 columns</p>\n",
       "</div>"
      ],
      "text/plain": [
       "       0              1                2                 3           4   \\\n",
       "0  Ticker  USDMXN Curncy  ASURB MM Equity  BIMBOA MM Equity  CN1 Comdty   \n",
       "1    Date  USDMXN Curncy  ASURB MM Equity  BIMBOA MM Equity  CN1 Comdty   \n",
       "\n",
       "                5           6                   7               8   \\\n",
       "0  CT350188 Curncy  DU1 Comdty  ED749713@BVAL Corp  EMRUEMRU Index   \n",
       "1  CT350188 Curncy  DU1 Comdty  ED749713@BVAL Corp  EMRUEMRU Index   \n",
       "\n",
       "                9      ...                      77                  78  \\\n",
       "0  EURMXN3Y Curncy     ...      USSA25 ICPL Curncy  USSA30 ICPL Curncy   \n",
       "1  EURMXN3Y Curncy     ...      USSA25 ICPL Curncy  USSA30 ICPL Curncy   \n",
       "\n",
       "                   79                  80                  81  \\\n",
       "0  USSP15 CMPN Curncy  USSP20 CMPN Curncy  USSP25 CMPN Curncy   \n",
       "1  USSP15 CMPN Curncy  USSP20 CMPN Curncy  USSP25 CMPN Curncy   \n",
       "\n",
       "                   82                  83                  84  \\\n",
       "0  USSW15 CMPN Curncy  USSW20 CMPN Curncy  USSW25 CMPN Curncy   \n",
       "1  USSW15 CMPN Curncy  USSW20 CMPN Curncy  USSW25 CMPN Curncy   \n",
       "\n",
       "                   85          86  \n",
       "0  USSW30 CMPN Curncy  XQ1 Comdty  \n",
       "1  USSW30 CMPN Curncy  XQ1 Comdty  \n",
       "\n",
       "[2 rows x 87 columns]"
      ]
     },
     "execution_count": 7,
     "metadata": {},
     "output_type": "execute_result"
    }
   ],
   "source": [
    "data_ticker_desc = data_raw_pca.ix[:1] # 1st 2 rows\n",
    "data_ticker_desc"
   ]
  },
  {
   "cell_type": "markdown",
   "metadata": {},
   "source": [
    "## 7) data_values = the actual values of the 86 variables"
   ]
  },
  {
   "cell_type": "code",
   "execution_count": 8,
   "metadata": {
    "collapsed": false
   },
   "outputs": [
    {
     "data": {
      "text/html": [
       "<div>\n",
       "<table border=\"1\" class=\"dataframe\">\n",
       "  <thead>\n",
       "    <tr style=\"text-align: right;\">\n",
       "      <th></th>\n",
       "      <th>0</th>\n",
       "      <th>1</th>\n",
       "      <th>2</th>\n",
       "      <th>3</th>\n",
       "      <th>4</th>\n",
       "      <th>5</th>\n",
       "      <th>6</th>\n",
       "      <th>7</th>\n",
       "      <th>8</th>\n",
       "      <th>9</th>\n",
       "      <th>...</th>\n",
       "      <th>77</th>\n",
       "      <th>78</th>\n",
       "      <th>79</th>\n",
       "      <th>80</th>\n",
       "      <th>81</th>\n",
       "      <th>82</th>\n",
       "      <th>83</th>\n",
       "      <th>84</th>\n",
       "      <th>85</th>\n",
       "      <th>86</th>\n",
       "    </tr>\n",
       "  </thead>\n",
       "  <tbody>\n",
       "    <tr>\n",
       "      <th>2</th>\n",
       "      <td>2016-05-27 00:00:00</td>\n",
       "      <td>18.4751</td>\n",
       "      <td>289.95</td>\n",
       "      <td>55.4</td>\n",
       "      <td>141.28</td>\n",
       "      <td>424.14</td>\n",
       "      <td>111.85</td>\n",
       "      <td>118.813</td>\n",
       "      <td>66.0342</td>\n",
       "      <td>35645.2</td>\n",
       "      <td>...</td>\n",
       "      <td>2.102</td>\n",
       "      <td>2.138</td>\n",
       "      <td>-10.63</td>\n",
       "      <td>-18</td>\n",
       "      <td>-31.63</td>\n",
       "      <td>1.943</td>\n",
       "      <td>2.074</td>\n",
       "      <td>2.133</td>\n",
       "      <td>2.1738</td>\n",
       "      <td>124.13</td>\n",
       "    </tr>\n",
       "    <tr>\n",
       "      <th>3</th>\n",
       "      <td>2016-05-26 00:00:00</td>\n",
       "      <td>18.4544</td>\n",
       "      <td>284.68</td>\n",
       "      <td>55.29</td>\n",
       "      <td>141.83</td>\n",
       "      <td>427.999</td>\n",
       "      <td>111.845</td>\n",
       "      <td>118.75</td>\n",
       "      <td>65.282</td>\n",
       "      <td>35316.9</td>\n",
       "      <td>...</td>\n",
       "      <td>2.104</td>\n",
       "      <td>2.139</td>\n",
       "      <td>-10.46</td>\n",
       "      <td>-17.65</td>\n",
       "      <td>-31.43</td>\n",
       "      <td>1.928</td>\n",
       "      <td>2.0575</td>\n",
       "      <td>2.125</td>\n",
       "      <td>2.1598</td>\n",
       "      <td>124.3</td>\n",
       "    </tr>\n",
       "    <tr>\n",
       "      <th>4</th>\n",
       "      <td>2016-05-25 00:00:00</td>\n",
       "      <td>18.4852</td>\n",
       "      <td>281.4</td>\n",
       "      <td>56.33</td>\n",
       "      <td>140.98</td>\n",
       "      <td>5392.86</td>\n",
       "      <td>111.825</td>\n",
       "      <td>118.438</td>\n",
       "      <td>65.9242</td>\n",
       "      <td>35680.2</td>\n",
       "      <td>...</td>\n",
       "      <td>2.107</td>\n",
       "      <td>2.14</td>\n",
       "      <td>-11.11</td>\n",
       "      <td>-18.4</td>\n",
       "      <td>-32.03</td>\n",
       "      <td>1.955</td>\n",
       "      <td>2.0825</td>\n",
       "      <td>2.1453</td>\n",
       "      <td>2.1785</td>\n",
       "      <td>124.11</td>\n",
       "    </tr>\n",
       "    <tr>\n",
       "      <th>5</th>\n",
       "      <td>2016-05-24 00:00:00</td>\n",
       "      <td>18.487</td>\n",
       "      <td>282.81</td>\n",
       "      <td>56.06</td>\n",
       "      <td>141.16</td>\n",
       "      <td>5392.86</td>\n",
       "      <td>111.815</td>\n",
       "      <td>118.5</td>\n",
       "      <td>66.8658</td>\n",
       "      <td>36154.1</td>\n",
       "      <td>...</td>\n",
       "      <td>2.126</td>\n",
       "      <td>2.158</td>\n",
       "      <td>-11.18</td>\n",
       "      <td>-18.43</td>\n",
       "      <td>-31.94</td>\n",
       "      <td>1.9469</td>\n",
       "      <td>2.0703</td>\n",
       "      <td>2.1305</td>\n",
       "      <td>2.1615</td>\n",
       "      <td>124.24</td>\n",
       "    </tr>\n",
       "    <tr>\n",
       "      <th>6</th>\n",
       "      <td>2016-05-23 00:00:00</td>\n",
       "      <td>18.5161</td>\n",
       "      <td>282.02</td>\n",
       "      <td>55.27</td>\n",
       "      <td>141.31</td>\n",
       "      <td>5392.86</td>\n",
       "      <td>111.815</td>\n",
       "      <td>120.188</td>\n",
       "      <td>67.0104</td>\n",
       "      <td>36684.3</td>\n",
       "      <td>...</td>\n",
       "      <td>2.092</td>\n",
       "      <td>2.125</td>\n",
       "      <td>-10.81</td>\n",
       "      <td>-18.14</td>\n",
       "      <td>-31.55</td>\n",
       "      <td>1.9245</td>\n",
       "      <td>2.0503</td>\n",
       "      <td>2.112</td>\n",
       "      <td>2.1435</td>\n",
       "      <td>124.27</td>\n",
       "    </tr>\n",
       "  </tbody>\n",
       "</table>\n",
       "<p>5 rows × 87 columns</p>\n",
       "</div>"
      ],
      "text/plain": [
       "                    0        1       2      3       4        5        6   \\\n",
       "2  2016-05-27 00:00:00  18.4751  289.95   55.4  141.28   424.14   111.85   \n",
       "3  2016-05-26 00:00:00  18.4544  284.68  55.29  141.83  427.999  111.845   \n",
       "4  2016-05-25 00:00:00  18.4852   281.4  56.33  140.98  5392.86  111.825   \n",
       "5  2016-05-24 00:00:00   18.487  282.81  56.06  141.16  5392.86  111.815   \n",
       "6  2016-05-23 00:00:00  18.5161  282.02  55.27  141.31  5392.86  111.815   \n",
       "\n",
       "        7        8        9    ...       77     78     79     80     81  \\\n",
       "2  118.813  66.0342  35645.2   ...    2.102  2.138 -10.63    -18 -31.63   \n",
       "3   118.75   65.282  35316.9   ...    2.104  2.139 -10.46 -17.65 -31.43   \n",
       "4  118.438  65.9242  35680.2   ...    2.107   2.14 -11.11  -18.4 -32.03   \n",
       "5    118.5  66.8658  36154.1   ...    2.126  2.158 -11.18 -18.43 -31.94   \n",
       "6  120.188  67.0104  36684.3   ...    2.092  2.125 -10.81 -18.14 -31.55   \n",
       "\n",
       "       82      83      84      85      86  \n",
       "2   1.943   2.074   2.133  2.1738  124.13  \n",
       "3   1.928  2.0575   2.125  2.1598   124.3  \n",
       "4   1.955  2.0825  2.1453  2.1785  124.11  \n",
       "5  1.9469  2.0703  2.1305  2.1615  124.24  \n",
       "6  1.9245  2.0503   2.112  2.1435  124.27  \n",
       "\n",
       "[5 rows x 87 columns]"
      ]
     },
     "execution_count": 8,
     "metadata": {},
     "output_type": "execute_result"
    }
   ],
   "source": [
    "data_values = data_raw_pca.ix[2:] # From row 2 onwards\n",
    "data_values.head()"
   ]
  },
  {
   "cell_type": "markdown",
   "metadata": {},
   "source": [
    "## 8) Set the dates as index of the dataframe"
   ]
  },
  {
   "cell_type": "code",
   "execution_count": 9,
   "metadata": {
    "collapsed": false
   },
   "outputs": [
    {
     "data": {
      "text/html": [
       "<div>\n",
       "<table border=\"1\" class=\"dataframe\">\n",
       "  <thead>\n",
       "    <tr style=\"text-align: right;\">\n",
       "      <th></th>\n",
       "      <th>1</th>\n",
       "      <th>2</th>\n",
       "      <th>3</th>\n",
       "      <th>4</th>\n",
       "      <th>5</th>\n",
       "      <th>6</th>\n",
       "      <th>7</th>\n",
       "      <th>8</th>\n",
       "      <th>9</th>\n",
       "      <th>10</th>\n",
       "      <th>...</th>\n",
       "      <th>77</th>\n",
       "      <th>78</th>\n",
       "      <th>79</th>\n",
       "      <th>80</th>\n",
       "      <th>81</th>\n",
       "      <th>82</th>\n",
       "      <th>83</th>\n",
       "      <th>84</th>\n",
       "      <th>85</th>\n",
       "      <th>86</th>\n",
       "    </tr>\n",
       "    <tr>\n",
       "      <th>0</th>\n",
       "      <th></th>\n",
       "      <th></th>\n",
       "      <th></th>\n",
       "      <th></th>\n",
       "      <th></th>\n",
       "      <th></th>\n",
       "      <th></th>\n",
       "      <th></th>\n",
       "      <th></th>\n",
       "      <th></th>\n",
       "      <th></th>\n",
       "      <th></th>\n",
       "      <th></th>\n",
       "      <th></th>\n",
       "      <th></th>\n",
       "      <th></th>\n",
       "      <th></th>\n",
       "      <th></th>\n",
       "      <th></th>\n",
       "      <th></th>\n",
       "      <th></th>\n",
       "    </tr>\n",
       "  </thead>\n",
       "  <tbody>\n",
       "    <tr>\n",
       "      <th>2016-05-27</th>\n",
       "      <td>18.4751</td>\n",
       "      <td>289.95</td>\n",
       "      <td>55.4</td>\n",
       "      <td>141.28</td>\n",
       "      <td>424.14</td>\n",
       "      <td>111.85</td>\n",
       "      <td>118.813</td>\n",
       "      <td>66.0342</td>\n",
       "      <td>35645.2</td>\n",
       "      <td>161.89</td>\n",
       "      <td>...</td>\n",
       "      <td>2.102</td>\n",
       "      <td>2.138</td>\n",
       "      <td>-10.63</td>\n",
       "      <td>-18</td>\n",
       "      <td>-31.63</td>\n",
       "      <td>1.943</td>\n",
       "      <td>2.074</td>\n",
       "      <td>2.133</td>\n",
       "      <td>2.1738</td>\n",
       "      <td>124.13</td>\n",
       "    </tr>\n",
       "    <tr>\n",
       "      <th>2016-05-26</th>\n",
       "      <td>18.4544</td>\n",
       "      <td>284.68</td>\n",
       "      <td>55.29</td>\n",
       "      <td>141.83</td>\n",
       "      <td>427.999</td>\n",
       "      <td>111.845</td>\n",
       "      <td>118.75</td>\n",
       "      <td>65.282</td>\n",
       "      <td>35316.9</td>\n",
       "      <td>161.8</td>\n",
       "      <td>...</td>\n",
       "      <td>2.104</td>\n",
       "      <td>2.139</td>\n",
       "      <td>-10.46</td>\n",
       "      <td>-17.65</td>\n",
       "      <td>-31.43</td>\n",
       "      <td>1.928</td>\n",
       "      <td>2.0575</td>\n",
       "      <td>2.125</td>\n",
       "      <td>2.1598</td>\n",
       "      <td>124.3</td>\n",
       "    </tr>\n",
       "    <tr>\n",
       "      <th>2016-05-25</th>\n",
       "      <td>18.4852</td>\n",
       "      <td>281.4</td>\n",
       "      <td>56.33</td>\n",
       "      <td>140.98</td>\n",
       "      <td>5392.86</td>\n",
       "      <td>111.825</td>\n",
       "      <td>118.438</td>\n",
       "      <td>65.9242</td>\n",
       "      <td>35680.2</td>\n",
       "      <td>161.61</td>\n",
       "      <td>...</td>\n",
       "      <td>2.107</td>\n",
       "      <td>2.14</td>\n",
       "      <td>-11.11</td>\n",
       "      <td>-18.4</td>\n",
       "      <td>-32.03</td>\n",
       "      <td>1.955</td>\n",
       "      <td>2.0825</td>\n",
       "      <td>2.1453</td>\n",
       "      <td>2.1785</td>\n",
       "      <td>124.11</td>\n",
       "    </tr>\n",
       "    <tr>\n",
       "      <th>2016-05-24</th>\n",
       "      <td>18.487</td>\n",
       "      <td>282.81</td>\n",
       "      <td>56.06</td>\n",
       "      <td>141.16</td>\n",
       "      <td>5392.86</td>\n",
       "      <td>111.815</td>\n",
       "      <td>118.5</td>\n",
       "      <td>66.8658</td>\n",
       "      <td>36154.1</td>\n",
       "      <td>161.58</td>\n",
       "      <td>...</td>\n",
       "      <td>2.126</td>\n",
       "      <td>2.158</td>\n",
       "      <td>-11.18</td>\n",
       "      <td>-18.43</td>\n",
       "      <td>-31.94</td>\n",
       "      <td>1.9469</td>\n",
       "      <td>2.0703</td>\n",
       "      <td>2.1305</td>\n",
       "      <td>2.1615</td>\n",
       "      <td>124.24</td>\n",
       "    </tr>\n",
       "    <tr>\n",
       "      <th>2016-05-23</th>\n",
       "      <td>18.5161</td>\n",
       "      <td>282.02</td>\n",
       "      <td>55.27</td>\n",
       "      <td>141.31</td>\n",
       "      <td>5392.86</td>\n",
       "      <td>111.815</td>\n",
       "      <td>120.188</td>\n",
       "      <td>67.0104</td>\n",
       "      <td>36684.3</td>\n",
       "      <td>161.55</td>\n",
       "      <td>...</td>\n",
       "      <td>2.092</td>\n",
       "      <td>2.125</td>\n",
       "      <td>-10.81</td>\n",
       "      <td>-18.14</td>\n",
       "      <td>-31.55</td>\n",
       "      <td>1.9245</td>\n",
       "      <td>2.0503</td>\n",
       "      <td>2.112</td>\n",
       "      <td>2.1435</td>\n",
       "      <td>124.27</td>\n",
       "    </tr>\n",
       "  </tbody>\n",
       "</table>\n",
       "<p>5 rows × 86 columns</p>\n",
       "</div>"
      ],
      "text/plain": [
       "                 1       2      3       4        5        6        7   \\\n",
       "0                                                                       \n",
       "2016-05-27  18.4751  289.95   55.4  141.28   424.14   111.85  118.813   \n",
       "2016-05-26  18.4544  284.68  55.29  141.83  427.999  111.845   118.75   \n",
       "2016-05-25  18.4852   281.4  56.33  140.98  5392.86  111.825  118.438   \n",
       "2016-05-24   18.487  282.81  56.06  141.16  5392.86  111.815    118.5   \n",
       "2016-05-23  18.5161  282.02  55.27  141.31  5392.86  111.815  120.188   \n",
       "\n",
       "                 8        9       10   ...       77     78     79     80  \\\n",
       "0                                      ...                                 \n",
       "2016-05-27  66.0342  35645.2  161.89   ...    2.102  2.138 -10.63    -18   \n",
       "2016-05-26   65.282  35316.9   161.8   ...    2.104  2.139 -10.46 -17.65   \n",
       "2016-05-25  65.9242  35680.2  161.61   ...    2.107   2.14 -11.11  -18.4   \n",
       "2016-05-24  66.8658  36154.1  161.58   ...    2.126  2.158 -11.18 -18.43   \n",
       "2016-05-23  67.0104  36684.3  161.55   ...    2.092  2.125 -10.81 -18.14   \n",
       "\n",
       "               81      82      83      84      85      86  \n",
       "0                                                          \n",
       "2016-05-27 -31.63   1.943   2.074   2.133  2.1738  124.13  \n",
       "2016-05-26 -31.43   1.928  2.0575   2.125  2.1598   124.3  \n",
       "2016-05-25 -32.03   1.955  2.0825  2.1453  2.1785  124.11  \n",
       "2016-05-24 -31.94  1.9469  2.0703  2.1305  2.1615  124.24  \n",
       "2016-05-23 -31.55  1.9245  2.0503   2.112  2.1435  124.27  \n",
       "\n",
       "[5 rows x 86 columns]"
      ]
     },
     "execution_count": 9,
     "metadata": {},
     "output_type": "execute_result"
    }
   ],
   "source": [
    "data_values_indexed = data_values.set_index([0])\n",
    "data_values_indexed.head()"
   ]
  },
  {
   "cell_type": "code",
   "execution_count": 10,
   "metadata": {
    "collapsed": false
   },
   "outputs": [
    {
     "data": {
      "text/html": [
       "<div>\n",
       "<table border=\"1\" class=\"dataframe\">\n",
       "  <thead>\n",
       "    <tr style=\"text-align: right;\">\n",
       "      <th></th>\n",
       "      <th>1</th>\n",
       "      <th>2</th>\n",
       "      <th>3</th>\n",
       "      <th>4</th>\n",
       "      <th>5</th>\n",
       "      <th>6</th>\n",
       "      <th>7</th>\n",
       "      <th>8</th>\n",
       "      <th>9</th>\n",
       "      <th>10</th>\n",
       "      <th>...</th>\n",
       "      <th>77</th>\n",
       "      <th>78</th>\n",
       "      <th>79</th>\n",
       "      <th>80</th>\n",
       "      <th>81</th>\n",
       "      <th>82</th>\n",
       "      <th>83</th>\n",
       "      <th>84</th>\n",
       "      <th>85</th>\n",
       "      <th>86</th>\n",
       "    </tr>\n",
       "    <tr>\n",
       "      <th>0</th>\n",
       "      <th></th>\n",
       "      <th></th>\n",
       "      <th></th>\n",
       "      <th></th>\n",
       "      <th></th>\n",
       "      <th></th>\n",
       "      <th></th>\n",
       "      <th></th>\n",
       "      <th></th>\n",
       "      <th></th>\n",
       "      <th></th>\n",
       "      <th></th>\n",
       "      <th></th>\n",
       "      <th></th>\n",
       "      <th></th>\n",
       "      <th></th>\n",
       "      <th></th>\n",
       "      <th></th>\n",
       "      <th></th>\n",
       "      <th></th>\n",
       "      <th></th>\n",
       "    </tr>\n",
       "  </thead>\n",
       "  <tbody>\n",
       "    <tr>\n",
       "      <th>2000-01-07</th>\n",
       "      <td>9.565</td>\n",
       "      <td>14.23</td>\n",
       "      <td>4.83</td>\n",
       "      <td>117.45</td>\n",
       "      <td>382.997</td>\n",
       "      <td>102.71</td>\n",
       "      <td>132.35</td>\n",
       "      <td>27.321</td>\n",
       "      <td>22485</td>\n",
       "      <td>119.16</td>\n",
       "      <td>...</td>\n",
       "      <td>7.475</td>\n",
       "      <td>7.465</td>\n",
       "      <td>87</td>\n",
       "      <td>89</td>\n",
       "      <td>84</td>\n",
       "      <td>7.39</td>\n",
       "      <td>7.41</td>\n",
       "      <td>6.461</td>\n",
       "      <td>7.4</td>\n",
       "      <td>98</td>\n",
       "    </tr>\n",
       "    <tr>\n",
       "      <th>2000-01-06</th>\n",
       "      <td>9.58</td>\n",
       "      <td>14.23</td>\n",
       "      <td>4.68</td>\n",
       "      <td>117.09</td>\n",
       "      <td>382.997</td>\n",
       "      <td>102.5</td>\n",
       "      <td>132.35</td>\n",
       "      <td>27.321</td>\n",
       "      <td>22485</td>\n",
       "      <td>118.7</td>\n",
       "      <td>...</td>\n",
       "      <td>7.505</td>\n",
       "      <td>7.48</td>\n",
       "      <td>89</td>\n",
       "      <td>90</td>\n",
       "      <td>84</td>\n",
       "      <td>7.43</td>\n",
       "      <td>7.44</td>\n",
       "      <td>6.461</td>\n",
       "      <td>7.43</td>\n",
       "      <td>97.7</td>\n",
       "    </tr>\n",
       "    <tr>\n",
       "      <th>2000-01-05</th>\n",
       "      <td>9.571</td>\n",
       "      <td>14.23</td>\n",
       "      <td>4.83</td>\n",
       "      <td>116.57</td>\n",
       "      <td>382.997</td>\n",
       "      <td>102.49</td>\n",
       "      <td>132.35</td>\n",
       "      <td>27.321</td>\n",
       "      <td>22485</td>\n",
       "      <td>119.15</td>\n",
       "      <td>...</td>\n",
       "      <td>7.475</td>\n",
       "      <td>7.455</td>\n",
       "      <td>88</td>\n",
       "      <td>89</td>\n",
       "      <td>84</td>\n",
       "      <td>7.47</td>\n",
       "      <td>7.48</td>\n",
       "      <td>6.461</td>\n",
       "      <td>7.46</td>\n",
       "      <td>97.55</td>\n",
       "    </tr>\n",
       "    <tr>\n",
       "      <th>2000-01-04</th>\n",
       "      <td>9.5713</td>\n",
       "      <td>14.23</td>\n",
       "      <td>4.83</td>\n",
       "      <td>117.5</td>\n",
       "      <td>382.997</td>\n",
       "      <td>102.49</td>\n",
       "      <td>132.35</td>\n",
       "      <td>27.54</td>\n",
       "      <td>22485</td>\n",
       "      <td>119.2</td>\n",
       "      <td>...</td>\n",
       "      <td>7.425</td>\n",
       "      <td>7.425</td>\n",
       "      <td>90</td>\n",
       "      <td>91</td>\n",
       "      <td>84</td>\n",
       "      <td>7.4</td>\n",
       "      <td>7.41</td>\n",
       "      <td>6.461</td>\n",
       "      <td>7.4</td>\n",
       "      <td>98</td>\n",
       "    </tr>\n",
       "    <tr>\n",
       "      <th>2000-01-03</th>\n",
       "      <td>9.505</td>\n",
       "      <td>14.23</td>\n",
       "      <td>5.03</td>\n",
       "      <td>118.5</td>\n",
       "      <td>382.997</td>\n",
       "      <td>102.47</td>\n",
       "      <td>132.35</td>\n",
       "      <td>27.54</td>\n",
       "      <td>22485</td>\n",
       "      <td>119.85</td>\n",
       "      <td>...</td>\n",
       "      <td>7.455</td>\n",
       "      <td>7.425</td>\n",
       "      <td>86</td>\n",
       "      <td>87</td>\n",
       "      <td>84</td>\n",
       "      <td>7.46</td>\n",
       "      <td>7.47</td>\n",
       "      <td>6.461</td>\n",
       "      <td>7.44</td>\n",
       "      <td>98.56</td>\n",
       "    </tr>\n",
       "  </tbody>\n",
       "</table>\n",
       "<p>5 rows × 86 columns</p>\n",
       "</div>"
      ],
      "text/plain": [
       "                1      2     3       4        5       6       7       8   \\\n",
       "0                                                                          \n",
       "2000-01-07   9.565  14.23  4.83  117.45  382.997  102.71  132.35  27.321   \n",
       "2000-01-06    9.58  14.23  4.68  117.09  382.997   102.5  132.35  27.321   \n",
       "2000-01-05   9.571  14.23  4.83  116.57  382.997  102.49  132.35  27.321   \n",
       "2000-01-04  9.5713  14.23  4.83   117.5  382.997  102.49  132.35   27.54   \n",
       "2000-01-03   9.505  14.23  5.03   118.5  382.997  102.47  132.35   27.54   \n",
       "\n",
       "               9       10  ...       77     78  79  80  81    82    83     84  \\\n",
       "0                          ...                                                  \n",
       "2000-01-07  22485  119.16  ...    7.475  7.465  87  89  84  7.39  7.41  6.461   \n",
       "2000-01-06  22485   118.7  ...    7.505   7.48  89  90  84  7.43  7.44  6.461   \n",
       "2000-01-05  22485  119.15  ...    7.475  7.455  88  89  84  7.47  7.48  6.461   \n",
       "2000-01-04  22485   119.2  ...    7.425  7.425  90  91  84   7.4  7.41  6.461   \n",
       "2000-01-03  22485  119.85  ...    7.455  7.425  86  87  84  7.46  7.47  6.461   \n",
       "\n",
       "              85     86  \n",
       "0                        \n",
       "2000-01-07   7.4     98  \n",
       "2000-01-06  7.43   97.7  \n",
       "2000-01-05  7.46  97.55  \n",
       "2000-01-04   7.4     98  \n",
       "2000-01-03  7.44  98.56  \n",
       "\n",
       "[5 rows x 86 columns]"
      ]
     },
     "execution_count": 10,
     "metadata": {},
     "output_type": "execute_result"
    }
   ],
   "source": [
    "data_values_indexed.tail()"
   ]
  },
  {
   "cell_type": "markdown",
   "metadata": {},
   "source": [
    "## 9) Fill any gaps in the data"
   ]
  },
  {
   "cell_type": "code",
   "execution_count": 11,
   "metadata": {
    "collapsed": false
   },
   "outputs": [
    {
     "data": {
      "text/html": [
       "<div>\n",
       "<table border=\"1\" class=\"dataframe\">\n",
       "  <thead>\n",
       "    <tr style=\"text-align: right;\">\n",
       "      <th></th>\n",
       "      <th>1</th>\n",
       "      <th>2</th>\n",
       "      <th>3</th>\n",
       "      <th>4</th>\n",
       "      <th>5</th>\n",
       "      <th>6</th>\n",
       "      <th>7</th>\n",
       "      <th>8</th>\n",
       "      <th>9</th>\n",
       "      <th>10</th>\n",
       "      <th>...</th>\n",
       "      <th>77</th>\n",
       "      <th>78</th>\n",
       "      <th>79</th>\n",
       "      <th>80</th>\n",
       "      <th>81</th>\n",
       "      <th>82</th>\n",
       "      <th>83</th>\n",
       "      <th>84</th>\n",
       "      <th>85</th>\n",
       "      <th>86</th>\n",
       "    </tr>\n",
       "    <tr>\n",
       "      <th>0</th>\n",
       "      <th></th>\n",
       "      <th></th>\n",
       "      <th></th>\n",
       "      <th></th>\n",
       "      <th></th>\n",
       "      <th></th>\n",
       "      <th></th>\n",
       "      <th></th>\n",
       "      <th></th>\n",
       "      <th></th>\n",
       "      <th></th>\n",
       "      <th></th>\n",
       "      <th></th>\n",
       "      <th></th>\n",
       "      <th></th>\n",
       "      <th></th>\n",
       "      <th></th>\n",
       "      <th></th>\n",
       "      <th></th>\n",
       "      <th></th>\n",
       "      <th></th>\n",
       "    </tr>\n",
       "  </thead>\n",
       "  <tbody>\n",
       "    <tr>\n",
       "      <th>2016-05-27</th>\n",
       "      <td>18.4751</td>\n",
       "      <td>289.95</td>\n",
       "      <td>55.40</td>\n",
       "      <td>141.28</td>\n",
       "      <td>424.140</td>\n",
       "      <td>111.850</td>\n",
       "      <td>118.813</td>\n",
       "      <td>66.0342</td>\n",
       "      <td>35645.2148</td>\n",
       "      <td>161.89</td>\n",
       "      <td>...</td>\n",
       "      <td>2.102</td>\n",
       "      <td>2.138</td>\n",
       "      <td>-10.63</td>\n",
       "      <td>-18.00</td>\n",
       "      <td>-31.63</td>\n",
       "      <td>1.9430</td>\n",
       "      <td>2.0740</td>\n",
       "      <td>2.1330</td>\n",
       "      <td>2.1738</td>\n",
       "      <td>124.13</td>\n",
       "    </tr>\n",
       "    <tr>\n",
       "      <th>2016-05-26</th>\n",
       "      <td>18.4544</td>\n",
       "      <td>284.68</td>\n",
       "      <td>55.29</td>\n",
       "      <td>141.83</td>\n",
       "      <td>427.999</td>\n",
       "      <td>111.845</td>\n",
       "      <td>118.750</td>\n",
       "      <td>65.2820</td>\n",
       "      <td>35316.8828</td>\n",
       "      <td>161.80</td>\n",
       "      <td>...</td>\n",
       "      <td>2.104</td>\n",
       "      <td>2.139</td>\n",
       "      <td>-10.46</td>\n",
       "      <td>-17.65</td>\n",
       "      <td>-31.43</td>\n",
       "      <td>1.9280</td>\n",
       "      <td>2.0575</td>\n",
       "      <td>2.1250</td>\n",
       "      <td>2.1598</td>\n",
       "      <td>124.30</td>\n",
       "    </tr>\n",
       "    <tr>\n",
       "      <th>2016-05-25</th>\n",
       "      <td>18.4852</td>\n",
       "      <td>281.40</td>\n",
       "      <td>56.33</td>\n",
       "      <td>140.98</td>\n",
       "      <td>5392.863</td>\n",
       "      <td>111.825</td>\n",
       "      <td>118.438</td>\n",
       "      <td>65.9242</td>\n",
       "      <td>35680.2227</td>\n",
       "      <td>161.61</td>\n",
       "      <td>...</td>\n",
       "      <td>2.107</td>\n",
       "      <td>2.140</td>\n",
       "      <td>-11.11</td>\n",
       "      <td>-18.40</td>\n",
       "      <td>-32.03</td>\n",
       "      <td>1.9550</td>\n",
       "      <td>2.0825</td>\n",
       "      <td>2.1453</td>\n",
       "      <td>2.1785</td>\n",
       "      <td>124.11</td>\n",
       "    </tr>\n",
       "    <tr>\n",
       "      <th>2016-05-24</th>\n",
       "      <td>18.4870</td>\n",
       "      <td>282.81</td>\n",
       "      <td>56.06</td>\n",
       "      <td>141.16</td>\n",
       "      <td>5392.863</td>\n",
       "      <td>111.815</td>\n",
       "      <td>118.500</td>\n",
       "      <td>66.8658</td>\n",
       "      <td>36154.1172</td>\n",
       "      <td>161.58</td>\n",
       "      <td>...</td>\n",
       "      <td>2.126</td>\n",
       "      <td>2.158</td>\n",
       "      <td>-11.18</td>\n",
       "      <td>-18.43</td>\n",
       "      <td>-31.94</td>\n",
       "      <td>1.9469</td>\n",
       "      <td>2.0703</td>\n",
       "      <td>2.1305</td>\n",
       "      <td>2.1615</td>\n",
       "      <td>124.24</td>\n",
       "    </tr>\n",
       "    <tr>\n",
       "      <th>2016-05-23</th>\n",
       "      <td>18.5161</td>\n",
       "      <td>282.02</td>\n",
       "      <td>55.27</td>\n",
       "      <td>141.31</td>\n",
       "      <td>5392.863</td>\n",
       "      <td>111.815</td>\n",
       "      <td>120.188</td>\n",
       "      <td>67.0104</td>\n",
       "      <td>36684.3047</td>\n",
       "      <td>161.55</td>\n",
       "      <td>...</td>\n",
       "      <td>2.092</td>\n",
       "      <td>2.125</td>\n",
       "      <td>-10.81</td>\n",
       "      <td>-18.14</td>\n",
       "      <td>-31.55</td>\n",
       "      <td>1.9245</td>\n",
       "      <td>2.0503</td>\n",
       "      <td>2.1120</td>\n",
       "      <td>2.1435</td>\n",
       "      <td>124.27</td>\n",
       "    </tr>\n",
       "  </tbody>\n",
       "</table>\n",
       "<p>5 rows × 86 columns</p>\n",
       "</div>"
      ],
      "text/plain": [
       "                 1       2      3       4         5        6        7   \\\n",
       "0                                                                        \n",
       "2016-05-27  18.4751  289.95  55.40  141.28   424.140  111.850  118.813   \n",
       "2016-05-26  18.4544  284.68  55.29  141.83   427.999  111.845  118.750   \n",
       "2016-05-25  18.4852  281.40  56.33  140.98  5392.863  111.825  118.438   \n",
       "2016-05-24  18.4870  282.81  56.06  141.16  5392.863  111.815  118.500   \n",
       "2016-05-23  18.5161  282.02  55.27  141.31  5392.863  111.815  120.188   \n",
       "\n",
       "                 8           9       10   ...       77     78     79     80  \\\n",
       "0                                         ...                                 \n",
       "2016-05-27  66.0342  35645.2148  161.89   ...    2.102  2.138 -10.63 -18.00   \n",
       "2016-05-26  65.2820  35316.8828  161.80   ...    2.104  2.139 -10.46 -17.65   \n",
       "2016-05-25  65.9242  35680.2227  161.61   ...    2.107  2.140 -11.11 -18.40   \n",
       "2016-05-24  66.8658  36154.1172  161.58   ...    2.126  2.158 -11.18 -18.43   \n",
       "2016-05-23  67.0104  36684.3047  161.55   ...    2.092  2.125 -10.81 -18.14   \n",
       "\n",
       "               81      82      83      84      85      86  \n",
       "0                                                          \n",
       "2016-05-27 -31.63  1.9430  2.0740  2.1330  2.1738  124.13  \n",
       "2016-05-26 -31.43  1.9280  2.0575  2.1250  2.1598  124.30  \n",
       "2016-05-25 -32.03  1.9550  2.0825  2.1453  2.1785  124.11  \n",
       "2016-05-24 -31.94  1.9469  2.0703  2.1305  2.1615  124.24  \n",
       "2016-05-23 -31.55  1.9245  2.0503  2.1120  2.1435  124.27  \n",
       "\n",
       "[5 rows x 86 columns]"
      ]
     },
     "execution_count": 11,
     "metadata": {},
     "output_type": "execute_result"
    }
   ],
   "source": [
    "# Pandas includes a very convenient function for filling gaps in the data.\n",
    "data_values_indexed = data_values_indexed.fillna(method='ffill')\n",
    "data_values_indexed.head()"
   ]
  },
  {
   "cell_type": "markdown",
   "metadata": {},
   "source": [
    "# Exploratory data analysis"
   ]
  },
  {
   "cell_type": "markdown",
   "metadata": {},
   "source": [
    "Exploratory Data Analysis (EDA) is foundational to working with machine learning, and any other sort of analysis. EDA means getting to know your data, getting your fingers dirty with your data, feeling it and seeing it. The end result is you know your data very well, so when you build models you build them based on an actual, practical, physical understanding of the data, not assumptions or vaguely held notions. You can still make assumptions of course, but EDA means you will understand your assumptions and why you're making those assumptions. \n",
    "\n",
    "First, take a look at the data."
   ]
  },
  {
   "cell_type": "markdown",
   "metadata": {},
   "source": [
    "## 10) Describe the data briefly"
   ]
  },
  {
   "cell_type": "code",
   "execution_count": 12,
   "metadata": {
    "collapsed": false
   },
   "outputs": [
    {
     "data": {
      "text/html": [
       "<div>\n",
       "<table border=\"1\" class=\"dataframe\">\n",
       "  <thead>\n",
       "    <tr style=\"text-align: right;\">\n",
       "      <th></th>\n",
       "      <th>1</th>\n",
       "      <th>2</th>\n",
       "      <th>3</th>\n",
       "      <th>4</th>\n",
       "      <th>5</th>\n",
       "      <th>6</th>\n",
       "      <th>7</th>\n",
       "      <th>8</th>\n",
       "      <th>9</th>\n",
       "      <th>10</th>\n",
       "      <th>...</th>\n",
       "      <th>77</th>\n",
       "      <th>78</th>\n",
       "      <th>79</th>\n",
       "      <th>80</th>\n",
       "      <th>81</th>\n",
       "      <th>82</th>\n",
       "      <th>83</th>\n",
       "      <th>84</th>\n",
       "      <th>85</th>\n",
       "      <th>86</th>\n",
       "    </tr>\n",
       "  </thead>\n",
       "  <tbody>\n",
       "    <tr>\n",
       "      <th>count</th>\n",
       "      <td>4280.000000</td>\n",
       "      <td>4280.000000</td>\n",
       "      <td>4280.000000</td>\n",
       "      <td>4280.000000</td>\n",
       "      <td>4280.000000</td>\n",
       "      <td>4280.000000</td>\n",
       "      <td>4280.000000</td>\n",
       "      <td>4280.000000</td>\n",
       "      <td>4280.000000</td>\n",
       "      <td>4280.000000</td>\n",
       "      <td>...</td>\n",
       "      <td>4280.000000</td>\n",
       "      <td>4280.000000</td>\n",
       "      <td>4280.000000</td>\n",
       "      <td>4280.000000</td>\n",
       "      <td>4280.000000</td>\n",
       "      <td>4280.000000</td>\n",
       "      <td>4280.000000</td>\n",
       "      <td>4280.000000</td>\n",
       "      <td>4280.000000</td>\n",
       "      <td>4280.000000</td>\n",
       "    </tr>\n",
       "    <tr>\n",
       "      <th>mean</th>\n",
       "      <td>11.911366</td>\n",
       "      <td>73.947745</td>\n",
       "      <td>18.881708</td>\n",
       "      <td>119.598056</td>\n",
       "      <td>1274.780457</td>\n",
       "      <td>106.901370</td>\n",
       "      <td>129.810225</td>\n",
       "      <td>32.755946</td>\n",
       "      <td>21444.728984</td>\n",
       "      <td>135.740386</td>\n",
       "      <td>...</td>\n",
       "      <td>4.514619</td>\n",
       "      <td>4.538804</td>\n",
       "      <td>52.535717</td>\n",
       "      <td>48.223883</td>\n",
       "      <td>33.826551</td>\n",
       "      <td>4.348641</td>\n",
       "      <td>4.476098</td>\n",
       "      <td>4.485189</td>\n",
       "      <td>4.547887</td>\n",
       "      <td>110.571528</td>\n",
       "    </tr>\n",
       "    <tr>\n",
       "      <th>std</th>\n",
       "      <td>1.994357</td>\n",
       "      <td>68.242552</td>\n",
       "      <td>14.150547</td>\n",
       "      <td>12.524152</td>\n",
       "      <td>1459.830658</td>\n",
       "      <td>3.125247</td>\n",
       "      <td>6.684781</td>\n",
       "      <td>10.467811</td>\n",
       "      <td>4250.049262</td>\n",
       "      <td>13.389009</td>\n",
       "      <td>...</td>\n",
       "      <td>1.388181</td>\n",
       "      <td>1.372625</td>\n",
       "      <td>30.698940</td>\n",
       "      <td>34.171762</td>\n",
       "      <td>34.130836</td>\n",
       "      <td>1.431227</td>\n",
       "      <td>1.400364</td>\n",
       "      <td>1.305526</td>\n",
       "      <td>1.362411</td>\n",
       "      <td>7.591973</td>\n",
       "    </tr>\n",
       "    <tr>\n",
       "      <th>min</th>\n",
       "      <td>8.970000</td>\n",
       "      <td>8.500000</td>\n",
       "      <td>2.840000</td>\n",
       "      <td>97.110000</td>\n",
       "      <td>182.532000</td>\n",
       "      <td>101.100000</td>\n",
       "      <td>92.985000</td>\n",
       "      <td>23.089000</td>\n",
       "      <td>9962.501200</td>\n",
       "      <td>114.210000</td>\n",
       "      <td>...</td>\n",
       "      <td>1.887000</td>\n",
       "      <td>1.928000</td>\n",
       "      <td>-13.840000</td>\n",
       "      <td>-26.250000</td>\n",
       "      <td>-37.500000</td>\n",
       "      <td>1.737800</td>\n",
       "      <td>1.863300</td>\n",
       "      <td>1.924300</td>\n",
       "      <td>1.960500</td>\n",
       "      <td>96.480000</td>\n",
       "    </tr>\n",
       "    <tr>\n",
       "      <th>25%</th>\n",
       "      <td>10.635750</td>\n",
       "      <td>21.275000</td>\n",
       "      <td>5.760000</td>\n",
       "      <td>109.847500</td>\n",
       "      <td>382.997000</td>\n",
       "      <td>103.995000</td>\n",
       "      <td>128.298000</td>\n",
       "      <td>28.140375</td>\n",
       "      <td>18765.977525</td>\n",
       "      <td>126.027500</td>\n",
       "      <td>...</td>\n",
       "      <td>3.274000</td>\n",
       "      <td>3.312750</td>\n",
       "      <td>28.690000</td>\n",
       "      <td>18.985000</td>\n",
       "      <td>0.310000</td>\n",
       "      <td>3.074000</td>\n",
       "      <td>3.236875</td>\n",
       "      <td>3.303000</td>\n",
       "      <td>3.337750</td>\n",
       "      <td>106.400000</td>\n",
       "    </tr>\n",
       "    <tr>\n",
       "      <th>50%</th>\n",
       "      <td>11.357750</td>\n",
       "      <td>51.995000</td>\n",
       "      <td>15.455000</td>\n",
       "      <td>117.300000</td>\n",
       "      <td>541.548000</td>\n",
       "      <td>106.467500</td>\n",
       "      <td>132.350000</td>\n",
       "      <td>29.795000</td>\n",
       "      <td>22347.502700</td>\n",
       "      <td>131.550000</td>\n",
       "      <td>...</td>\n",
       "      <td>4.805000</td>\n",
       "      <td>4.822000</td>\n",
       "      <td>53.615000</td>\n",
       "      <td>54.730000</td>\n",
       "      <td>49.500000</td>\n",
       "      <td>4.633750</td>\n",
       "      <td>4.770500</td>\n",
       "      <td>4.815500</td>\n",
       "      <td>4.832500</td>\n",
       "      <td>106.400000</td>\n",
       "    </tr>\n",
       "    <tr>\n",
       "      <th>75%</th>\n",
       "      <td>13.057125</td>\n",
       "      <td>96.162500</td>\n",
       "      <td>29.980000</td>\n",
       "      <td>131.025000</td>\n",
       "      <td>1690.914000</td>\n",
       "      <td>110.320000</td>\n",
       "      <td>132.350000</td>\n",
       "      <td>31.731000</td>\n",
       "      <td>22485.002700</td>\n",
       "      <td>146.980000</td>\n",
       "      <td>...</td>\n",
       "      <td>5.445000</td>\n",
       "      <td>5.450000</td>\n",
       "      <td>72.630000</td>\n",
       "      <td>71.000000</td>\n",
       "      <td>60.212500</td>\n",
       "      <td>5.309250</td>\n",
       "      <td>5.415125</td>\n",
       "      <td>5.448500</td>\n",
       "      <td>5.451125</td>\n",
       "      <td>117.092500</td>\n",
       "    </tr>\n",
       "    <tr>\n",
       "      <th>max</th>\n",
       "      <td>19.147600</td>\n",
       "      <td>290.260000</td>\n",
       "      <td>57.020000</td>\n",
       "      <td>146.130000</td>\n",
       "      <td>6937.675000</td>\n",
       "      <td>111.950000</td>\n",
       "      <td>153.093000</td>\n",
       "      <td>84.856000</td>\n",
       "      <td>45139.001500</td>\n",
       "      <td>171.340000</td>\n",
       "      <td>...</td>\n",
       "      <td>7.875000</td>\n",
       "      <td>7.855000</td>\n",
       "      <td>146.010000</td>\n",
       "      <td>151.500000</td>\n",
       "      <td>108.500000</td>\n",
       "      <td>7.886000</td>\n",
       "      <td>7.863000</td>\n",
       "      <td>6.636000</td>\n",
       "      <td>7.800000</td>\n",
       "      <td>135.840000</td>\n",
       "    </tr>\n",
       "  </tbody>\n",
       "</table>\n",
       "<p>8 rows × 86 columns</p>\n",
       "</div>"
      ],
      "text/plain": [
       "                1            2            3            4            5   \\\n",
       "count  4280.000000  4280.000000  4280.000000  4280.000000  4280.000000   \n",
       "mean     11.911366    73.947745    18.881708   119.598056  1274.780457   \n",
       "std       1.994357    68.242552    14.150547    12.524152  1459.830658   \n",
       "min       8.970000     8.500000     2.840000    97.110000   182.532000   \n",
       "25%      10.635750    21.275000     5.760000   109.847500   382.997000   \n",
       "50%      11.357750    51.995000    15.455000   117.300000   541.548000   \n",
       "75%      13.057125    96.162500    29.980000   131.025000  1690.914000   \n",
       "max      19.147600   290.260000    57.020000   146.130000  6937.675000   \n",
       "\n",
       "                6            7            8             9            10  \\\n",
       "count  4280.000000  4280.000000  4280.000000   4280.000000  4280.000000   \n",
       "mean    106.901370   129.810225    32.755946  21444.728984   135.740386   \n",
       "std       3.125247     6.684781    10.467811   4250.049262    13.389009   \n",
       "min     101.100000    92.985000    23.089000   9962.501200   114.210000   \n",
       "25%     103.995000   128.298000    28.140375  18765.977525   126.027500   \n",
       "50%     106.467500   132.350000    29.795000  22347.502700   131.550000   \n",
       "75%     110.320000   132.350000    31.731000  22485.002700   146.980000   \n",
       "max     111.950000   153.093000    84.856000  45139.001500   171.340000   \n",
       "\n",
       "          ...                77           78           79           80  \\\n",
       "count     ...       4280.000000  4280.000000  4280.000000  4280.000000   \n",
       "mean      ...          4.514619     4.538804    52.535717    48.223883   \n",
       "std       ...          1.388181     1.372625    30.698940    34.171762   \n",
       "min       ...          1.887000     1.928000   -13.840000   -26.250000   \n",
       "25%       ...          3.274000     3.312750    28.690000    18.985000   \n",
       "50%       ...          4.805000     4.822000    53.615000    54.730000   \n",
       "75%       ...          5.445000     5.450000    72.630000    71.000000   \n",
       "max       ...          7.875000     7.855000   146.010000   151.500000   \n",
       "\n",
       "                81           82           83           84           85  \\\n",
       "count  4280.000000  4280.000000  4280.000000  4280.000000  4280.000000   \n",
       "mean     33.826551     4.348641     4.476098     4.485189     4.547887   \n",
       "std      34.130836     1.431227     1.400364     1.305526     1.362411   \n",
       "min     -37.500000     1.737800     1.863300     1.924300     1.960500   \n",
       "25%       0.310000     3.074000     3.236875     3.303000     3.337750   \n",
       "50%      49.500000     4.633750     4.770500     4.815500     4.832500   \n",
       "75%      60.212500     5.309250     5.415125     5.448500     5.451125   \n",
       "max     108.500000     7.886000     7.863000     6.636000     7.800000   \n",
       "\n",
       "                86  \n",
       "count  4280.000000  \n",
       "mean    110.571528  \n",
       "std       7.591973  \n",
       "min      96.480000  \n",
       "25%     106.400000  \n",
       "50%     106.400000  \n",
       "75%     117.092500  \n",
       "max     135.840000  \n",
       "\n",
       "[8 rows x 86 columns]"
      ]
     },
     "execution_count": 12,
     "metadata": {},
     "output_type": "execute_result"
    }
   ],
   "source": [
    "data_values_indexed.describe()"
   ]
  },
  {
   "cell_type": "markdown",
   "metadata": {},
   "source": [
    "You can see that the various indices operate on scales differing by orders of magnitude. It's best to scale the data so that, for example, operations involving multiple indices aren't unduly influenced by a single, massive index.\n"
   ]
  },
  {
   "cell_type": "markdown",
   "metadata": {},
   "source": [
    "## 11) Plot the data"
   ]
  },
  {
   "cell_type": "code",
   "execution_count": 13,
   "metadata": {
    "collapsed": false
   },
   "outputs": [
    {
     "data": {
      "image/png": "[encoded data removed]",
      "text/plain": [
       "<matplotlib.figure.Figure at 0x7f97e80f3b10>"
      ]
     },
     "metadata": {},
     "output_type": "display_data"
    }
   ],
   "source": [
    "# N.B. A super-useful trick-ette is to assign the return value of plot to _ \n",
    "# so that you don't get text printed before the plot itself.\n",
    "\n",
    "# _ = pd.concat([data_values_indexed[1],\n",
    "#   data_values_indexed[1070],\n",
    "#   data_values_indexed[788],\n",
    "#   data_values_indexed[926]], axis=1).plot(figsize=(20, 15))\n",
    "\n",
    "_ = data_values_indexed.plot(figsize=(20, 15))"
   ]
  },
  {
   "cell_type": "markdown",
   "metadata": {},
   "source": [
    "As expected, the structure isn't uniformly visible for the indices. Divide each value in an individual index by the maximum value for that index., and then replot. The maximum value of all indices will be 1."
   ]
  },
  {
   "cell_type": "markdown",
   "metadata": {},
   "source": [
    "## 12) Calculate the max value for each column, prepare to scale data for each column"
   ]
  },
  {
   "cell_type": "code",
   "execution_count": 14,
   "metadata": {
    "collapsed": false
   },
   "outputs": [
    {
     "data": {
      "text/plain": [
       "1      19.1476\n",
       "2     290.2600\n",
       "3      57.0200\n",
       "4     146.1300\n",
       "5    6937.6750\n",
       "dtype: float64"
      ]
     },
     "execution_count": 14,
     "metadata": {},
     "output_type": "execute_result"
    }
   ],
   "source": [
    "data_values_indexed_max = data_values_indexed.max(axis=0) # max across axis 0 = rows\n",
    "data_values_indexed_max.head()"
   ]
  },
  {
   "cell_type": "markdown",
   "metadata": {},
   "source": [
    "## 13) Scale the data"
   ]
  },
  {
   "cell_type": "code",
   "execution_count": null,
   "metadata": {
    "collapsed": false
   },
   "outputs": [
    {
     "data": {
      "text/html": [
       "<div>\n",
       "<table border=\"1\" class=\"dataframe\">\n",
       "  <thead>\n",
       "    <tr style=\"text-align: right;\">\n",
       "      <th></th>\n",
       "      <th>1</th>\n",
       "      <th>2</th>\n",
       "      <th>3</th>\n",
       "      <th>4</th>\n",
       "      <th>5</th>\n",
       "      <th>6</th>\n",
       "      <th>7</th>\n",
       "      <th>8</th>\n",
       "      <th>9</th>\n",
       "      <th>10</th>\n",
       "      <th>...</th>\n",
       "      <th>77</th>\n",
       "      <th>78</th>\n",
       "      <th>79</th>\n",
       "      <th>80</th>\n",
       "      <th>81</th>\n",
       "      <th>82</th>\n",
       "      <th>83</th>\n",
       "      <th>84</th>\n",
       "      <th>85</th>\n",
       "      <th>86</th>\n",
       "    </tr>\n",
       "    <tr>\n",
       "      <th>0</th>\n",
       "      <th></th>\n",
       "      <th></th>\n",
       "      <th></th>\n",
       "      <th></th>\n",
       "      <th></th>\n",
       "      <th></th>\n",
       "      <th></th>\n",
       "      <th></th>\n",
       "      <th></th>\n",
       "      <th></th>\n",
       "      <th></th>\n",
       "      <th></th>\n",
       "      <th></th>\n",
       "      <th></th>\n",
       "      <th></th>\n",
       "      <th></th>\n",
       "      <th></th>\n",
       "      <th></th>\n",
       "      <th></th>\n",
       "      <th></th>\n",
       "      <th></th>\n",
       "    </tr>\n",
       "  </thead>\n",
       "  <tbody>\n",
       "    <tr>\n",
       "      <th>2016-05-27</th>\n",
       "      <td>0.964878</td>\n",
       "      <td>0.998932</td>\n",
       "      <td>0.971589</td>\n",
       "      <td>0.966810</td>\n",
       "      <td>0.061136</td>\n",
       "      <td>0.999107</td>\n",
       "      <td>0.776084</td>\n",
       "      <td>0.778191</td>\n",
       "      <td>0.789677</td>\n",
       "      <td>0.944847</td>\n",
       "      <td>...</td>\n",
       "      <td>0.266921</td>\n",
       "      <td>0.272183</td>\n",
       "      <td>-0.072803</td>\n",
       "      <td>-0.118812</td>\n",
       "      <td>-0.291521</td>\n",
       "      <td>0.246386</td>\n",
       "      <td>0.263767</td>\n",
       "      <td>0.321429</td>\n",
       "      <td>0.278692</td>\n",
       "      <td>0.913796</td>\n",
       "    </tr>\n",
       "    <tr>\n",
       "      <th>2016-05-26</th>\n",
       "      <td>0.963797</td>\n",
       "      <td>0.980776</td>\n",
       "      <td>0.969660</td>\n",
       "      <td>0.970574</td>\n",
       "      <td>0.061692</td>\n",
       "      <td>0.999062</td>\n",
       "      <td>0.775672</td>\n",
       "      <td>0.769327</td>\n",
       "      <td>0.782403</td>\n",
       "      <td>0.944321</td>\n",
       "      <td>...</td>\n",
       "      <td>0.267175</td>\n",
       "      <td>0.272311</td>\n",
       "      <td>-0.071639</td>\n",
       "      <td>-0.116502</td>\n",
       "      <td>-0.289677</td>\n",
       "      <td>0.244484</td>\n",
       "      <td>0.261669</td>\n",
       "      <td>0.320223</td>\n",
       "      <td>0.276897</td>\n",
       "      <td>0.915047</td>\n",
       "    </tr>\n",
       "    <tr>\n",
       "      <th>2016-05-25</th>\n",
       "      <td>0.965406</td>\n",
       "      <td>0.969476</td>\n",
       "      <td>0.987899</td>\n",
       "      <td>0.964757</td>\n",
       "      <td>0.777330</td>\n",
       "      <td>0.998883</td>\n",
       "      <td>0.773634</td>\n",
       "      <td>0.776895</td>\n",
       "      <td>0.790452</td>\n",
       "      <td>0.943212</td>\n",
       "      <td>...</td>\n",
       "      <td>0.267556</td>\n",
       "      <td>0.272438</td>\n",
       "      <td>-0.076091</td>\n",
       "      <td>-0.121452</td>\n",
       "      <td>-0.295207</td>\n",
       "      <td>0.247908</td>\n",
       "      <td>0.264848</td>\n",
       "      <td>0.323282</td>\n",
       "      <td>0.279295</td>\n",
       "      <td>0.913648</td>\n",
       "    </tr>\n",
       "    <tr>\n",
       "      <th>2016-05-24</th>\n",
       "      <td>0.965500</td>\n",
       "      <td>0.974333</td>\n",
       "      <td>0.983164</td>\n",
       "      <td>0.965989</td>\n",
       "      <td>0.777330</td>\n",
       "      <td>0.998794</td>\n",
       "      <td>0.774039</td>\n",
       "      <td>0.787991</td>\n",
       "      <td>0.800951</td>\n",
       "      <td>0.943037</td>\n",
       "      <td>...</td>\n",
       "      <td>0.269968</td>\n",
       "      <td>0.274729</td>\n",
       "      <td>-0.076570</td>\n",
       "      <td>-0.121650</td>\n",
       "      <td>-0.294378</td>\n",
       "      <td>0.246881</td>\n",
       "      <td>0.263296</td>\n",
       "      <td>0.321052</td>\n",
       "      <td>0.277115</td>\n",
       "      <td>0.914605</td>\n",
       "    </tr>\n",
       "    <tr>\n",
       "      <th>2016-05-23</th>\n",
       "      <td>0.967019</td>\n",
       "      <td>0.971612</td>\n",
       "      <td>0.969309</td>\n",
       "      <td>0.967016</td>\n",
       "      <td>0.777330</td>\n",
       "      <td>0.998794</td>\n",
       "      <td>0.785065</td>\n",
       "      <td>0.789695</td>\n",
       "      <td>0.812696</td>\n",
       "      <td>0.942862</td>\n",
       "      <td>...</td>\n",
       "      <td>0.265651</td>\n",
       "      <td>0.270528</td>\n",
       "      <td>-0.074036</td>\n",
       "      <td>-0.119736</td>\n",
       "      <td>-0.290783</td>\n",
       "      <td>0.244040</td>\n",
       "      <td>0.260753</td>\n",
       "      <td>0.318264</td>\n",
       "      <td>0.274808</td>\n",
       "      <td>0.914826</td>\n",
       "    </tr>\n",
       "  </tbody>\n",
       "</table>\n",
       "<p>5 rows × 86 columns</p>\n",
       "</div>"
      ],
      "text/plain": [
       "                  1         2         3         4         5         6   \\\n",
       "0                                                                        \n",
       "2016-05-27  0.964878  0.998932  0.971589  0.966810  0.061136  0.999107   \n",
       "2016-05-26  0.963797  0.980776  0.969660  0.970574  0.061692  0.999062   \n",
       "2016-05-25  0.965406  0.969476  0.987899  0.964757  0.777330  0.998883   \n",
       "2016-05-24  0.965500  0.974333  0.983164  0.965989  0.777330  0.998794   \n",
       "2016-05-23  0.967019  0.971612  0.969309  0.967016  0.777330  0.998794   \n",
       "\n",
       "                  7         8         9         10    ...           77  \\\n",
       "0                                                     ...                \n",
       "2016-05-27  0.776084  0.778191  0.789677  0.944847    ...     0.266921   \n",
       "2016-05-26  0.775672  0.769327  0.782403  0.944321    ...     0.267175   \n",
       "2016-05-25  0.773634  0.776895  0.790452  0.943212    ...     0.267556   \n",
       "2016-05-24  0.774039  0.787991  0.800951  0.943037    ...     0.269968   \n",
       "2016-05-23  0.785065  0.789695  0.812696  0.942862    ...     0.265651   \n",
       "\n",
       "                  78        79        80        81        82        83  \\\n",
       "0                                                                        \n",
       "2016-05-27  0.272183 -0.072803 -0.118812 -0.291521  0.246386  0.263767   \n",
       "2016-05-26  0.272311 -0.071639 -0.116502 -0.289677  0.244484  0.261669   \n",
       "2016-05-25  0.272438 -0.076091 -0.121452 -0.295207  0.247908  0.264848   \n",
       "2016-05-24  0.274729 -0.076570 -0.121650 -0.294378  0.246881  0.263296   \n",
       "2016-05-23  0.270528 -0.074036 -0.119736 -0.290783  0.244040  0.260753   \n",
       "\n",
       "                  84        85        86  \n",
       "0                                         \n",
       "2016-05-27  0.321429  0.278692  0.913796  \n",
       "2016-05-26  0.320223  0.276897  0.915047  \n",
       "2016-05-25  0.323282  0.279295  0.913648  \n",
       "2016-05-24  0.321052  0.277115  0.914605  \n",
       "2016-05-23  0.318264  0.274808  0.914826  \n",
       "\n",
       "[5 rows x 86 columns]"
      ]
     },
     "execution_count": 15,
     "metadata": {},
     "output_type": "execute_result"
    }
   ],
   "source": [
    "data_values_indexed_scaled = data_values_indexed / data_values_indexed_max\n",
    "data_values_indexed_scaled.head()"
   ]
  },
  {
   "cell_type": "markdown",
   "metadata": {},
   "source": [
    "## 14) Plot the scaled data"
   ]
  },
  {
   "cell_type": "code",
   "execution_count": null,
   "metadata": {
    "collapsed": false
   },
   "outputs": [],
   "source": [
    "_ = data_values_indexed_scaled.plot(figsize=(20, 15))"
   ]
  },
  {
   "cell_type": "markdown",
   "metadata": {},
   "source": [
    "## 15) Auto-correlations\n",
    "\n",
    "Next, plot autocorrelations for each of the indices. The autocorrelations determine correlations between current values of the index and lagged values of the same index. The goal is to determine whether the lagged values are reliable indicators of the current values. If they are, then we've identified a correlation."
   ]
  },
  {
   "cell_type": "code",
   "execution_count": null,
   "metadata": {
    "collapsed": false
   },
   "outputs": [],
   "source": [
    "fig = plt.figure()\n",
    "fig.set_figwidth(20)\n",
    "fig.set_figheight(10)\n",
    "\n",
    "_ = autocorrelation_plot(data_values_indexed_scaled)"
   ]
  },
  {
   "cell_type": "markdown",
   "metadata": {},
   "source": [
    "For 2300 lagged days, we observe positive auto-correlations.\n",
    "This suggests that as the variables increase, they tend to keep on increasing. Momentum.\n",
    "\n",
    "After 2300 lagged days, we observe negative auto-correlations."
   ]
  },
  {
   "cell_type": "markdown",
   "metadata": {},
   "source": [
    "## 16) Skip: Just a reminder of the PCA columns we selected earlier"
   ]
  },
  {
   "cell_type": "code",
   "execution_count": null,
   "metadata": {
    "collapsed": true
   },
   "outputs": [],
   "source": [
    "# list_cols_pca = [ 0,1,\n",
    "#                   1070,788,926,112,69,574,654,1160,527,323,\n",
    "#                   397,118,774,1028,1034,655,907,736,251,388,\n",
    "#                   327,243,705,303,1146,467,136,1006,600,15,\n",
    "#                   231,290,131,782,20,1048,630,1173,431,856,\n",
    "#                   67,299,838,639,53,932,870,938,1061\n",
    "#                 ]"
   ]
  },
  {
   "cell_type": "markdown",
   "metadata": {},
   "source": [
    "## 17) Scatter plots of the first 20 of our 86 variables vs USDMXN(varid=1)"
   ]
  },
  {
   "cell_type": "code",
   "execution_count": null,
   "metadata": {
    "collapsed": false
   },
   "outputs": [],
   "source": [
    "# _ = scatter_matrix(data_values_indexed_scaled)\n",
    "dvis = data_values_indexed_scaled\n",
    "\n",
    "_ = scatter_matrix(\n",
    "      pd.concat(\n",
    "      [ \n",
    "        dvis[ 1],dvis[ 2],dvis[ 3],dvis[ 4],dvis[ 5],dvis[ 6],dvis[ 7],dvis[ 8],dvis[ 9],dvis[10],\n",
    "        dvis[11],dvis[12],dvis[13],dvis[14],dvis[15],dvis[16],dvis[17],dvis[18],dvis[19],dvis[20],\n",
    "      ], axis=1), figsize=(15, 15), diagonal='kde')"
   ]
  },
  {
   "cell_type": "markdown",
   "metadata": {},
   "source": [
    "## 18) Remind ourselves what our scaled data (of price or index LEVELS) looks like"
   ]
  },
  {
   "cell_type": "code",
   "execution_count": null,
   "metadata": {
    "collapsed": false
   },
   "outputs": [],
   "source": [
    "data_values_indexed_scaled.head()"
   ]
  },
  {
   "cell_type": "markdown",
   "metadata": {},
   "source": [
    "## 19) Calculate Log Returns on our scaled data"
   ]
  },
  {
   "cell_type": "code",
   "execution_count": null,
   "metadata": {
    "collapsed": false
   },
   "outputs": [],
   "source": [
    "data_values_indexed_scaled_logret = pd.DataFrame()\n",
    "data_values_indexed_scaled_logret = np.log(data_values_indexed_scaled/data_values_indexed_scaled.shift(-1)) # note dates are reverse-chrono\n",
    "\n",
    "data_values_indexed_scaled_logret.head()"
   ]
  },
  {
   "cell_type": "code",
   "execution_count": null,
   "metadata": {
    "collapsed": false
   },
   "outputs": [],
   "source": [
    "data_values_indexed_scaled_logret.tail()"
   ]
  },
  {
   "cell_type": "code",
   "execution_count": null,
   "metadata": {
    "collapsed": false
   },
   "outputs": [],
   "source": [
    "data_values_indexed_scaled_logret.describe()"
   ]
  },
  {
   "cell_type": "code",
   "execution_count": null,
   "metadata": {
    "collapsed": false
   },
   "outputs": [],
   "source": [
    "# 2000/01/07 to 2016/05/27 = 1 header row + 4279 data rows\n",
    "# print data_values_indexed_scaled_logret.head()\n",
    "# print data_values_indexed_scaled_logret.tail()\n",
    "print 'NumRowsIncludeHeader = len(data_values_indexed_scaled_logret) = ' + str(len(data_values_indexed_scaled_logret))"
   ]
  },
  {
   "cell_type": "markdown",
   "metadata": {},
   "source": [
    "## 20) Replace inf, NaN in data with Zero"
   ]
  },
  {
   "cell_type": "code",
   "execution_count": null,
   "metadata": {
    "collapsed": false
   },
   "outputs": [],
   "source": [
    "data_values_indexed_scaled_logret = data_values_indexed_scaled_logret.replace([np.inf, -np.inf, np.nan], 0)\n",
    "data_values_indexed_scaled_logret.describe()"
   ]
  },
  {
   "cell_type": "markdown",
   "metadata": {},
   "source": [
    "## 21) Skip: Fill the Gaps"
   ]
  },
  {
   "cell_type": "code",
   "execution_count": null,
   "metadata": {
    "collapsed": false
   },
   "outputs": [],
   "source": [
    "# Pandas includes a very convenient function for filling gaps in the data.\n",
    "# data_values_indexed_scaled_logret = data_values_indexed_scaled_logret.fillna(method='ffill')\n",
    "data_values_indexed_scaled_logret.head()"
   ]
  },
  {
   "cell_type": "markdown",
   "metadata": {},
   "source": [
    "## 22) Plot log returns of scaled data"
   ]
  },
  {
   "cell_type": "code",
   "execution_count": null,
   "metadata": {
    "collapsed": false
   },
   "outputs": [],
   "source": [
    "_ = data_values_indexed_scaled_logret.plot(figsize=(20, 15))"
   ]
  },
  {
   "cell_type": "markdown",
   "metadata": {},
   "source": [
    "## 23) Auto-Correlations of log returns of scaled data"
   ]
  },
  {
   "cell_type": "code",
   "execution_count": null,
   "metadata": {
    "collapsed": false
   },
   "outputs": [],
   "source": [
    "fig = plt.figure()\n",
    "fig.set_figwidth(20)\n",
    "fig.set_figheight(10)\n",
    "\n",
    "_ = autocorrelation_plot(data_values_indexed_scaled_logret)"
   ]
  },
  {
   "cell_type": "markdown",
   "metadata": {},
   "source": [
    "There are no auto-correlations, so we are good."
   ]
  },
  {
   "cell_type": "markdown",
   "metadata": {},
   "source": [
    "## 24) Skip: Just a reminder of the PCA50 Columns we selected earlier"
   ]
  },
  {
   "cell_type": "code",
   "execution_count": null,
   "metadata": {
    "collapsed": true
   },
   "outputs": [],
   "source": [
    "# list_cols_pca = [ 0,1,\n",
    "#                   1070,788,926,112,69,574,654,1160,527,323,\n",
    "#                   397,118,774,1028,1034,655,907,736,251,388,\n",
    "#                   327,243,705,303,1146,467,136,1006,600,15,\n",
    "#                   231,290,131,782,20,1048,630,1173,431,856,\n",
    "#                   67,299,838,639,53,932,870,938,1061\n",
    "#                 ]"
   ]
  },
  {
   "cell_type": "markdown",
   "metadata": {},
   "source": [
    "## 25) Scatter plots of log returns of first 20 of the 86 variables where log-returns of USDMXN(varid=1)"
   ]
  },
  {
   "cell_type": "code",
   "execution_count": null,
   "metadata": {
    "collapsed": false
   },
   "outputs": [],
   "source": [
    "# _ = scatter_matrix(data_values_indexed_scaled_logret)   # takes long time, becareful, save work first\n",
    "dvislr = data_values_indexed_scaled_logret\n",
    "\n",
    "_ = scatter_matrix(\n",
    "      pd.concat(\n",
    "      [ \n",
    "        dvislr[ 1],dvislr[ 2],dvislr[ 3],dvislr[ 4],dvislr[ 5],dvislr[ 6],dvislr[ 7],dvislr[ 8],dvislr[ 9],dvislr[10],\n",
    "        dvislr[11],dvislr[12],dvislr[13],dvislr[14],dvislr[15],dvislr[16],dvislr[17],dvislr[18],dvislr[19],dvislr[20],\n",
    "      ], axis=1), figsize=(15, 15), diagonal='kde')\n"
   ]
  },
  {
   "cell_type": "code",
   "execution_count": null,
   "metadata": {
    "collapsed": false
   },
   "outputs": [],
   "source": [
    "data_values_indexed_scaled_logret.head()"
   ]
  },
  {
   "cell_type": "markdown",
   "metadata": {},
   "source": [
    "## Summing up the EDA"
   ]
  },
  {
   "cell_type": "markdown",
   "metadata": {},
   "source": [
    "At this point, you've done a good enough job of exploratory data analysis. You've visualized our data and come to know it better. \n",
    "You've transformed it into a form that is useful for modelling, log returns, and looked at how indices relate to each other. \n",
    "\n",
    "What should we think so far?\n",
    "\n",
    "Cloud Datalab is working great. With just a few lines of code, you were able to munge the data, visualize the changes, and make decisions. You could easily analyze and iterate. This is a common feature of iPython, but the advantage here is that Cloud Datalab is a managed service that you can simply click and use, so you can focus on your analysis."
   ]
  },
  {
   "cell_type": "markdown",
   "metadata": {},
   "source": [
    "## Feature selection"
   ]
  },
  {
   "cell_type": "markdown",
   "metadata": {},
   "source": [
    "At this point, we can see a model:\n",
    "\n",
    "* We'll predict whether the USDMXN close today will be higher or lower than yesterday.\n",
    "\n",
    "Predicting whether the log return of the USDMXN is positive or negative is a classification problem. \n",
    "That is, we want to choose one option from a finite set of options, in this case positive or negative. \n",
    "This is the base case of classification where we have only two values to choose from, known as binary classification, or logistic regression.\n",
    "\n",
    "Machine learning models are very good at finding weak signals from data.\n",
    "In machine learning, as in most things, there are subtle tradeoffs happening, but in general good data is better than good algorithms, which are better than good frameworks. \n",
    "You need all three pillars but in that order of importance: data, algorithms, frameworks."
   ]
  },
  {
   "cell_type": "markdown",
   "metadata": {},
   "source": [
    "## TensorFlow"
   ]
  },
  {
   "cell_type": "markdown",
   "metadata": {},
   "source": [
    "[TensorFlow](https://tensorflow.org) is an open source software library, initiated by Google, for numerical computation using data flow graphs. TensorFlow is based on Google's machine learning expertise and is the next generation framework used internally at Google for tasks such as translation and image recognition. It's a wonderful framework for machine learning because it's expressive, efficient, and easy to use."
   ]
  },
  {
   "cell_type": "markdown",
   "metadata": {},
   "source": [
    "### Feature engineering for TensorFlow"
   ]
  },
  {
   "cell_type": "markdown",
   "metadata": {},
   "source": [
    "From a training and testing perspective, time series data is easy. Training data should come from events that happened before test data events, and be contiguous in time.  Otherwise,  your model would be trained on events from \"the future\", at least as compared to the test data. It would then likely perform badly in practice, because you can’t really have access to data from the future. That means random sampling or cross validation don't apply to time series data. Decide on a training-versus-testing split, and divide your data into training and test datasets.\n",
    "\n",
    "In this case, you'll create the features together with two additional columns:\n",
    "\n",
    "* usdmxn_logret_positive, which is 1 if the log return of the USDMXN close is positive, and 0 otherwise. \n",
    "* usdmxn_logret_negative, which is 1 if the log return of the USDMXN close is negative, and 1 otherwise. \n",
    "\n",
    "We'll use 80% of our data for training and 20% for testing."
   ]
  },
  {
   "cell_type": "markdown",
   "metadata": {},
   "source": [
    "# Model 1: Binary Classification (BC) = Logistic Regression (LR)"
   ]
  },
  {
   "cell_type": "markdown",
   "metadata": {},
   "source": [
    "## Model 1: Step 01: Indicator Columns"
   ]
  },
  {
   "cell_type": "code",
   "execution_count": null,
   "metadata": {
    "collapsed": true
   },
   "outputs": [],
   "source": [
    "# 00: Original: Initialize indicator columns to 0\n",
    "data_values_indexed_scaled_logret['usdmxn_logret_positive'] = 0\n",
    "data_values_indexed_scaled_logret['usdmxn_logret_negative'] = 0"
   ]
  },
  {
   "cell_type": "code",
   "execution_count": null,
   "metadata": {
    "collapsed": true
   },
   "outputs": [],
   "source": [
    "# 00: Populate results columns according to actual usdmxn returns (positive or negative)\n",
    "data_values_indexed_scaled_logret.ix[data_values_indexed_scaled_logret[1] >= 0, 'usdmxn_logret_positive'] = 1\n",
    "data_values_indexed_scaled_logret.ix[data_values_indexed_scaled_logret[1] <  0, 'usdmxn_logret_negative'] = 1"
   ]
  },
  {
   "cell_type": "code",
   "execution_count": null,
   "metadata": {
    "collapsed": true
   },
   "outputs": [],
   "source": [
    "# 01: Noise Cancellation\n",
    "data_values_indexed_scaled_logret['usdmxn_logret_positive_0050bp'] = 0\n",
    "data_values_indexed_scaled_logret['usdmxn_logret_negative_0050bp'] = 0"
   ]
  },
  {
   "cell_type": "code",
   "execution_count": null,
   "metadata": {
    "collapsed": true
   },
   "outputs": [],
   "source": [
    "# 01: Populate results columns according to actual usdmxn returns (outside noise zone above or below)\n",
    "data_values_indexed_scaled_logret.ix[data_values_indexed_scaled_logret[1] >= 0.0050, 'usdmxn_logret_positive_0050bp'] = 1\n",
    "data_values_indexed_scaled_logret.ix[data_values_indexed_scaled_logret[1] <  -0.0050, 'usdmxn_logret_negative_0050bp'] = 1"
   ]
  },
  {
   "cell_type": "code",
   "execution_count": null,
   "metadata": {
    "collapsed": true
   },
   "outputs": [],
   "source": [
    "# # 02: Stratification\n",
    "# data_values_indexed_scaled_logret['usdmxn_logret_+0150bp_and_above'] = 0; data_values_indexed_scaled_logret['usdmxn_logret_+0150bp_and_below'] = 0;\n",
    "# data_values_indexed_scaled_logret['usdmxn_logret_+0140bp_and_above'] = 0; data_values_indexed_scaled_logret['usdmxn_logret_+0140bp_and_below'] = 0;\n",
    "# data_values_indexed_scaled_logret['usdmxn_logret_+0130bp_and_above'] = 0; data_values_indexed_scaled_logret['usdmxn_logret_+0130bp_and_below'] = 0;\n",
    "# data_values_indexed_scaled_logret['usdmxn_logret_+0120bp_and_above'] = 0; data_values_indexed_scaled_logret['usdmxn_logret_+0120bp_and_below'] = 0;\n",
    "# data_values_indexed_scaled_logret['usdmxn_logret_+0110bp_and_above'] = 0; data_values_indexed_scaled_logret['usdmxn_logret_+0110bp_and_below'] = 0;\n",
    "# data_values_indexed_scaled_logret['usdmxn_logret_+0100bp_and_above'] = 0; data_values_indexed_scaled_logret['usdmxn_logret_+0100bp_and_below'] = 0;\n",
    "# data_values_indexed_scaled_logret['usdmxn_logret_+0090bp_and_above'] = 0; data_values_indexed_scaled_logret['usdmxn_logret_+0090bp_and_below'] = 0;\n",
    "# data_values_indexed_scaled_logret['usdmxn_logret_+0080bp_and_above'] = 0; data_values_indexed_scaled_logret['usdmxn_logret_+0080bp_and_below'] = 0;\n",
    "# data_values_indexed_scaled_logret['usdmxn_logret_+0070bp_and_above'] = 0; data_values_indexed_scaled_logret['usdmxn_logret_+0070bp_and_below'] = 0;\n",
    "# data_values_indexed_scaled_logret['usdmxn_logret_+0060bp_and_above'] = 0; data_values_indexed_scaled_logret['usdmxn_logret_+0060bp_and_below'] = 0;\n",
    "# data_values_indexed_scaled_logret['usdmxn_logret_+0050bp_and_above'] = 0; data_values_indexed_scaled_logret['usdmxn_logret_+0050bp_and_below'] = 0;\n",
    "# data_values_indexed_scaled_logret['usdmxn_logret_+0040bp_and_above'] = 0; data_values_indexed_scaled_logret['usdmxn_logret_+0040bp_and_below'] = 0;\n",
    "# data_values_indexed_scaled_logret['usdmxn_logret_+0030bp_and_above'] = 0; data_values_indexed_scaled_logret['usdmxn_logret_+0030bp_and_below'] = 0;\n",
    "# data_values_indexed_scaled_logret['usdmxn_logret_+0020bp_and_above'] = 0; data_values_indexed_scaled_logret['usdmxn_logret_+0020bp_and_below'] = 0;\n",
    "# data_values_indexed_scaled_logret['usdmxn_logret_+0010bp_and_above'] = 0; data_values_indexed_scaled_logret['usdmxn_logret_+0010bp_and_below'] = 0;\n",
    "# data_values_indexed_scaled_logret['usdmxn_logret_+0000bp_and_above'] = 0; data_values_indexed_scaled_logret['usdmxn_logret_+0000bp_and_below'] = 0;\n",
    "# data_values_indexed_scaled_logret['usdmxn_logret_-0010bp_and_above'] = 0; data_values_indexed_scaled_logret['usdmxn_logret_-0010bp_and_below'] = 0;\n",
    "# data_values_indexed_scaled_logret['usdmxn_logret_-0020bp_and_above'] = 0; data_values_indexed_scaled_logret['usdmxn_logret_-0020bp_and_below'] = 0;\n",
    "# data_values_indexed_scaled_logret['usdmxn_logret_-0030bp_and_above'] = 0; data_values_indexed_scaled_logret['usdmxn_logret_-0030bp_and_below'] = 0;\n",
    "# data_values_indexed_scaled_logret['usdmxn_logret_-0040bp_and_above'] = 0; data_values_indexed_scaled_logret['usdmxn_logret_-0040bp_and_below'] = 0;\n",
    "# data_values_indexed_scaled_logret['usdmxn_logret_-0050bp_and_above'] = 0; data_values_indexed_scaled_logret['usdmxn_logret_-0050bp_and_below'] = 0;\n",
    "# data_values_indexed_scaled_logret['usdmxn_logret_-0060bp_and_above'] = 0; data_values_indexed_scaled_logret['usdmxn_logret_-0060bp_and_below'] = 0;\n",
    "# data_values_indexed_scaled_logret['usdmxn_logret_-0070bp_and_above'] = 0; data_values_indexed_scaled_logret['usdmxn_logret_-0070bp_and_below'] = 0;\n",
    "# data_values_indexed_scaled_logret['usdmxn_logret_-0080bp_and_above'] = 0; data_values_indexed_scaled_logret['usdmxn_logret_-0080bp_and_below'] = 0;\n",
    "# data_values_indexed_scaled_logret['usdmxn_logret_-0090bp_and_above'] = 0; data_values_indexed_scaled_logret['usdmxn_logret_-0090bp_and_below'] = 0;\n",
    "# data_values_indexed_scaled_logret['usdmxn_logret_-0100bp_and_above'] = 0; data_values_indexed_scaled_logret['usdmxn_logret_-0100bp_and_below'] = 0;\n",
    "# data_values_indexed_scaled_logret['usdmxn_logret_-0110bp_and_above'] = 0; data_values_indexed_scaled_logret['usdmxn_logret_-0110bp_and_below'] = 0;\n",
    "# data_values_indexed_scaled_logret['usdmxn_logret_-0120bp_and_above'] = 0; data_values_indexed_scaled_logret['usdmxn_logret_-0120bp_and_below'] = 0;\n",
    "# data_values_indexed_scaled_logret['usdmxn_logret_-0130bp_and_above'] = 0; data_values_indexed_scaled_logret['usdmxn_logret_-0130bp_and_below'] = 0;\n",
    "# data_values_indexed_scaled_logret['usdmxn_logret_-0140bp_and_above'] = 0; data_values_indexed_scaled_logret['usdmxn_logret_-0140bp_and_below'] = 0;\n",
    "# data_values_indexed_scaled_logret['usdmxn_logret_-0150bp_and_above'] = 0; data_values_indexed_scaled_logret['usdmxn_logret_-0150bp_and_below'] = 0;"
   ]
  },
  {
   "cell_type": "code",
   "execution_count": null,
   "metadata": {
    "collapsed": true
   },
   "outputs": [],
   "source": [
    "# 02: Stratification: Initialize\n",
    "for d_bp in xrange(-150,160,10): # -150:10:+150\n",
    "  d = d_bp / 10000.00\n",
    "  s_above = 'usdmxn_logret_' + '{0:+05d}'.format(d_bp) + 'bp_and_above'\n",
    "  s_below = 'usdmxn_logret_' + '{0:+05d}'.format(d_bp) + 'bp_and_below'\n",
    "  # print d\n",
    "  # print s_above\n",
    "  # print s_below\n",
    "  data_values_indexed_scaled_logret[s_above] = 0;\n",
    "  data_values_indexed_scaled_logret[s_below] = 0;"
   ]
  },
  {
   "cell_type": "code",
   "execution_count": null,
   "metadata": {
    "collapsed": false
   },
   "outputs": [],
   "source": [
    "# 02: Stratification: Populate results columns according to actual usdmxn returns (above or below each level)\n",
    "for d_bp in xrange(-150,160,10): # -150:10:+150\n",
    "  d = d_bp / 10000.00\n",
    "  s_above = 'usdmxn_logret_' + '{0:+05d}'.format(d_bp) + 'bp_and_above'\n",
    "  s_below = 'usdmxn_logret_' + '{0:+05d}'.format(d_bp) + 'bp_and_below'\n",
    "  # print d\n",
    "  # print s_above\n",
    "  # print s_below\n",
    "  data_values_indexed_scaled_logret.ix[data_values_indexed_scaled_logret[1] >= d, s_above] = 1\n",
    "  data_values_indexed_scaled_logret.ix[data_values_indexed_scaled_logret[1] <  d, s_below] = 1\n"
   ]
  },
  {
   "cell_type": "code",
   "execution_count": null,
   "metadata": {
    "collapsed": false
   },
   "outputs": [],
   "source": [
    "data_values_indexed_scaled_logret.head()"
   ]
  },
  {
   "cell_type": "code",
   "execution_count": null,
   "metadata": {
    "collapsed": false
   },
   "outputs": [],
   "source": [
    "data_values_indexed_scaled_logret.describe()"
   ]
  },
  {
   "cell_type": "markdown",
   "metadata": {},
   "source": [
    "## Model 1: Step 01.01: Remove data noise [-0.5%, 0.5%], 4280 left with 1437 rows"
   ]
  },
  {
   "cell_type": "code",
   "execution_count": 41,
   "metadata": {
    "collapsed": false
   },
   "outputs": [],
   "source": [
    "# dvislrnr = data_values_indexed_scaled_logret (noise removed)\n",
    "dvislrnr =  data_values_indexed_scaled_logret\n",
    "\n",
    "# df[(df.A == 1) & (df.D == 6)]\n",
    "dvislrnr = dvislrnr[ \n",
    "    (dvislrnr['usdmxn_logret_+0050bp_and_above'] == 1) |\n",
    "    (dvislrnr['usdmxn_logret_-0050bp_and_below'] == 1)\n",
    "  ]\n"
   ]
  },
  {
   "cell_type": "code",
   "execution_count": 42,
   "metadata": {
    "collapsed": false
   },
   "outputs": [
    {
     "data": {
      "text/html": [
       "<div>\n",
       "<table border=\"1\" class=\"dataframe\">\n",
       "  <thead>\n",
       "    <tr style=\"text-align: right;\">\n",
       "      <th></th>\n",
       "      <th>1</th>\n",
       "      <th>2</th>\n",
       "      <th>3</th>\n",
       "      <th>4</th>\n",
       "      <th>5</th>\n",
       "      <th>6</th>\n",
       "      <th>7</th>\n",
       "      <th>8</th>\n",
       "      <th>9</th>\n",
       "      <th>10</th>\n",
       "      <th>...</th>\n",
       "      <th>usdmxn_logret_+0110bp_and_above</th>\n",
       "      <th>usdmxn_logret_+0110bp_and_below</th>\n",
       "      <th>usdmxn_logret_+0120bp_and_above</th>\n",
       "      <th>usdmxn_logret_+0120bp_and_below</th>\n",
       "      <th>usdmxn_logret_+0130bp_and_above</th>\n",
       "      <th>usdmxn_logret_+0130bp_and_below</th>\n",
       "      <th>usdmxn_logret_+0140bp_and_above</th>\n",
       "      <th>usdmxn_logret_+0140bp_and_below</th>\n",
       "      <th>usdmxn_logret_+0150bp_and_above</th>\n",
       "      <th>usdmxn_logret_+0150bp_and_below</th>\n",
       "    </tr>\n",
       "  </thead>\n",
       "  <tbody>\n",
       "    <tr>\n",
       "      <th>count</th>\n",
       "      <td>4280.000000</td>\n",
       "      <td>4280.000000</td>\n",
       "      <td>4280.000000</td>\n",
       "      <td>4280.000000</td>\n",
       "      <td>4280.000000</td>\n",
       "      <td>4280.000000</td>\n",
       "      <td>4280.000000</td>\n",
       "      <td>4280.000000</td>\n",
       "      <td>4280.000000</td>\n",
       "      <td>4280.000000</td>\n",
       "      <td>...</td>\n",
       "      <td>4280.000000</td>\n",
       "      <td>4280.000000</td>\n",
       "      <td>4280.000000</td>\n",
       "      <td>4280.000000</td>\n",
       "      <td>4280.000000</td>\n",
       "      <td>4280.000000</td>\n",
       "      <td>4280.000000</td>\n",
       "      <td>4280.000000</td>\n",
       "      <td>4280.000000</td>\n",
       "      <td>4280.000000</td>\n",
       "    </tr>\n",
       "    <tr>\n",
       "      <th>mean</th>\n",
       "      <td>0.000155</td>\n",
       "      <td>0.000704</td>\n",
       "      <td>0.000561</td>\n",
       "      <td>0.000041</td>\n",
       "      <td>0.000024</td>\n",
       "      <td>0.000020</td>\n",
       "      <td>-0.000025</td>\n",
       "      <td>0.000204</td>\n",
       "      <td>0.000108</td>\n",
       "      <td>0.000070</td>\n",
       "      <td>...</td>\n",
       "      <td>0.048364</td>\n",
       "      <td>0.951636</td>\n",
       "      <td>0.037850</td>\n",
       "      <td>0.962150</td>\n",
       "      <td>0.027336</td>\n",
       "      <td>0.972664</td>\n",
       "      <td>0.021729</td>\n",
       "      <td>0.978271</td>\n",
       "      <td>0.017991</td>\n",
       "      <td>0.982009</td>\n",
       "    </tr>\n",
       "    <tr>\n",
       "      <th>std</th>\n",
       "      <td>0.006766</td>\n",
       "      <td>0.020756</td>\n",
       "      <td>0.018346</td>\n",
       "      <td>0.004670</td>\n",
       "      <td>0.056946</td>\n",
       "      <td>0.000857</td>\n",
       "      <td>0.010163</td>\n",
       "      <td>0.007857</td>\n",
       "      <td>0.026630</td>\n",
       "      <td>0.003441</td>\n",
       "      <td>...</td>\n",
       "      <td>0.214560</td>\n",
       "      <td>0.214560</td>\n",
       "      <td>0.190857</td>\n",
       "      <td>0.190857</td>\n",
       "      <td>0.163081</td>\n",
       "      <td>0.163081</td>\n",
       "      <td>0.145814</td>\n",
       "      <td>0.145814</td>\n",
       "      <td>0.132933</td>\n",
       "      <td>0.132933</td>\n",
       "    </tr>\n",
       "    <tr>\n",
       "      <th>min</th>\n",
       "      <td>-0.066527</td>\n",
       "      <td>-0.614143</td>\n",
       "      <td>-0.101624</td>\n",
       "      <td>-0.190591</td>\n",
       "      <td>-2.533711</td>\n",
       "      <td>-0.007372</td>\n",
       "      <td>-0.166175</td>\n",
       "      <td>-0.123921</td>\n",
       "      <td>-0.385704</td>\n",
       "      <td>-0.024960</td>\n",
       "      <td>...</td>\n",
       "      <td>0.000000</td>\n",
       "      <td>0.000000</td>\n",
       "      <td>0.000000</td>\n",
       "      <td>0.000000</td>\n",
       "      <td>0.000000</td>\n",
       "      <td>0.000000</td>\n",
       "      <td>0.000000</td>\n",
       "      <td>0.000000</td>\n",
       "      <td>0.000000</td>\n",
       "      <td>0.000000</td>\n",
       "    </tr>\n",
       "    <tr>\n",
       "      <th>25%</th>\n",
       "      <td>-0.003348</td>\n",
       "      <td>-0.005990</td>\n",
       "      <td>-0.008798</td>\n",
       "      <td>-0.001978</td>\n",
       "      <td>-0.003060</td>\n",
       "      <td>-0.000318</td>\n",
       "      <td>0.000000</td>\n",
       "      <td>-0.001618</td>\n",
       "      <td>-0.002285</td>\n",
       "      <td>-0.001332</td>\n",
       "      <td>...</td>\n",
       "      <td>0.000000</td>\n",
       "      <td>1.000000</td>\n",
       "      <td>0.000000</td>\n",
       "      <td>1.000000</td>\n",
       "      <td>0.000000</td>\n",
       "      <td>1.000000</td>\n",
       "      <td>0.000000</td>\n",
       "      <td>1.000000</td>\n",
       "      <td>0.000000</td>\n",
       "      <td>1.000000</td>\n",
       "    </tr>\n",
       "    <tr>\n",
       "      <th>50%</th>\n",
       "      <td>-0.000076</td>\n",
       "      <td>0.000000</td>\n",
       "      <td>0.000000</td>\n",
       "      <td>0.000085</td>\n",
       "      <td>0.000000</td>\n",
       "      <td>0.000000</td>\n",
       "      <td>0.000000</td>\n",
       "      <td>0.000000</td>\n",
       "      <td>0.000000</td>\n",
       "      <td>0.000073</td>\n",
       "      <td>...</td>\n",
       "      <td>0.000000</td>\n",
       "      <td>1.000000</td>\n",
       "      <td>0.000000</td>\n",
       "      <td>1.000000</td>\n",
       "      <td>0.000000</td>\n",
       "      <td>1.000000</td>\n",
       "      <td>0.000000</td>\n",
       "      <td>1.000000</td>\n",
       "      <td>0.000000</td>\n",
       "      <td>1.000000</td>\n",
       "    </tr>\n",
       "    <tr>\n",
       "      <th>75%</th>\n",
       "      <td>0.003311</td>\n",
       "      <td>0.008082</td>\n",
       "      <td>0.009255</td>\n",
       "      <td>0.002250</td>\n",
       "      <td>0.002376</td>\n",
       "      <td>0.000407</td>\n",
       "      <td>0.000000</td>\n",
       "      <td>0.001508</td>\n",
       "      <td>0.002399</td>\n",
       "      <td>0.001593</td>\n",
       "      <td>...</td>\n",
       "      <td>0.000000</td>\n",
       "      <td>1.000000</td>\n",
       "      <td>0.000000</td>\n",
       "      <td>1.000000</td>\n",
       "      <td>0.000000</td>\n",
       "      <td>1.000000</td>\n",
       "      <td>0.000000</td>\n",
       "      <td>1.000000</td>\n",
       "      <td>0.000000</td>\n",
       "      <td>1.000000</td>\n",
       "    </tr>\n",
       "    <tr>\n",
       "      <th>max</th>\n",
       "      <td>0.070259</td>\n",
       "      <td>0.137621</td>\n",
       "      <td>0.133531</td>\n",
       "      <td>0.020071</td>\n",
       "      <td>0.700986</td>\n",
       "      <td>0.005774</td>\n",
       "      <td>0.229973</td>\n",
       "      <td>0.108471</td>\n",
       "      <td>0.697777</td>\n",
       "      <td>0.083623</td>\n",
       "      <td>...</td>\n",
       "      <td>1.000000</td>\n",
       "      <td>1.000000</td>\n",
       "      <td>1.000000</td>\n",
       "      <td>1.000000</td>\n",
       "      <td>1.000000</td>\n",
       "      <td>1.000000</td>\n",
       "      <td>1.000000</td>\n",
       "      <td>1.000000</td>\n",
       "      <td>1.000000</td>\n",
       "      <td>1.000000</td>\n",
       "    </tr>\n",
       "  </tbody>\n",
       "</table>\n",
       "<p>8 rows × 152 columns</p>\n",
       "</div>"
      ],
      "text/plain": [
       "                 1            2            3            4            5  \\\n",
       "count  4280.000000  4280.000000  4280.000000  4280.000000  4280.000000   \n",
       "mean      0.000155     0.000704     0.000561     0.000041     0.000024   \n",
       "std       0.006766     0.020756     0.018346     0.004670     0.056946   \n",
       "min      -0.066527    -0.614143    -0.101624    -0.190591    -2.533711   \n",
       "25%      -0.003348    -0.005990    -0.008798    -0.001978    -0.003060   \n",
       "50%      -0.000076     0.000000     0.000000     0.000085     0.000000   \n",
       "75%       0.003311     0.008082     0.009255     0.002250     0.002376   \n",
       "max       0.070259     0.137621     0.133531     0.020071     0.700986   \n",
       "\n",
       "                 6            7            8            9           10  \\\n",
       "count  4280.000000  4280.000000  4280.000000  4280.000000  4280.000000   \n",
       "mean      0.000020    -0.000025     0.000204     0.000108     0.000070   \n",
       "std       0.000857     0.010163     0.007857     0.026630     0.003441   \n",
       "min      -0.007372    -0.166175    -0.123921    -0.385704    -0.024960   \n",
       "25%      -0.000318     0.000000    -0.001618    -0.002285    -0.001332   \n",
       "50%       0.000000     0.000000     0.000000     0.000000     0.000073   \n",
       "75%       0.000407     0.000000     0.001508     0.002399     0.001593   \n",
       "max       0.005774     0.229973     0.108471     0.697777     0.083623   \n",
       "\n",
       "                    ...                 usdmxn_logret_+0110bp_and_above  \\\n",
       "count               ...                                     4280.000000   \n",
       "mean                ...                                        0.048364   \n",
       "std                 ...                                        0.214560   \n",
       "min                 ...                                        0.000000   \n",
       "25%                 ...                                        0.000000   \n",
       "50%                 ...                                        0.000000   \n",
       "75%                 ...                                        0.000000   \n",
       "max                 ...                                        1.000000   \n",
       "\n",
       "       usdmxn_logret_+0110bp_and_below  usdmxn_logret_+0120bp_and_above  \\\n",
       "count                      4280.000000                      4280.000000   \n",
       "mean                          0.951636                         0.037850   \n",
       "std                           0.214560                         0.190857   \n",
       "min                           0.000000                         0.000000   \n",
       "25%                           1.000000                         0.000000   \n",
       "50%                           1.000000                         0.000000   \n",
       "75%                           1.000000                         0.000000   \n",
       "max                           1.000000                         1.000000   \n",
       "\n",
       "       usdmxn_logret_+0120bp_and_below  usdmxn_logret_+0130bp_and_above  \\\n",
       "count                      4280.000000                      4280.000000   \n",
       "mean                          0.962150                         0.027336   \n",
       "std                           0.190857                         0.163081   \n",
       "min                           0.000000                         0.000000   \n",
       "25%                           1.000000                         0.000000   \n",
       "50%                           1.000000                         0.000000   \n",
       "75%                           1.000000                         0.000000   \n",
       "max                           1.000000                         1.000000   \n",
       "\n",
       "       usdmxn_logret_+0130bp_and_below  usdmxn_logret_+0140bp_and_above  \\\n",
       "count                      4280.000000                      4280.000000   \n",
       "mean                          0.972664                         0.021729   \n",
       "std                           0.163081                         0.145814   \n",
       "min                           0.000000                         0.000000   \n",
       "25%                           1.000000                         0.000000   \n",
       "50%                           1.000000                         0.000000   \n",
       "75%                           1.000000                         0.000000   \n",
       "max                           1.000000                         1.000000   \n",
       "\n",
       "       usdmxn_logret_+0140bp_and_below  usdmxn_logret_+0150bp_and_above  \\\n",
       "count                      4280.000000                      4280.000000   \n",
       "mean                          0.978271                         0.017991   \n",
       "std                           0.145814                         0.132933   \n",
       "min                           0.000000                         0.000000   \n",
       "25%                           1.000000                         0.000000   \n",
       "50%                           1.000000                         0.000000   \n",
       "75%                           1.000000                         0.000000   \n",
       "max                           1.000000                         1.000000   \n",
       "\n",
       "       usdmxn_logret_+0150bp_and_below  \n",
       "count                      4280.000000  \n",
       "mean                          0.982009  \n",
       "std                           0.132933  \n",
       "min                           0.000000  \n",
       "25%                           1.000000  \n",
       "50%                           1.000000  \n",
       "75%                           1.000000  \n",
       "max                           1.000000  \n",
       "\n",
       "[8 rows x 152 columns]"
      ]
     },
     "execution_count": 42,
     "metadata": {},
     "output_type": "execute_result"
    }
   ],
   "source": [
    "data_values_indexed_scaled_logret.describe()"
   ]
  },
  {
   "cell_type": "markdown",
   "metadata": {},
   "source": [
    "## Model 1: Step 02: Split data into training, test"
   ]
  },
  {
   "cell_type": "markdown",
   "metadata": {},
   "source": [
    "### training test data empty shell"
   ]
  },
  {
   "cell_type": "code",
   "execution_count": 43,
   "metadata": {
    "collapsed": false
   },
   "outputs": [
    {
     "data": {
      "text/html": [
       "<div>\n",
       "<table border=\"1\" class=\"dataframe\">\n",
       "  <thead>\n",
       "    <tr style=\"text-align: right;\">\n",
       "      <th></th>\n",
       "      <th>usdmxn_logret_positive</th>\n",
       "      <th>usdmxn_logret_negative</th>\n",
       "      <th>usdmxn_logret_-0150bp_and_above</th>\n",
       "      <th>usdmxn_logret_-0150bp_and_below</th>\n",
       "      <th>usdmxn_logret_-0140bp_and_above</th>\n",
       "      <th>usdmxn_logret_-0140bp_and_below</th>\n",
       "      <th>usdmxn_logret_-0130bp_and_above</th>\n",
       "      <th>usdmxn_logret_-0130bp_and_below</th>\n",
       "      <th>usdmxn_logret_-0120bp_and_above</th>\n",
       "      <th>usdmxn_logret_-0120bp_and_below</th>\n",
       "      <th>...</th>\n",
       "      <th>77</th>\n",
       "      <th>78</th>\n",
       "      <th>79</th>\n",
       "      <th>80</th>\n",
       "      <th>81</th>\n",
       "      <th>82</th>\n",
       "      <th>83</th>\n",
       "      <th>84</th>\n",
       "      <th>85</th>\n",
       "      <th>86</th>\n",
       "    </tr>\n",
       "  </thead>\n",
       "  <tbody>\n",
       "  </tbody>\n",
       "</table>\n",
       "<p>0 rows × 150 columns</p>\n",
       "</div>"
      ],
      "text/plain": [
       "Empty DataFrame\n",
       "Columns: [usdmxn_logret_positive, usdmxn_logret_negative, usdmxn_logret_-0150bp_and_above, usdmxn_logret_-0150bp_and_below, usdmxn_logret_-0140bp_and_above, usdmxn_logret_-0140bp_and_below, usdmxn_logret_-0130bp_and_above, usdmxn_logret_-0130bp_and_below, usdmxn_logret_-0120bp_and_above, usdmxn_logret_-0120bp_and_below, usdmxn_logret_-0110bp_and_above, usdmxn_logret_-0110bp_and_below, usdmxn_logret_-0100bp_and_above, usdmxn_logret_-0100bp_and_below, usdmxn_logret_-0090bp_and_above, usdmxn_logret_-0090bp_and_below, usdmxn_logret_-0080bp_and_above, usdmxn_logret_-0080bp_and_below, usdmxn_logret_-0070bp_and_above, usdmxn_logret_-0070bp_and_below, usdmxn_logret_-0060bp_and_above, usdmxn_logret_-0060bp_and_below, usdmxn_logret_-0050bp_and_above, usdmxn_logret_-0050bp_and_below, usdmxn_logret_-0040bp_and_above, usdmxn_logret_-0040bp_and_below, usdmxn_logret_-0030bp_and_above, usdmxn_logret_-0030bp_and_below, usdmxn_logret_-0020bp_and_above, usdmxn_logret_-0020bp_and_below, usdmxn_logret_-0010bp_and_above, usdmxn_logret_-0010bp_and_below, usdmxn_logret_+0000bp_and_above, usdmxn_logret_+0000bp_and_below, usdmxn_logret_+0010bp_and_above, usdmxn_logret_+0010bp_and_below, usdmxn_logret_+0020bp_and_above, usdmxn_logret_+0020bp_and_below, usdmxn_logret_+0030bp_and_above, usdmxn_logret_+0030bp_and_below, usdmxn_logret_+0040bp_and_above, usdmxn_logret_+0040bp_and_below, usdmxn_logret_+0050bp_and_above, usdmxn_logret_+0050bp_and_below, usdmxn_logret_+0060bp_and_above, usdmxn_logret_+0060bp_and_below, usdmxn_logret_+0070bp_and_above, usdmxn_logret_+0070bp_and_below, usdmxn_logret_+0080bp_and_above, usdmxn_logret_+0080bp_and_below, usdmxn_logret_+0090bp_and_above, usdmxn_logret_+0090bp_and_below, usdmxn_logret_+0100bp_and_above, usdmxn_logret_+0100bp_and_below, usdmxn_logret_+0110bp_and_above, usdmxn_logret_+0110bp_and_below, usdmxn_logret_+0120bp_and_above, usdmxn_logret_+0120bp_and_below, usdmxn_logret_+0130bp_and_above, usdmxn_logret_+0130bp_and_below, usdmxn_logret_+0140bp_and_above, usdmxn_logret_+0140bp_and_below, usdmxn_logret_+0150bp_and_above, usdmxn_logret_+0150bp_and_below, 1, 2, 3, 4, 5, 6, 7, 8, 9, 10, 11, 12, 13, 14, 15, 16, 17, 18, 19, 20, 21, 22, 23, 24, 25, 26, 27, 28, 29, 30, 31, 32, 33, 34, 35, 36, ...]\n",
       "Index: []\n",
       "\n",
       "[0 rows x 150 columns]"
      ]
     },
     "execution_count": 43,
     "metadata": {},
     "output_type": "execute_result"
    }
   ],
   "source": [
    "# training_test_data\n",
    "# col 01-02 = 02 cols = indicators of results\n",
    "# col 03-88 = 86 cols = inputs\n",
    "training_test_data = pd.DataFrame(\n",
    "  columns=[\n",
    "    'usdmxn_logret_positive', 'usdmxn_logret_negative',\n",
    "\n",
    "    # 'usdmxn_logret_positive_0050bp', 'usdmxn_logret_negative_0050bp',\n",
    "\n",
    "    'usdmxn_logret_-0150bp_and_above', 'usdmxn_logret_-0150bp_and_below',\n",
    "    'usdmxn_logret_-0140bp_and_above', 'usdmxn_logret_-0140bp_and_below',\n",
    "    'usdmxn_logret_-0130bp_and_above', 'usdmxn_logret_-0130bp_and_below',\n",
    "    'usdmxn_logret_-0120bp_and_above', 'usdmxn_logret_-0120bp_and_below',\n",
    "    'usdmxn_logret_-0110bp_and_above', 'usdmxn_logret_-0110bp_and_below',\n",
    "    'usdmxn_logret_-0100bp_and_above', 'usdmxn_logret_-0100bp_and_below',\n",
    "    'usdmxn_logret_-0090bp_and_above', 'usdmxn_logret_-0090bp_and_below',\n",
    "    'usdmxn_logret_-0080bp_and_above', 'usdmxn_logret_-0080bp_and_below',\n",
    "    'usdmxn_logret_-0070bp_and_above', 'usdmxn_logret_-0070bp_and_below',\n",
    "    'usdmxn_logret_-0060bp_and_above', 'usdmxn_logret_-0060bp_and_below',\n",
    "    'usdmxn_logret_-0050bp_and_above', 'usdmxn_logret_-0050bp_and_below',\n",
    "    'usdmxn_logret_-0040bp_and_above', 'usdmxn_logret_-0040bp_and_below',\n",
    "    'usdmxn_logret_-0030bp_and_above', 'usdmxn_logret_-0030bp_and_below',\n",
    "    'usdmxn_logret_-0020bp_and_above', 'usdmxn_logret_-0020bp_and_below',\n",
    "    'usdmxn_logret_-0010bp_and_above', 'usdmxn_logret_-0010bp_and_below',\n",
    "    'usdmxn_logret_+0000bp_and_above', 'usdmxn_logret_+0000bp_and_below',\n",
    "    'usdmxn_logret_+0010bp_and_above', 'usdmxn_logret_+0010bp_and_below',\n",
    "    'usdmxn_logret_+0020bp_and_above', 'usdmxn_logret_+0020bp_and_below',\n",
    "    'usdmxn_logret_+0030bp_and_above', 'usdmxn_logret_+0030bp_and_below',\n",
    "    'usdmxn_logret_+0040bp_and_above', 'usdmxn_logret_+0040bp_and_below',\n",
    "    'usdmxn_logret_+0050bp_and_above', 'usdmxn_logret_+0050bp_and_below',\n",
    "    'usdmxn_logret_+0060bp_and_above', 'usdmxn_logret_+0060bp_and_below',\n",
    "    'usdmxn_logret_+0070bp_and_above', 'usdmxn_logret_+0070bp_and_below',\n",
    "    'usdmxn_logret_+0080bp_and_above', 'usdmxn_logret_+0080bp_and_below',\n",
    "    'usdmxn_logret_+0090bp_and_above', 'usdmxn_logret_+0090bp_and_below',\n",
    "    'usdmxn_logret_+0100bp_and_above', 'usdmxn_logret_+0100bp_and_below',\n",
    "    'usdmxn_logret_+0110bp_and_above', 'usdmxn_logret_+0110bp_and_below',\n",
    "    'usdmxn_logret_+0120bp_and_above', 'usdmxn_logret_+0120bp_and_below',\n",
    "    'usdmxn_logret_+0130bp_and_above', 'usdmxn_logret_+0130bp_and_below',\n",
    "    'usdmxn_logret_+0140bp_and_above', 'usdmxn_logret_+0140bp_and_below',\n",
    "    'usdmxn_logret_+0150bp_and_above', 'usdmxn_logret_+0150bp_and_below',\n",
    "\n",
    "    '1','2','3','4','5','6','7','8','9','10',\n",
    "    '11','12','13','14','15','16','17','18','19','20',\n",
    "    '21','22','23','24','25','26','27','28','29','30',\n",
    "    '31','32','33','34','35','36','37','38','39','40',\n",
    "    '41','42','43','44','45','46','47','48','49','50',\n",
    "    '51','52','53','54','55','56','57','58','59','60',\n",
    "    '61','62','63','64','65','66','67','68','69','70',\n",
    "    '71','72','73','74','75','76','77','78','79','80',\n",
    "    '81','82','83','84','85','86',\n",
    "  ])\n",
    "\n",
    "training_test_data.head()"
   ]
  },
  {
   "cell_type": "markdown",
   "metadata": {},
   "source": [
    "### check rows"
   ]
  },
  {
   "cell_type": "code",
   "execution_count": 44,
   "metadata": {
    "collapsed": false
   },
   "outputs": [
    {
     "name": "stdout",
     "output_type": "stream",
     "text": [
      "NumRowsIncludeHeader = len(data_values_indexed_scaled_logret) = 4280\n"
     ]
    }
   ],
   "source": [
    "# 2000/01/07 to 2016/05/27 = 1 header row + 4279 data rows\n",
    "# after noise reduction, left with 1437 rows\n",
    "\n",
    "# print data_values_indexed_scaled_logret.head()\n",
    "# print data_values_indexed_scaled_logret.tail()\n",
    "print 'NumRowsIncludeHeader = len(data_values_indexed_scaled_logret) = ' + str(len(data_values_indexed_scaled_logret))"
   ]
  },
  {
   "cell_type": "markdown",
   "metadata": {},
   "source": [
    "### Read data into variables"
   ]
  },
  {
   "cell_type": "code",
   "execution_count": 45,
   "metadata": {
    "collapsed": false
   },
   "outputs": [],
   "source": [
    "# row 0      = header\n",
    "# row 1-4279 = data\n",
    "# NumRowsIncludeHeader = len(data_values_indexed_scaled_logret) = 4280 = 0-4279\n",
    "# Start from row 7, so we can have up to (7-1) lookback days\n",
    "\n",
    "dvislr =  data_values_indexed_scaled_logret\n",
    "\n",
    "for i in range(7, len(data_values_indexed_scaled_logret)): # [7, 4280) = [7,4279] \n",
    "\n",
    "  # 00: original\n",
    "  #   usdmxn_logret_positive = data_values_indexed_scaled_logret['usdmxn_logret_positive'].ix[i]\n",
    "  #   usdmxn_logret_negative = data_values_indexed_scaled_logret['usdmxn_logret_negative'].ix[i]\n",
    "\n",
    "  # 01: noise cancellation\n",
    "  #   usdmxn_logret_positive_0050bp = data_values_indexed_scaled_logret['usdmxn_logret_positive_0050bp'].ix[i]\n",
    "  #   usdmxn_logret_negative_0050bp = data_values_indexed_scaled_logret['usdmxn_logret_negative_0050bp'].ix[i]\n",
    "\n",
    "  # 02: stratification\n",
    "  \n",
    "  # +50\n",
    "  usdmxn_logret_p0050bp_and_above = dvislr['usdmxn_logret_+0050bp_and_above'].ix[i]\n",
    "  usdmxn_logret_p0050bp_and_below = dvislr['usdmxn_logret_+0050bp_and_below'].ix[i]\n",
    "  # +00\n",
    "  usdmxn_logret_p0000bp_and_above = dvislr['usdmxn_logret_+0000bp_and_above'].ix[i]\n",
    "  usdmxn_logret_p0000bp_and_below = dvislr['usdmxn_logret_+0000bp_and_below'].ix[i]  \n",
    "  # -50 \n",
    "  usdmxn_logret_m0050bp_and_above = dvislr['usdmxn_logret_-0050bp_and_above'].ix[i]\n",
    "  usdmxn_logret_m0050bp_and_below = dvislr['usdmxn_logret_-0050bp_and_below'].ix[i]\n",
    "\n",
    "  # Select 2 levels: up and dn\n",
    "  bc_up = usdmxn_logret_p0050bp_and_above\n",
    "  bc_dn = usdmxn_logret_p0050bp_and_below\n",
    "  \n",
    "  #   v_001_Tm005 = data_values_indexed_scaled_logret['1'].ix[i-5]  # lookback 1d\n",
    "\n",
    "  v_001_Tm000 = dvislr[1].ix[i];  v_002_Tm000 = dvislr[2].ix[i];  v_003_Tm000 = dvislr[3].ix[i];  v_004_Tm000 = dvislr[4].ix[i];  v_005_Tm000 = dvislr[5].ix[i];\n",
    "  v_006_Tm000 = dvislr[6].ix[i];  v_007_Tm000 = dvislr[7].ix[i];  v_008_Tm000 = dvislr[8].ix[i];  v_009_Tm000 = dvislr[9].ix[i];  v_010_Tm000 = dvislr[10].ix[i]\n",
    "\n",
    "  v_011_Tm000 = dvislr[11].ix[i]; v_012_Tm000 = dvislr[12].ix[i]; v_013_Tm000 = dvislr[13].ix[i]; v_014_Tm000 = dvislr[14].ix[i]; v_015_Tm000 = dvislr[15].ix[i];\n",
    "  v_016_Tm000 = dvislr[16].ix[i]; v_017_Tm000 = dvislr[17].ix[i]; v_018_Tm000 = dvislr[18].ix[i]; v_019_Tm000 = dvislr[19].ix[i]; v_020_Tm000 = dvislr[20].ix[i];\n",
    "  \n",
    "  v_021_Tm000 = dvislr[21].ix[i]; v_022_Tm000 = dvislr[22].ix[i]; v_023_Tm000 = dvislr[23].ix[i]; v_024_Tm000 = dvislr[24].ix[i]; v_025_Tm000 = dvislr[25].ix[i];\n",
    "  v_026_Tm000 = dvislr[26].ix[i]; v_027_Tm000 = dvislr[27].ix[i]; v_028_Tm000 = dvislr[28].ix[i]; v_029_Tm000 = dvislr[29].ix[i]; v_030_Tm000 = dvislr[30].ix[i];\n",
    "\n",
    "  v_031_Tm000 = dvislr[31].ix[i]; v_032_Tm000 = dvislr[32].ix[i]; v_033_Tm000 = dvislr[33].ix[i]; v_034_Tm000 = dvislr[34].ix[i]; v_035_Tm000 = dvislr[35].ix[i];\n",
    "  v_036_Tm000 = dvislr[36].ix[i]; v_037_Tm000 = dvislr[37].ix[i]; v_038_Tm000 = dvislr[38].ix[i]; v_039_Tm000 = dvislr[39].ix[i]; v_040_Tm000 = dvislr[40].ix[i];\n",
    "\n",
    "  v_041_Tm000 = dvislr[41].ix[i]; v_042_Tm000 = dvislr[42].ix[i]; v_043_Tm000 = dvislr[43].ix[i]; v_044_Tm000 = dvislr[44].ix[i]; v_045_Tm000 = dvislr[45].ix[i];\n",
    "  v_046_Tm000 = dvislr[46].ix[i]; v_047_Tm000 = dvislr[47].ix[i]; v_048_Tm000 = dvislr[48].ix[i]; v_049_Tm000 = dvislr[49].ix[i]; v_050_Tm000 = dvislr[50].ix[i];\n",
    "\n",
    "  v_051_Tm000 = dvislr[51].ix[i]; v_052_Tm000 = dvislr[52].ix[i]; v_053_Tm000 = dvislr[53].ix[i]; v_054_Tm000 = dvislr[54].ix[i]; v_055_Tm000 = dvislr[55].ix[i];\n",
    "  v_056_Tm000 = dvislr[56].ix[i]; v_057_Tm000 = dvislr[57].ix[i]; v_058_Tm000 = dvislr[58].ix[i]; v_059_Tm000 = dvislr[59].ix[i]; v_060_Tm000 = dvislr[60].ix[i];\n",
    "\n",
    "  v_061_Tm000 = dvislr[61].ix[i]; v_062_Tm000 = dvislr[62].ix[i]; v_063_Tm000 = dvislr[63].ix[i]; v_064_Tm000 = dvislr[64].ix[i]; v_065_Tm000 = dvislr[65].ix[i];\n",
    "  v_066_Tm000 = dvislr[66].ix[i]; v_067_Tm000 = dvislr[67].ix[i]; v_068_Tm000 = dvislr[68].ix[i]; v_069_Tm000 = dvislr[69].ix[i]; v_070_Tm000 = dvislr[70].ix[i];\n",
    "\n",
    "  v_071_Tm000 = dvislr[71].ix[i]; v_072_Tm000 = dvislr[72].ix[i]; v_073_Tm000 = dvislr[73].ix[i]; v_074_Tm000 = dvislr[74].ix[i]; v_075_Tm000 = dvislr[75].ix[i];\n",
    "  v_076_Tm000 = dvislr[76].ix[i]; v_077_Tm000 = dvislr[77].ix[i]; v_078_Tm000 = dvislr[78].ix[i]; v_079_Tm000 = dvislr[79].ix[i]; v_080_Tm000 = dvislr[80].ix[i];\n",
    "\n",
    "  v_081_Tm000 = dvislr[81].ix[i]; v_082_Tm000 = dvislr[82].ix[i]; v_083_Tm000 = dvislr[83].ix[i]; v_084_Tm000 = dvislr[84].ix[i]; v_085_Tm000 = dvislr[85].ix[i];\n",
    "  v_086_Tm000 = dvislr[86].ix[i];\n",
    "\n",
    "  # training_test_data: append data\n",
    "  training_test_data = training_test_data.append(\n",
    "    {\n",
    "#       'usdmxn_logret_positive':usdmxn_logret_positive,\n",
    "#       'usdmxn_logret_negative':usdmxn_logret_negative,\n",
    "#       'usdmxn_logret_positive_0050bp':usdmxn_logret_positive_0050bp,\n",
    "#       'usdmxn_logret_negative_0050bp':usdmxn_logret_negative_0050bp,\n",
    "      \n",
    "      'bc_up':bc_up,\n",
    "      'bc_dn':bc_dn,\n",
    "      \n",
    "      '1':v_001_Tm000,  '2':v_002_Tm000, '3':v_003_Tm000, '4':v_004_Tm000, '5':v_005_Tm000,\n",
    "      '6':v_006_Tm000,  '7':v_007_Tm000, '8':v_008_Tm000, '9':v_009_Tm000, '10':v_010_Tm000,\n",
    "\n",
    "      '11':v_011_Tm000, '12':v_012_Tm000, '13':v_013_Tm000, '14':v_014_Tm000, '15':v_015_Tm000,\n",
    "      '16':v_016_Tm000, '17':v_017_Tm000, '18':v_018_Tm000, '19':v_019_Tm000, '20':v_020_Tm000,\n",
    "\n",
    "      '21':v_021_Tm000, '22':v_022_Tm000, '23':v_023_Tm000, '24':v_024_Tm000, '25':v_025_Tm000,\n",
    "      '26':v_026_Tm000, '27':v_027_Tm000, '28':v_028_Tm000, '29':v_029_Tm000, '30':v_030_Tm000,\n",
    "\n",
    "      '31':v_031_Tm000, '32':v_032_Tm000, '33':v_033_Tm000, '34':v_034_Tm000, '35':v_035_Tm000,\n",
    "      '36':v_036_Tm000, '37':v_037_Tm000, '38':v_038_Tm000, '39':v_039_Tm000, '40':v_040_Tm000,\n",
    "\n",
    "      '41':v_041_Tm000, '42':v_042_Tm000, '43':v_043_Tm000, '44':v_044_Tm000, '45':v_045_Tm000,\n",
    "      '46':v_046_Tm000, '47':v_047_Tm000, '48':v_048_Tm000, '49':v_049_Tm000, '50':v_050_Tm000,\n",
    "\n",
    "      '51':v_051_Tm000, '52':v_052_Tm000, '53':v_053_Tm000, '54':v_054_Tm000, '55':v_055_Tm000,\n",
    "      '56':v_056_Tm000, '57':v_057_Tm000, '58':v_058_Tm000, '59':v_059_Tm000, '60':v_060_Tm000,\n",
    "\n",
    "      '61':v_061_Tm000, '62':v_062_Tm000, '63':v_063_Tm000, '64':v_064_Tm000, '65':v_065_Tm000,\n",
    "      '66':v_066_Tm000, '67':v_067_Tm000, '68':v_068_Tm000, '69':v_069_Tm000, '70':v_070_Tm000,\n",
    "\n",
    "      '71':v_071_Tm000, '72':v_072_Tm000, '73':v_073_Tm000, '74':v_074_Tm000, '75':v_075_Tm000,\n",
    "      '76':v_076_Tm000, '77':v_077_Tm000, '78':v_078_Tm000, '79':v_079_Tm000, '80':v_080_Tm000,\n",
    "      \n",
    "      '81':v_081_Tm000, '82':v_082_Tm000, '83':v_083_Tm000, '84':v_084_Tm000, '85':v_085_Tm000,\n",
    "      '86':v_086_Tm000,\n",
    "      \n",
    "    },\n",
    "    ignore_index=True)\n",
    "  \n",
    "# data_values_indexed_scaled_logret: row [7,4279] \n",
    "# training_test_data               : row [0,4272] = 4273 rows\n",
    "# training_test_data: col 01-02 = 02 cols = binary outputs\n",
    "# training_test_data: col 03-88 = 86 cols = inputs  \n"
   ]
  },
  {
   "cell_type": "code",
   "execution_count": 47,
   "metadata": {
    "collapsed": false
   },
   "outputs": [
    {
     "data": {
      "text/html": [
       "<div>\n",
       "<table border=\"1\" class=\"dataframe\">\n",
       "  <thead>\n",
       "    <tr style=\"text-align: right;\">\n",
       "      <th></th>\n",
       "      <th>bc_up</th>\n",
       "      <th>bc_dn</th>\n",
       "    </tr>\n",
       "  </thead>\n",
       "  <tbody>\n",
       "    <tr>\n",
       "      <th>count</th>\n",
       "      <td>4273.000000</td>\n",
       "      <td>4273.000000</td>\n",
       "    </tr>\n",
       "    <tr>\n",
       "      <th>mean</th>\n",
       "      <td>0.172244</td>\n",
       "      <td>0.827756</td>\n",
       "    </tr>\n",
       "    <tr>\n",
       "      <th>std</th>\n",
       "      <td>0.377637</td>\n",
       "      <td>0.377637</td>\n",
       "    </tr>\n",
       "    <tr>\n",
       "      <th>min</th>\n",
       "      <td>0.000000</td>\n",
       "      <td>0.000000</td>\n",
       "    </tr>\n",
       "    <tr>\n",
       "      <th>25%</th>\n",
       "      <td>0.000000</td>\n",
       "      <td>1.000000</td>\n",
       "    </tr>\n",
       "    <tr>\n",
       "      <th>50%</th>\n",
       "      <td>0.000000</td>\n",
       "      <td>1.000000</td>\n",
       "    </tr>\n",
       "    <tr>\n",
       "      <th>75%</th>\n",
       "      <td>0.000000</td>\n",
       "      <td>1.000000</td>\n",
       "    </tr>\n",
       "    <tr>\n",
       "      <th>max</th>\n",
       "      <td>1.000000</td>\n",
       "      <td>1.000000</td>\n",
       "    </tr>\n",
       "  </tbody>\n",
       "</table>\n",
       "</div>"
      ],
      "text/plain": [
       "             bc_up        bc_dn\n",
       "count  4273.000000  4273.000000\n",
       "mean      0.172244     0.827756\n",
       "std       0.377637     0.377637\n",
       "min       0.000000     0.000000\n",
       "25%       0.000000     1.000000\n",
       "50%       0.000000     1.000000\n",
       "75%       0.000000     1.000000\n",
       "max       1.000000     1.000000"
      ]
     },
     "execution_count": 47,
     "metadata": {},
     "output_type": "execute_result"
    }
   ],
   "source": [
    "# training_test_data.describe()\n",
    "training_test_data[['bc_up','bc_dn']].describe()\n",
    "# count = 4273"
   ]
  },
  {
   "cell_type": "markdown",
   "metadata": {},
   "source": [
    "### Check Rows"
   ]
  },
  {
   "cell_type": "code",
   "execution_count": 48,
   "metadata": {
    "collapsed": false
   },
   "outputs": [
    {
     "name": "stdout",
     "output_type": "stream",
     "text": [
      "NumRows_HeaderNo = len(training_test_data) = 4273\n"
     ]
    }
   ],
   "source": [
    "\n",
    "# print training_test_data.head() # 1 row, 2+86 col\n",
    "# print training_test_data.tail() # 1 row, 2+86 col\n",
    "print 'NumRows_HeaderNo = len(training_test_data) = ' + str(len(training_test_data))\n",
    "\n",
    "# After noise removed\n",
    "# NumRows_HeaderNo = len(training_test_data) = 1430"
   ]
  },
  {
   "cell_type": "markdown",
   "metadata": {},
   "source": [
    "### create the training and test data."
   ]
  },
  {
   "cell_type": "code",
   "execution_count": 51,
   "metadata": {
    "collapsed": false
   },
   "outputs": [],
   "source": [
    "# 86 input columns\n",
    "predictors_tf = training_test_data[training_test_data.columns[4:]]\n",
    "# predictors_tf.describe()"
   ]
  },
  {
   "cell_type": "code",
   "execution_count": 52,
   "metadata": {
    "collapsed": false
   },
   "outputs": [],
   "source": [
    "# 2 output columns\n",
    "# classes_tf = training_test_data[training_test_data.columns[:2]] # col 0, 1\n",
    "classes_tf = training_test_data[training_test_data.columns[2:4]] # col 2, 3\n",
    "# classes_tf.describe()"
   ]
  },
  {
   "cell_type": "code",
   "execution_count": 53,
   "metadata": {
    "collapsed": false
   },
   "outputs": [
    {
     "name": "stdout",
     "output_type": "stream",
     "text": [
      "training_set_size=3418\n",
      "test_set_size=855\n"
     ]
    }
   ],
   "source": [
    "# Split: train data = 80%\n",
    "training_set_size = int(len(training_test_data) * 0.8)\n",
    "print 'training_set_size=' + str(training_set_size )\n",
    "# Split: test data = 20%\n",
    "test_set_size = len(training_test_data) - training_set_size\n",
    "print 'test_set_size=' + str(test_set_size )\n",
    "\n",
    "# After noise removed\n",
    "# training_set_size=1144\n",
    "# test_set_size=286\n",
    "\n",
    "# stratification\n",
    "# training_set_size=3418\n",
    "# test_set_size=855"
   ]
  },
  {
   "cell_type": "code",
   "execution_count": 54,
   "metadata": {
    "collapsed": false
   },
   "outputs": [],
   "source": [
    "# train: row 0 to 3417\n",
    "# input: cols 86\n",
    "training_predictors_tf = predictors_tf[:training_set_size]\n",
    "# print training_predictors_tf.head()\n",
    "# print training_predictors_tf.tail()"
   ]
  },
  {
   "cell_type": "code",
   "execution_count": 56,
   "metadata": {
    "collapsed": false
   },
   "outputs": [],
   "source": [
    "# train: row 0 to 3417\n",
    "# output: cols 2\n",
    "training_classes_tf = classes_tf[:training_set_size]\n",
    "# print training_classes_tf.head()\n",
    "# print training_classes_tf.tail()"
   ]
  },
  {
   "cell_type": "code",
   "execution_count": 58,
   "metadata": {
    "collapsed": false
   },
   "outputs": [],
   "source": [
    "# test: row 3418 to 4272 = new rows 0 to 854 = 855 test rows predictors\n",
    "# input: cols 86\n",
    "test_predictors_tf = predictors_tf[training_set_size:]\n",
    "# print test_predictors_tf.head()\n",
    "# print test_predictors_tf.tail()"
   ]
  },
  {
   "cell_type": "code",
   "execution_count": 59,
   "metadata": {
    "collapsed": false
   },
   "outputs": [],
   "source": [
    "# test: row 3418 to 4272 = new rows 0 to 854 = 855 test rows classes\n",
    "# output: cols 2\n",
    "test_classes_tf = classes_tf[training_set_size:]\n",
    "# print test_classes_tf.head()\n",
    "# print test_classes_tf.tail()"
   ]
  },
  {
   "cell_type": "code",
   "execution_count": 61,
   "metadata": {
    "collapsed": false
   },
   "outputs": [],
   "source": [
    "# train input\n",
    "# training_predictors_tf.describe()"
   ]
  },
  {
   "cell_type": "code",
   "execution_count": 62,
   "metadata": {
    "collapsed": false
   },
   "outputs": [],
   "source": [
    "# test input\n",
    "# test_predictors_tf.describe()"
   ]
  },
  {
   "cell_type": "markdown",
   "metadata": {},
   "source": [
    "Define some metrics here to evaluate the models.\n",
    "\n",
    "* [Precision](https://en.wikipedia.org/wiki/Precision_and_recall#Precision) -  The ability of the classifier not to label as positive a sample that is negative.\n",
    "* [Recall](https://en.wikipedia.org/wiki/Precision_and_recall#Recall) - The ability of the classifier to find all the positive samples.\n",
    "* [F1 Score](https://en.wikipedia.org/wiki/F1_score) - A weighted average of the precision and recall, where an F1 score reaches its best value at 1 and worst score at 0.\n",
    "* Accuracy - The percentage correctly predicted in the test data."
   ]
  },
  {
   "cell_type": "code",
   "execution_count": 63,
   "metadata": {
    "collapsed": false
   },
   "outputs": [],
   "source": [
    "def tf_confusion_metrics(model, actual_classes, session, feed_dict):\n",
    "  predictions = tf.argmax(model, 1)\n",
    "  actuals = tf.argmax(actual_classes, 1)\n",
    "\n",
    "  ones_like_actuals = tf.ones_like(actuals)\n",
    "  zeros_like_actuals = tf.zeros_like(actuals)\n",
    "  ones_like_predictions = tf.ones_like(predictions)\n",
    "  zeros_like_predictions = tf.zeros_like(predictions)\n",
    "\n",
    "  tp_op = tf.reduce_sum(\n",
    "    tf.cast(\n",
    "      tf.logical_and(\n",
    "        tf.equal(actuals, ones_like_actuals), \n",
    "        tf.equal(predictions, ones_like_predictions)\n",
    "      ), \n",
    "      \"float\"\n",
    "    )\n",
    "  )\n",
    "\n",
    "  tn_op = tf.reduce_sum(\n",
    "    tf.cast(\n",
    "      tf.logical_and(\n",
    "        tf.equal(actuals, zeros_like_actuals), \n",
    "        tf.equal(predictions, zeros_like_predictions)\n",
    "      ), \n",
    "      \"float\"\n",
    "    )\n",
    "  )\n",
    "\n",
    "  fp_op = tf.reduce_sum(\n",
    "    tf.cast(\n",
    "      tf.logical_and(\n",
    "        tf.equal(actuals, zeros_like_actuals), \n",
    "        tf.equal(predictions, ones_like_predictions)\n",
    "      ), \n",
    "      \"float\"\n",
    "    )\n",
    "  )\n",
    "\n",
    "  fn_op = tf.reduce_sum(\n",
    "    tf.cast(\n",
    "      tf.logical_and(\n",
    "        tf.equal(actuals, ones_like_actuals), \n",
    "        tf.equal(predictions, zeros_like_predictions)\n",
    "      ), \n",
    "      \"float\"\n",
    "    )\n",
    "  )\n",
    "\n",
    "  tp, tn, fp, fn = \\\n",
    "    session.run(\n",
    "      [tp_op, tn_op, fp_op, fn_op], \n",
    "      feed_dict\n",
    "    )\n",
    "\n",
    "  tpr = float(tp)/(float(tp) + float(fn))\n",
    "  fpr = float(fp)/(float(tp) + float(fn))\n",
    "\n",
    "  accuracy = (float(tp) + float(tn))/(float(tp) + float(fp) + float(fn) + float(tn))\n",
    "\n",
    "  recall = tpr\n",
    "  precision = float(tp)/(float(tp) + float(fp))\n",
    "  \n",
    "  f1_score = (2 * (precision * recall)) / (precision + recall)\n",
    "  \n",
    "  print 'Precision = ', precision\n",
    "  print 'Recall = ', recall\n",
    "  print 'F1 Score = ', f1_score\n",
    "  print 'Accuracy = ', accuracy"
   ]
  },
  {
   "cell_type": "markdown",
   "metadata": {},
   "source": [
    "### Binary classification with TensorFlow"
   ]
  },
  {
   "cell_type": "markdown",
   "metadata": {},
   "source": [
    "Now, get some tensors flowing. The model is binary classification expressed in TensorFlow."
   ]
  },
  {
   "cell_type": "code",
   "execution_count": 64,
   "metadata": {
    "collapsed": true
   },
   "outputs": [],
   "source": [
    "# tensorflow session\n",
    "sess = tf.Session()"
   ]
  },
  {
   "cell_type": "code",
   "execution_count": 65,
   "metadata": {
    "collapsed": false
   },
   "outputs": [
    {
     "name": "stdout",
     "output_type": "stream",
     "text": [
      "num_predictors=148\n",
      "num_classes=2\n"
     ]
    }
   ],
   "source": [
    "# Define variables for the number of predictors and number of classes to remove magic numbers from our code.\n",
    "num_predictors = len(training_predictors_tf.columns) # 24-6=18 in the default case\n",
    "num_classes = len(training_classes_tf.columns) # 2 in the default case\n",
    "print 'num_predictors=' + str(num_predictors)\n",
    "print 'num_classes=' + str(num_classes)"
   ]
  },
  {
   "cell_type": "code",
   "execution_count": 66,
   "metadata": {
    "collapsed": true
   },
   "outputs": [],
   "source": [
    "# Define placeholders for the data we feed into the process - feature data and actual classes.\n",
    "# input = 18\n",
    "feature_data = tf.placeholder(\"float\", [None, num_predictors])\n",
    "# output = 2\n",
    "actual_classes = tf.placeholder(\"float\", [None, num_classes])"
   ]
  },
  {
   "cell_type": "code",
   "execution_count": 67,
   "metadata": {
    "collapsed": false
   },
   "outputs": [],
   "source": [
    "# Define a matrix of weights and initialize it with some small random values.\n",
    "weights = tf.Variable(tf.truncated_normal([num_predictors, num_classes], stddev=0.0001))\n",
    "biases = tf.Variable(tf.ones([num_classes]))"
   ]
  },
  {
   "cell_type": "code",
   "execution_count": 68,
   "metadata": {
    "collapsed": false
   },
   "outputs": [],
   "source": [
    "# Define our model...\n",
    "# Here we take a softmax regression of the product of our feature data and weights.\n",
    "model = tf.nn.softmax(tf.matmul(feature_data, weights) + biases)\n",
    "\n",
    "# Define a cost function (we're using the cross entropy).\n",
    "cost = -tf.reduce_sum(actual_classes*tf.log(model))\n",
    "\n",
    "# Define a training step...\n",
    "# Here we use gradient descent with a learning rate of 0.01 using the cost function we just defined.\n",
    "training_step = tf.train.AdamOptimizer(learning_rate=0.0001).minimize(cost)\n",
    "\n",
    "init = tf.initialize_all_variables()\n",
    "sess.run(init)"
   ]
  },
  {
   "cell_type": "code",
   "execution_count": 69,
   "metadata": {
    "collapsed": false
   },
   "outputs": [
    {
     "name": "stdout",
     "output_type": "stream",
     "text": [
      "[[ -1.63291785e-04  -1.66090074e-04]\n",
      " [ -4.33955465e-05  -4.52979439e-05]\n",
      " [ -2.21403297e-05  -1.28039581e-04]\n",
      " [  6.27423215e-05   9.38958037e-05]\n",
      " [  1.15476032e-04  -3.63204199e-05]\n",
      " [ -1.65383317e-05   9.16605859e-05]\n",
      " [ -2.00918639e-05  -1.58066832e-05]\n",
      " [  1.49539075e-04  -5.51692465e-05]\n",
      " [  4.92805702e-05   8.22446673e-05]\n",
      " [ -1.57276954e-04   5.10096434e-05]\n",
      " [ -1.92223320e-04  -8.03653456e-05]\n",
      " [ -6.37959374e-06  -4.13990847e-06]\n",
      " [ -1.19629520e-04  -1.07505126e-04]\n",
      " [ -1.19581040e-04   1.22839101e-05]\n",
      " [  1.06836451e-04   1.03199636e-04]\n",
      " [ -2.69036855e-06  -3.34675751e-05]\n",
      " [  1.34109767e-04   1.06049651e-04]\n",
      " [ -6.65966436e-05   1.52316925e-05]\n",
      " [ -1.02176222e-04  -2.53739890e-05]\n",
      " [  1.07935186e-04  -7.29370804e-05]\n",
      " [ -7.38700182e-05  -6.48156401e-06]\n",
      " [  1.51854605e-04   3.24675639e-05]\n",
      " [  5.63295180e-05   1.48884528e-05]\n",
      " [ -1.08504981e-04  -1.34578062e-04]\n",
      " [  7.13193658e-05   3.63923718e-05]\n",
      " [  3.38533682e-05  -1.72430286e-04]\n",
      " [ -1.48097039e-04   8.96250494e-05]\n",
      " [  8.17733162e-05   2.51565452e-05]\n",
      " [ -5.34480205e-05   1.03364990e-04]\n",
      " [  4.90897219e-06  -1.95015498e-04]\n",
      " [ -1.21989091e-04  -1.32155648e-04]\n",
      " [ -1.13673887e-04  -1.00649653e-04]\n",
      " [ -1.34808259e-04   9.37536970e-05]\n",
      " [ -1.13056660e-04  -1.74438392e-05]\n",
      " [ -1.64487195e-04  -9.89920522e-07]\n",
      " [ -1.21120338e-05   5.36671032e-05]\n",
      " [  5.50460754e-05   1.24914906e-04]\n",
      " [  1.96880646e-04  -1.59016941e-04]\n",
      " [ -6.16200050e-05  -1.21010577e-04]\n",
      " [  1.98019552e-04   7.64551150e-05]\n",
      " [  1.05953106e-04  -1.54968089e-04]\n",
      " [ -6.90566376e-05   4.42858400e-05]\n",
      " [  1.34109141e-04  -1.33216090e-04]\n",
      " [ -1.28696665e-05   1.38522846e-05]\n",
      " [  1.25234932e-04   2.83270710e-05]\n",
      " [ -2.71064964e-05  -6.11397772e-05]\n",
      " [  8.90934534e-05   1.44130114e-04]\n",
      " [ -7.92437859e-05  -6.47030902e-05]\n",
      " [  8.85072295e-05  -7.26242433e-05]\n",
      " [  1.40938035e-04  -5.59312284e-05]\n",
      " [ -2.87980965e-05   1.02367230e-04]\n",
      " [ -2.77957024e-05   4.71220337e-05]\n",
      " [  1.34982634e-04  -5.21438124e-05]\n",
      " [ -5.24409152e-05  -1.24796434e-05]\n",
      " [  1.26576910e-04   1.15501298e-05]\n",
      " [  2.98111013e-06  -9.97346870e-05]\n",
      " [ -7.23593184e-05   1.88454214e-05]\n",
      " [ -9.22920590e-05  -1.72936070e-05]\n",
      " [ -1.66535756e-04  -4.69660554e-05]\n",
      " [ -9.79986507e-05   1.24299395e-05]\n",
      " [ -4.31313892e-05  -8.73675308e-05]\n",
      " [ -1.86761812e-04   8.15903422e-06]\n",
      " [  5.21740913e-06   2.05224023e-05]\n",
      " [ -1.17414311e-05   7.90165723e-05]\n",
      " [  7.97176108e-05  -3.15569450e-05]\n",
      " [ -1.25842809e-04  -4.93085172e-05]\n",
      " [  1.42006931e-04   2.52102041e-06]\n",
      " [ -1.98947309e-04   1.18701857e-04]\n",
      " [  4.99113457e-06  -1.38831470e-04]\n",
      " [ -1.63884164e-04  -8.44655005e-05]\n",
      " [  1.00477046e-04  -3.01828550e-05]\n",
      " [  4.83020995e-05  -4.91658357e-05]\n",
      " [ -1.53836634e-04   5.39696375e-05]\n",
      " [  2.38094235e-05  -3.85312887e-05]\n",
      " [ -4.89652666e-05  -7.90368285e-05]\n",
      " [ -4.56344533e-05  -4.07721709e-05]\n",
      " [  2.34209365e-05   6.97458454e-05]\n",
      " [ -5.38171626e-05   2.99334406e-05]\n",
      " [  1.27375271e-04  -1.43864498e-04]\n",
      " [  1.47724199e-06  -7.95332089e-05]\n",
      " [ -5.41440058e-05  -8.08247278e-05]\n",
      " [ -2.71578447e-05   4.03899285e-05]\n",
      " [ -2.10209764e-05   1.51361077e-04]\n",
      " [  1.48144507e-04   3.71380993e-05]\n",
      " [  7.16093200e-05   1.17984819e-05]\n",
      " [ -1.27244799e-04  -9.79288816e-05]\n",
      " [ -1.16801690e-04  -2.62931899e-05]\n",
      " [ -3.79255434e-05   1.96545501e-04]\n",
      " [ -1.07871805e-04  -2.78692482e-06]\n",
      " [  1.63067103e-04   8.81372252e-05]\n",
      " [ -1.56445196e-04  -3.33248390e-05]\n",
      " [  1.31270805e-04  -1.87994228e-04]\n",
      " [ -1.11868212e-04  -6.86055064e-05]\n",
      " [  1.46782972e-04  -3.09264906e-05]\n",
      " [  9.14198390e-05  -1.96852216e-05]\n",
      " [ -7.13653280e-05  -7.31812033e-05]\n",
      " [ -2.35741550e-06   1.91133891e-04]\n",
      " [  1.41450582e-04   5.79504122e-05]\n",
      " [  9.92580317e-05  -9.83256759e-05]\n",
      " [ -5.32056620e-05  -5.11537473e-05]\n",
      " [  1.21792109e-04   4.35123802e-05]\n",
      " [  2.45666597e-05  -3.20910440e-05]\n",
      " [  3.05595422e-05  -3.11991789e-05]\n",
      " [  1.02639329e-04   1.12701498e-04]\n",
      " [  1.85967278e-04   4.08814230e-05]\n",
      " [ -1.55118469e-04   7.83054638e-05]\n",
      " [ -5.83673864e-05   2.96728595e-05]\n",
      " [ -2.35144635e-05  -1.20241690e-04]\n",
      " [  6.75015399e-05   5.99571467e-05]\n",
      " [  6.88475993e-05   9.58959299e-06]\n",
      " [  4.51198066e-05  -6.06252024e-06]\n",
      " [ -1.56614435e-04  -1.13845308e-04]\n",
      " [ -8.52791200e-05   7.31805776e-05]\n",
      " [  4.95811692e-05  -6.87604770e-05]\n",
      " [ -4.37764647e-05   5.41945919e-05]\n",
      " [  5.19308596e-05   5.70362026e-05]\n",
      " [ -7.72217900e-05  -2.49866735e-05]\n",
      " [ -1.11894471e-04  -1.31793186e-05]\n",
      " [ -9.86498053e-05  -3.98312477e-05]\n",
      " [  1.99858623e-04  -1.43836616e-04]\n",
      " [ -4.88714577e-05  -6.64589606e-05]\n",
      " [  1.02737868e-04   1.04221392e-04]\n",
      " [  1.19629920e-04   8.33420709e-05]\n",
      " [ -1.28711472e-05  -2.92591085e-05]\n",
      " [  8.34859020e-06   1.10134846e-04]\n",
      " [  4.09366803e-05   1.71605334e-05]\n",
      " [ -1.29128603e-05   1.36533810e-04]\n",
      " [  2.34034196e-05  -6.73634131e-05]\n",
      " [  1.23927921e-05  -6.72036913e-06]\n",
      " [  3.64981242e-05   3.76670869e-05]\n",
      " [  9.35335629e-06  -1.29456603e-04]\n",
      " [  5.22777736e-05  -3.99788696e-05]\n",
      " [ -1.64935846e-04   4.30133659e-05]\n",
      " [  3.71858732e-05   5.82019893e-05]\n",
      " [ -1.19186216e-05  -1.24401966e-04]\n",
      " [  9.49466121e-05  -4.99331436e-05]\n",
      " [ -5.61174129e-05  -1.52085224e-04]\n",
      " [  1.68616214e-04  -6.23907836e-05]\n",
      " [  8.82375098e-05   8.65704133e-05]\n",
      " [  6.82342943e-06  -2.25992139e-07]\n",
      " [ -1.32559901e-04   6.73007016e-05]\n",
      " [ -2.79039705e-05   9.06705682e-05]\n",
      " [  3.08588860e-05   9.84851431e-05]\n",
      " [ -5.46260817e-05   1.61085671e-04]\n",
      " [  7.96390377e-05  -2.99807980e-05]\n",
      " [ -4.73842811e-05   1.77778566e-04]\n",
      " [ -6.82405516e-06  -1.19270080e-04]\n",
      " [ -1.42112636e-04   9.28374211e-05]]\n"
     ]
    }
   ],
   "source": [
    "# BEFORE the model has been run, ie. not yet trained\n",
    "# display weights\n",
    "w_86_2 = sess.run(weights)    \n",
    "print w_86_2 \n",
    "\n",
    "# Expect something like this (small numbers e-05): \n",
    "# [[ -6.66152628e-05  -6.49469657e-05]\n",
    "#  [  2.86067752e-05   3.27789494e-05]\n",
    "#  [  4.73170294e-05   1.85125769e-04]\n",
    "#  [ -6.42955492e-05   4.16024632e-05]\n",
    "#  [ -1.54488771e-05  -2.10903818e-05]\n",
    "#  [  4.62506796e-05  -2.98624745e-05]\n",
    "#  [ -5.35508079e-05  -1.30856875e-04]\n",
    "#  [ -1.70812025e-04   1.33106529e-04]\n",
    "#  [ -1.45097118e-04  -1.80459567e-04]\n",
    "#  [  1.02448161e-04   8.27739277e-05]\n",
    "#  [ -1.33277281e-04  -4.04360726e-05]\n",
    "#  [ -1.36186543e-04   8.62382149e-05]\n",
    "#  [  2.80324894e-05  -2.20580205e-05]\n",
    "#  [ -4.52000713e-05   2.54859442e-05]\n",
    "#  [ -6.20259525e-05  -6.95227573e-05]\n",
    "#  [  1.68935469e-04  -4.03221093e-05]\n",
    "#  [ -9.51008842e-05   4.10227585e-05]\n",
    "#  [ -5.90909331e-05  -9.20566745e-05]]"
   ]
  },
  {
   "cell_type": "markdown",
   "metadata": {},
   "source": [
    "We'll train our model in the following snippet. The approach of TensorFlow to executing graph operations allows fine-grained control over the process. Any operation you provide to the session as part of the run operation will be executed and the results returned. You can provide a list of multiple operations.\n",
    "\n",
    "You'll train the model over 30,000 iterations using the full dataset each time. Every thousandth iteration we'll assess the accuracy of the model on the training data to assess progress."
   ]
  },
  {
   "cell_type": "code",
   "execution_count": 70,
   "metadata": {
    "collapsed": false
   },
   "outputs": [
    {
     "name": "stdout",
     "output_type": "stream",
     "text": [
      "5000 1.0\n",
      "10000 1.0\n",
      "15000 1.0\n",
      "20000 1.0\n",
      "25000 1.0\n",
      "30000 1.0\n"
     ]
    }
   ],
   "source": [
    "correct_prediction = tf.equal(tf.argmax(model, 1), tf.argmax(actual_classes, 1))\n",
    "accuracy = tf.reduce_mean(tf.cast(correct_prediction, \"float\"))\n",
    "\n",
    "for i in range(1, 30001):\n",
    "  sess.run(\n",
    "    training_step, \n",
    "    feed_dict={\n",
    "      feature_data: training_predictors_tf.values, \n",
    "      actual_classes: training_classes_tf.values.reshape(len(training_classes_tf.values), 2)\n",
    "    }\n",
    "  )\n",
    "  if i%5000 == 0:\n",
    "    print i, sess.run(\n",
    "      accuracy,\n",
    "      feed_dict={\n",
    "        feature_data: training_predictors_tf.values, \n",
    "        actual_classes: training_classes_tf.values.reshape(len(training_classes_tf.values), 2)\n",
    "      }\n",
    "    )\n",
    "    \n",
    "# Expect:\n",
    "# 5000 0.603862\n",
    "# 10000 0.630778\n",
    "# 15000 0.639555\n",
    "# 20000 0.654184\n",
    "# 25000 0.660035\n",
    "# 30000 0.666764\n",
    "\n",
    "# After using < -0.5% and > +0.5%\n",
    "# 5000 0.928906\n",
    "# 10000 0.928906\n",
    "# 15000 0.928906\n",
    "# 20000 0.928906\n",
    "# 25000 0.928906\n",
    "# 30000 0.928906"
   ]
  },
  {
   "cell_type": "markdown",
   "metadata": {},
   "source": [
    "Using all data:\n",
    "Accuracy  66.6% on training data\n",
    "That is OK, better than random."
   ]
  },
  {
   "cell_type": "markdown",
   "metadata": {},
   "source": [
    "After noise removed, We get 77 % accuracy on training data."
   ]
  },
  {
   "cell_type": "markdown",
   "metadata": {},
   "source": [
    "## Accuracy on test data"
   ]
  },
  {
   "cell_type": "code",
   "execution_count": 71,
   "metadata": {
    "collapsed": false
   },
   "outputs": [
    {
     "ename": "ZeroDivisionError",
     "evalue": "float division by zero",
     "output_type": "error",
     "traceback": [
      "\u001b[1;31m\u001b[0m",
      "\u001b[1;31mZeroDivisionError\u001b[0mTraceback (most recent call last)",
      "\u001b[1;32m<ipython-input-71-53783f2ac90a>\u001b[0m in \u001b[0;36m<module>\u001b[1;34m()\u001b[0m\n\u001b[0;32m      4\u001b[0m }\n\u001b[0;32m      5\u001b[0m \u001b[1;33m\u001b[0m\u001b[0m\n\u001b[1;32m----> 6\u001b[1;33m \u001b[0mtf_confusion_metrics\u001b[0m\u001b[1;33m(\u001b[0m\u001b[0mmodel\u001b[0m\u001b[1;33m,\u001b[0m \u001b[0mactual_classes\u001b[0m\u001b[1;33m,\u001b[0m \u001b[0msess\u001b[0m\u001b[1;33m,\u001b[0m \u001b[0mfeed_dict\u001b[0m\u001b[1;33m)\u001b[0m\u001b[1;33m\u001b[0m\u001b[0m\n\u001b[0m\u001b[0;32m      7\u001b[0m \u001b[1;33m\u001b[0m\u001b[0m\n\u001b[0;32m      8\u001b[0m \u001b[1;31m# Precision =  0.541176470588\u001b[0m\u001b[1;33m\u001b[0m\u001b[1;33m\u001b[0m\u001b[0m\n",
      "\u001b[1;32m<ipython-input-63-614b117b4e07>\u001b[0m in \u001b[0;36mtf_confusion_metrics\u001b[1;34m(model, actual_classes, session, feed_dict)\u001b[0m\n\u001b[0;32m     53\u001b[0m     )\n\u001b[0;32m     54\u001b[0m \u001b[1;33m\u001b[0m\u001b[0m\n\u001b[1;32m---> 55\u001b[1;33m   \u001b[0mtpr\u001b[0m \u001b[1;33m=\u001b[0m \u001b[0mfloat\u001b[0m\u001b[1;33m(\u001b[0m\u001b[0mtp\u001b[0m\u001b[1;33m)\u001b[0m\u001b[1;33m/\u001b[0m\u001b[1;33m(\u001b[0m\u001b[0mfloat\u001b[0m\u001b[1;33m(\u001b[0m\u001b[0mtp\u001b[0m\u001b[1;33m)\u001b[0m \u001b[1;33m+\u001b[0m \u001b[0mfloat\u001b[0m\u001b[1;33m(\u001b[0m\u001b[0mfn\u001b[0m\u001b[1;33m)\u001b[0m\u001b[1;33m)\u001b[0m\u001b[1;33m\u001b[0m\u001b[0m\n\u001b[0m\u001b[0;32m     56\u001b[0m   \u001b[0mfpr\u001b[0m \u001b[1;33m=\u001b[0m \u001b[0mfloat\u001b[0m\u001b[1;33m(\u001b[0m\u001b[0mfp\u001b[0m\u001b[1;33m)\u001b[0m\u001b[1;33m/\u001b[0m\u001b[1;33m(\u001b[0m\u001b[0mfloat\u001b[0m\u001b[1;33m(\u001b[0m\u001b[0mtp\u001b[0m\u001b[1;33m)\u001b[0m \u001b[1;33m+\u001b[0m \u001b[0mfloat\u001b[0m\u001b[1;33m(\u001b[0m\u001b[0mfn\u001b[0m\u001b[1;33m)\u001b[0m\u001b[1;33m)\u001b[0m\u001b[1;33m\u001b[0m\u001b[0m\n\u001b[0;32m     57\u001b[0m \u001b[1;33m\u001b[0m\u001b[0m\n",
      "\u001b[1;31mZeroDivisionError\u001b[0m: float division by zero"
     ]
    }
   ],
   "source": [
    "feed_dict= {\n",
    "  feature_data: test_predictors_tf.values,\n",
    "  actual_classes: test_classes_tf.values.reshape(len(test_classes_tf.values), 2)\n",
    "}\n",
    "\n",
    "tf_confusion_metrics(model, actual_classes, sess, feed_dict)\n",
    "\n",
    "# Precision =  0.541176470588\n",
    "# Recall =  0.555555555556\n",
    "# F1 Score =  0.548271752086\n",
    "# Accuracy =  0.556725146199\n",
    "\n",
    "# After removing noise\n",
    "# Precision =  0.684210526316\n",
    "# Recall =  0.534246575342\n",
    "# F1 Score =  0.6\n",
    "# Accuracy =  0.636363636364"
   ]
  },
  {
   "cell_type": "markdown",
   "metadata": {},
   "source": [
    "Using all data, Accuracy 55.6% on test data.\n",
    "After removing noise, Accuracy 64% on test data."
   ]
  },
  {
   "cell_type": "code",
   "execution_count": null,
   "metadata": {
    "collapsed": false
   },
   "outputs": [],
   "source": [
    "# AFTER the model has been run, ie. trained\n",
    "# display weights\n",
    "w_86_2 = sess.run(weights)    \n",
    "print w_86_2 "
   ]
  },
  {
   "cell_type": "code",
   "execution_count": null,
   "metadata": {
    "collapsed": false
   },
   "outputs": [],
   "source": [
    "# grab a sample input row from the test set\n",
    "sample_input_1_86 = test_predictors_tf[:10]\n",
    "# HTML(pd.DataFrame(sample_input_1_86).to_html())\n",
    "sample_input_1_86"
   ]
  },
  {
   "cell_type": "code",
   "execution_count": null,
   "metadata": {
    "collapsed": false
   },
   "outputs": [],
   "source": [
    "sample_input_1_86.describe()"
   ]
  },
  {
   "cell_type": "code",
   "execution_count": null,
   "metadata": {
    "collapsed": false
   },
   "outputs": [],
   "source": [
    "# use the weights from our model to make a prediction\n",
    "output_1_2 = np.dot(sample_input_1_86, w_86_2) > 0\n",
    "print output_1_2\n",
    "usdmxn_up = output_1_2[0,0]\n",
    "usdmxn_dn = output_1_2[0,1]\n",
    "if usdmxn_up >= usdmxn_dn:\n",
    "  usdmxn_pred = 1 # up\n",
    "else:\n",
    "  usdmxn_pred = -1 # down\n",
    "print 'usdmxn_pred = '+ str(usdmxn_pred)"
   ]
  },
  {
   "cell_type": "markdown",
   "metadata": {},
   "source": [
    "# Model 2: Neural Network (NN): Feed-Forward with 2 Hidden Layers"
   ]
  },
  {
   "cell_type": "markdown",
   "metadata": {},
   "source": [
    "You'll now build a proper feed-forward neural net with two hidden layers."
   ]
  },
  {
   "cell_type": "code",
   "execution_count": null,
   "metadata": {
    "collapsed": true
   },
   "outputs": [],
   "source": [
    "# tensorflow session new\n",
    "sess1 = tf.Session()"
   ]
  },
  {
   "cell_type": "code",
   "execution_count": null,
   "metadata": {
    "collapsed": false
   },
   "outputs": [],
   "source": [
    "# inputs\n",
    "num_predictors = len(training_predictors_tf.columns)\n",
    "print 'num_predictors=' + str(num_predictors)\n",
    "\n",
    "# outputs\n",
    "num_classes = len(training_classes_tf.columns)\n",
    "print 'num_classes=' + str(num_classes)"
   ]
  },
  {
   "cell_type": "code",
   "execution_count": null,
   "metadata": {
    "collapsed": true
   },
   "outputs": [],
   "source": [
    "feature_data = tf.placeholder(\"float\", [None, num_predictors])\n",
    "actual_classes = tf.placeholder(\"float\", [None, 2])"
   ]
  },
  {
   "cell_type": "code",
   "execution_count": null,
   "metadata": {
    "collapsed": false
   },
   "outputs": [],
   "source": [
    "# layer 1\n",
    "i_01_in = 86\n",
    "i_01_out = 100\n",
    "weights1 = tf.Variable(tf.truncated_normal([i_01_in, i_01_out], stddev=0.0001))\n",
    "biases1 = tf.Variable(tf.ones([i_01_out]))"
   ]
  },
  {
   "cell_type": "code",
   "execution_count": null,
   "metadata": {
    "collapsed": true
   },
   "outputs": [],
   "source": [
    "# layer 2\n",
    "i_02_in = i_01_out\n",
    "i_02_out = 25\n",
    "weights2 = tf.Variable(tf.truncated_normal([i_02_in, i_02_out], stddev=0.0001))\n",
    "biases2 = tf.Variable(tf.ones([i_02_out]))"
   ]
  },
  {
   "cell_type": "code",
   "execution_count": null,
   "metadata": {
    "collapsed": true
   },
   "outputs": [],
   "source": [
    "# layer 3\n",
    "i_03_in = i_02_out\n",
    "i_03_out = 2\n",
    "weights3 = tf.Variable(tf.truncated_normal([i_03_in, i_03_out], stddev=0.0001))\n",
    "biases3 = tf.Variable(tf.ones([i_03_out]))"
   ]
  },
  {
   "cell_type": "code",
   "execution_count": null,
   "metadata": {
    "collapsed": false
   },
   "outputs": [],
   "source": [
    "# neural net\n",
    "hidden_layer_0 = feature_data\n",
    "hidden_layer_1 = tf.nn.relu(tf.matmul(hidden_layer_0, weights1) + biases1)\n",
    "hidden_layer_2 = tf.nn.relu(tf.matmul(hidden_layer_1, weights2) + biases2)\n",
    "hidden_layer_3 = tf.matmul(hidden_layer_2, weights3) + biases3\n",
    "\n",
    "model = tf.nn.softmax(hidden_layer_3)\n",
    "\n",
    "cost = -tf.reduce_sum(actual_classes*tf.log(model))\n",
    "\n",
    "train_op1 = tf.train.AdamOptimizer(learning_rate=0.0001).minimize(cost)\n",
    "\n",
    "init = tf.initialize_all_variables()\n",
    "sess1.run(init)"
   ]
  },
  {
   "cell_type": "code",
   "execution_count": null,
   "metadata": {
    "collapsed": false
   },
   "outputs": [],
   "source": [
    "# BEFORE the model has been run, ie. trained\n",
    "nn_e1 = sess1.run(biases1)    \n",
    "# HTML(pd.DataFrame(nn_e1).transpose().to_html())\n",
    "pd.DataFrame(nn_e1).transpose()\n"
   ]
  },
  {
   "cell_type": "code",
   "execution_count": null,
   "metadata": {
    "collapsed": false
   },
   "outputs": [],
   "source": [
    "# BEFORE the model has been run, ie. trained\n",
    "nn_w1 = sess1.run(weights1)    \n",
    "# HTML(pd.DataFrame(nn_w1).to_html())\n",
    "pd.DataFrame(nn_w1)\n"
   ]
  },
  {
   "cell_type": "code",
   "execution_count": null,
   "metadata": {
    "collapsed": false
   },
   "outputs": [],
   "source": [
    "# BEFORE the model has been run, ie. trained\n",
    "nn_e2 = sess1.run(biases2)    \n",
    "# HTML(pd.DataFrame(nn_e2).transpose().to_html())\n",
    "pd.DataFrame(nn_e2).transpose()\n"
   ]
  },
  {
   "cell_type": "code",
   "execution_count": null,
   "metadata": {
    "collapsed": false
   },
   "outputs": [],
   "source": [
    "# BEFORE the model has been run, ie. trained\n",
    "# display weights\n",
    "nn_w2 = sess1.run(weights2)    \n",
    "# HTML(pd.DataFrame(nn_w2).to_html())\n",
    "pd.DataFrame(nn_w2)\n"
   ]
  },
  {
   "cell_type": "code",
   "execution_count": null,
   "metadata": {
    "collapsed": false
   },
   "outputs": [],
   "source": [
    "# BEFORE the model has been run, ie. trained\n",
    "nn_e3 = sess1.run(biases3)    \n",
    "# HTML(pd.DataFrame(nn_e3).transpose().to_html())\n",
    "pd.DataFrame(nn_e3).transpose()\n"
   ]
  },
  {
   "cell_type": "code",
   "execution_count": null,
   "metadata": {
    "collapsed": false
   },
   "outputs": [],
   "source": [
    "# BEFORE the model has been run, ie. trained\n",
    "# display weights\n",
    "nn_w3 = sess1.run(weights3)    \n",
    "# HTML(pd.DataFrame(nn_w3).to_html())\n",
    "pd.DataFrame(nn_w3)\n"
   ]
  },
  {
   "cell_type": "markdown",
   "metadata": {},
   "source": [
    "Again, you'll train the model over 10,000 iterations using the full dataset each time. Every thousandth iteration, you'll assess the accuracy of the model on the training data to assess progress."
   ]
  },
  {
   "cell_type": "code",
   "execution_count": null,
   "metadata": {
    "collapsed": false
   },
   "outputs": [],
   "source": [
    "correct_prediction = tf.equal(tf.argmax(model, 1), tf.argmax(actual_classes, 1))\n",
    "accuracy = tf.reduce_mean(tf.cast(correct_prediction, \"float\"))\n",
    "num_iterations = 10001\n",
    "num_iterations_until_diaplay = 1000\n",
    "\n",
    "for i in range(1, num_iterations):\n",
    "  sess1.run(\n",
    "    train_op1, \n",
    "    feed_dict={\n",
    "      feature_data: training_predictors_tf.values, \n",
    "      actual_classes: training_classes_tf.values.reshape(len(training_classes_tf.values), 2)\n",
    "    }\n",
    "  )\n",
    "  if i%num_iterations_until_diaplay == 0:\n",
    "    print i, sess1.run(\n",
    "      accuracy,\n",
    "      feed_dict={\n",
    "        feature_data: training_predictors_tf.values, \n",
    "        actual_classes: training_classes_tf.values.reshape(len(training_classes_tf.values), 2)\n",
    "      }\n",
    "    )\n",
    "  \n",
    "  \n",
    "  \n",
    "# 1000 0.67086\n",
    "# 2000 0.765652\n",
    "# 3000 0.828847\n",
    "# 4000 0.890287\n",
    "# 5000 0.937975\n",
    "# 6000 0.956115\n",
    "# 7000 0.971913\n",
    "# 8000 0.979813\n",
    "# 9000 0.985079\n",
    "# 10000 0.987712\n",
    "\n",
    "# 5000 0.93505\n",
    "# 10000 0.988297\n",
    "# 15000 0.491223 # overfit?\n",
    "# 20000 0.491223\n",
    "# 25000 0.491223\n",
    "# 30000 0.491223\n"
   ]
  },
  {
   "cell_type": "markdown",
   "metadata": {},
   "source": [
    "A significant improvement in accuracy with the training data shows that the hidden layers are adding additional capacity for learning to the model.\n",
    "\n",
    "Looking at precision, recall, and accuracy, you can see a measurable improvement in performance, but certainly not a [step function](https://wikipedia.org/wiki/Step_function). This indicates that we're likely reaching the limits of this relatively simple feature set."
   ]
  },
  {
   "cell_type": "code",
   "execution_count": null,
   "metadata": {
    "collapsed": false
   },
   "outputs": [],
   "source": [
    "feed_dict= {\n",
    "  feature_data: test_predictors_tf.values,\n",
    "  actual_classes: test_classes_tf.values.reshape(len(test_classes_tf.values), 2)\n",
    "}\n",
    "\n",
    "tf_confusion_metrics(model, actual_classes, sess1, feed_dict)\n",
    "\n",
    "# Precision =  0.936768149883\n",
    "# Recall =  0.966183574879\n",
    "# F1 Score =  0.951248513674\n",
    "# Accuracy =  0.952046783626\n"
   ]
  },
  {
   "cell_type": "code",
   "execution_count": null,
   "metadata": {
    "collapsed": false
   },
   "outputs": [],
   "source": [
    "# AFTER the model has been run, ie. trained\n",
    "nn_e1 = sess1.run(biases1)    \n",
    "# HTML(pd.DataFrame(nn_e1).transpose().to_html())\n",
    "pd.DataFrame(nn_e1).transpose()\n"
   ]
  },
  {
   "cell_type": "code",
   "execution_count": null,
   "metadata": {
    "collapsed": false
   },
   "outputs": [],
   "source": [
    "# AFTER the model has been run, ie. trained\n",
    "# display weights\n",
    "nn_w1 = sess1.run(weights1)    \n",
    "# HTML(pd.DataFrame(nn_w1).to_html())\n",
    "pd.DataFrame(nn_w1)\n"
   ]
  },
  {
   "cell_type": "code",
   "execution_count": null,
   "metadata": {
    "collapsed": false
   },
   "outputs": [],
   "source": [
    "# AFTER the model has been run, ie. trained\n",
    "nn_e2 = sess1.run(biases2)    \n",
    "# HTML(pd.DataFrame(nn_e2).transpose().to_html())\n",
    "pd.DataFrame(nn_e2).transpose()\n"
   ]
  },
  {
   "cell_type": "code",
   "execution_count": null,
   "metadata": {
    "collapsed": false
   },
   "outputs": [],
   "source": [
    "# AFTER the model has been run, ie. trained\n",
    "# display weights\n",
    "nn_w2 = sess1.run(weights2)    \n",
    "# HTML(pd.DataFrame(nn_w2).to_html())\n",
    "pd.DataFrame(nn_w2)\n"
   ]
  },
  {
   "cell_type": "code",
   "execution_count": null,
   "metadata": {
    "collapsed": false
   },
   "outputs": [],
   "source": [
    "# AFTER the model has been run, ie. trained\n",
    "nn_e3 = sess1.run(biases3)    \n",
    "# HTML(pd.DataFrame(nn_e3).transpose().to_html())\n",
    "pd.DataFrame(nn_e3).transpose()\n"
   ]
  },
  {
   "cell_type": "code",
   "execution_count": null,
   "metadata": {
    "collapsed": false
   },
   "outputs": [],
   "source": [
    "# AFTER the model has been run, ie. trained\n",
    "# display weights\n",
    "nn_w3 = sess1.run(weights3)    \n",
    "# HTML(pd.DataFrame(nn_w3).to_html())\n",
    "pd.DataFrame(nn_w3)\n"
   ]
  },
  {
   "cell_type": "code",
   "execution_count": null,
   "metadata": {
    "collapsed": false
   },
   "outputs": [],
   "source": [
    "# # AFTER the model has been run, ie. trained\n",
    "# nn_hl3 = sess1.run(hidden_layer_3)    \n",
    "# print nn_hl3\n",
    "# # HTML(pd.DataFrame(nn_hl3).to_html())\n",
    "# pd.DataFrame(nn_hl3)\n"
   ]
  },
  {
   "cell_type": "markdown",
   "metadata": {},
   "source": [
    "## Conclusion"
   ]
  },
  {
   "cell_type": "markdown",
   "metadata": {},
   "source": [
    "You've covered a lot of ground. You moved from sourcing five years of financial time-series data, to munging that data into a more suitable form. You explored and visualized that data with exploratory data analysis and then decided on a machine learning model and the features for that model. You engineered those features, built a binary classifier in TensorFlow, and analyzed its performance. You built a feed forward neural net with two hidden layers in TensorFlow and analyzed its performance.\n",
    "\n",
    "How did the technology fare? It should take most people 1.5 to 3 hours to extract the juice from this solution, and none of that time is spent waiting for infrastructure or software; it's spent reading and thinking. In many organizations, it can take anywhere from days to months to do this sort of data analysis, depending on whether you need to procure any hardware. And you didn't need to do anything with infrastructure or additional software. Rather, you used a web-based console to direct GCP to set up systems on your behalf, which it did—fully managed, maintained, and supported—freeing you up to spend your time analyzing. \n",
    "\n",
    "It was also cost effective. If you took your time with this solution and spent three hours to go through it, the cost would be a few pennies. \n",
    "\n",
    "Cloud Datalab worked admirably, too. iPython/Jupyter has always been a great platform for interactive, iterative work and a fully-managed version of that platform on GCP, with connectors to other GCP technologies such as BigQuery and Google Cloud Storage, is a force multiplier for your analysis needs.  If you haven't used iPython before, this solution might have been eye opening, for you. If you're already familiar with iPython, then you'll love the connectors to other GCP technologies.\n",
    "\n",
    "Of course, R and Matlab are popular tools in machine learning, and we've made no mention either in this solution. Neither R nor Matlab are available as managed services on GCP. Both can be hosted in GCP and accessed through a cloud-friendly, web frontend.\n",
    "\n",
    "TensorFlow is a special piece of technology. It is expressive, performs well, and comes with the weight of Google's machine learning history and expertise to back it up and support it. We've only scratched the surface, but you can already see that within a handful of lines of code we've been able to write two models. Neither of them is cutting edge, by design, but neither of them is trivial either. With some additional tuning they would suit a whole spectrum of machine learning tasks. \n",
    "\n",
    "Finally, how did we do with the data analysis? We did well: over 70% accuracy in predicting the close of the S&P 500 is the highest we've seen achieved on this dataset, so with few steps and a few lines of code we've produced a full-on machine learning model. The reason for the relatively modest accuracy achieved is the dataset itself; there isn't enough signal there to do significantly better. But 7 times out of 10, we were able to correctly determine if the S&P 500 index would close up or down on the day, and that's objectively good."
   ]
  },
  {
   "cell_type": "markdown",
   "metadata": {},
   "source": [
    "## Cleanup"
   ]
  },
  {
   "cell_type": "markdown",
   "metadata": {},
   "source": [
    "**When you're finished, shut down the managed VM you used for Cloud Datalab to avoid incurring costs.**"
   ]
  }
 ],
 "metadata": {
  "kernelspec": {
   "display_name": "Python 2",
   "language": "python",
   "name": "python2"
  },
  "language_info": {
   "codemirror_mode": {
    "name": "ipython",
    "version": 2
   },
   "file_extension": ".py",
   "mimetype": "text/x-python",
   "name": "python",
   "nbconvert_exporter": "python",
   "pygments_lexer": "ipython2",
   "version": "2.7.9"
  }
 },
 "nbformat": 4,
 "nbformat_minor": 0
}
